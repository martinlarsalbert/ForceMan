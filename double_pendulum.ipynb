{
 "cells": [
  {
   "cell_type": "markdown",
   "metadata": {},
   "source": [
    "# Double Pendulum with Python package PyDy"
   ]
  },
  {
   "cell_type": "code",
   "execution_count": 12,
   "metadata": {},
   "outputs": [
    {
     "data": {
      "text/html": [
       "<div id=\"scene0\"><div id=\"glowscript\" class=\"glowscript\"></div></div>"
      ],
      "text/plain": [
       "<IPython.core.display.HTML object>"
      ]
     },
     "metadata": {},
     "output_type": "display_data"
    },
    {
     "data": {
      "application/javascript": [
       "require.undef(\"nbextensions/glow.1.0.min\");"
      ],
      "text/plain": [
       "<IPython.core.display.Javascript object>"
      ]
     },
     "metadata": {},
     "output_type": "display_data"
    },
    {
     "data": {
      "application/javascript": [
       "require.undef(\"nbextensions/jquery-ui.custom.min\");"
      ],
      "text/plain": [
       "<IPython.core.display.Javascript object>"
      ]
     },
     "metadata": {},
     "output_type": "display_data"
    },
    {
     "data": {
      "application/javascript": [
       "require.undef(\"nbextensions/glow.1.1.min\");"
      ],
      "text/plain": [
       "<IPython.core.display.Javascript object>"
      ]
     },
     "metadata": {},
     "output_type": "display_data"
    },
    {
     "data": {
      "application/javascript": [
       "require.undef(\"nbextensions/glow.1.2.min\");"
      ],
      "text/plain": [
       "<IPython.core.display.Javascript object>"
      ]
     },
     "metadata": {},
     "output_type": "display_data"
    },
    {
     "data": {
      "application/javascript": [
       "require.undef(\"nbextensions/glow.2.0.min\");"
      ],
      "text/plain": [
       "<IPython.core.display.Javascript object>"
      ]
     },
     "metadata": {},
     "output_type": "display_data"
    },
    {
     "data": {
      "application/javascript": [
       "require.undef(\"nbextensions/glowcomm\");"
      ],
      "text/plain": [
       "<IPython.core.display.Javascript object>"
      ]
     },
     "metadata": {},
     "output_type": "display_data"
    },
    {
     "data": {
      "application/javascript": [
       "require.undef(\"nbextensions/ivglowcomm\");"
      ],
      "text/plain": [
       "<IPython.core.display.Javascript object>"
      ]
     },
     "metadata": {},
     "output_type": "display_data"
    },
    {
     "data": {
      "application/javascript": [
       "require([\"nbextensions/ivglowcomm\"], function(){console.log(\"ivisual glowcomm loaded\");})"
      ],
      "text/plain": [
       "<IPython.core.display.Javascript object>"
      ]
     },
     "metadata": {},
     "output_type": "display_data"
    }
   ],
   "source": [
    "from __future__ import print_function, division\n",
    "from sympy import symbols, simplify\n",
    "from sympy.physics.mechanics import dynamicsymbols, ReferenceFrame, Point\n",
    "from sympy.physics.vector import init_vprinting\n",
    "init_vprinting(use_latex='mathjax', pretty_print=False)\n",
    "from sympy.physics.mechanics import inertia, RigidBody\n",
    "from sympy import trigsimp\n",
    "from sympy.physics.mechanics import KanesMethod\n",
    "from numpy import deg2rad, rad2deg, array, zeros, linspace\n",
    "from scipy.integrate import odeint\n",
    "from pydy.codegen.ode_function_generators import generate_ode_function\n",
    "import matplotlib.pyplot as plt\n",
    "import ipywidgets as widgets\n",
    "from ivisual import *\n",
    "from IPython.display import display, clear_output"
   ]
  },
  {
   "cell_type": "markdown",
   "metadata": {},
   "source": [
    "## Reference frames"
   ]
  },
  {
   "cell_type": "code",
   "execution_count": 1,
   "metadata": {},
   "outputs": [
    {
     "name": "stderr",
     "output_type": "stream",
     "text": [
      "(MainThread) backend module://ipykernel.pylab.backend_inline version unknown\n"
     ]
    },
    {
     "name": "stdout",
     "output_type": "stream",
     "text": [
      "ERROR! Session/line number was not unique in database. History logging moved to new session 435\n"
     ]
    }
   ],
   "source": [
    "inertial_frame = ReferenceFrame('I')\n",
    "\n",
    "pendulum_frames = [ReferenceFrame('P0'),\n",
    "                   ReferenceFrame('P1')]\n"
   ]
  },
  {
   "cell_type": "code",
   "execution_count": 2,
   "metadata": {},
   "outputs": [],
   "source": [
    "psis = [dynamicsymbols('psi0'), #Pendulum1 angle\n",
    "        dynamicsymbols('psi1')] #Pendulum2 angle\n"
   ]
  },
  {
   "cell_type": "code",
   "execution_count": 3,
   "metadata": {},
   "outputs": [],
   "source": [
    "pendulum_frames[0].orient(inertial_frame, 'Axis', (psis[0], inertial_frame.z))\n",
    "pendulum_frames[1].orient(pendulum_frames[0], 'Axis', (psis[1], pendulum_frames[0].z))\n"
   ]
  },
  {
   "cell_type": "code",
   "execution_count": 4,
   "metadata": {},
   "outputs": [
    {
     "data": {
      "text/latex": [
       "$$\\left[\\begin{matrix}\\operatorname{cos}\\left(\\psi_{0}\\right) & \\operatorname{sin}\\left(\\psi_{0}\\right) & 0\\\\- \\operatorname{sin}\\left(\\psi_{0}\\right) & \\operatorname{cos}\\left(\\psi_{0}\\right) & 0\\\\0 & 0 & 1\\end{matrix}\\right]$$"
      ],
      "text/plain": [
       "Matrix([\n",
       "[ cos(psi0), sin(psi0), 0],\n",
       "[-sin(psi0), cos(psi0), 0],\n",
       "[         0,         0, 1]])"
      ]
     },
     "execution_count": 4,
     "metadata": {},
     "output_type": "execute_result"
    }
   ],
   "source": [
    "pendulum_frames[0].dcm(inertial_frame)"
   ]
  },
  {
   "cell_type": "code",
   "execution_count": 5,
   "metadata": {},
   "outputs": [
    {
     "data": {
      "text/latex": [
       "$$\\left[\\begin{matrix}\\operatorname{cos}\\left(\\psi_{0} + \\psi_{1}\\right) & \\operatorname{sin}\\left(\\psi_{0} + \\psi_{1}\\right) & 0\\\\- \\operatorname{sin}\\left(\\psi_{0} + \\psi_{1}\\right) & \\operatorname{cos}\\left(\\psi_{0} + \\psi_{1}\\right) & 0\\\\0 & 0 & 1\\end{matrix}\\right]$$"
      ],
      "text/plain": [
       "Matrix([\n",
       "[ cos(psi0 + psi1), sin(psi0 + psi1), 0],\n",
       "[-sin(psi0 + psi1), cos(psi0 + psi1), 0],\n",
       "[                0,                0, 1]])"
      ]
     },
     "execution_count": 5,
     "metadata": {},
     "output_type": "execute_result"
    }
   ],
   "source": [
    "simplify(pendulum_frames[1].dcm(inertial_frame))"
   ]
  },
  {
   "cell_type": "markdown",
   "metadata": {},
   "source": [
    "## Define some points"
   ]
  },
  {
   "cell_type": "code",
   "execution_count": 6,
   "metadata": {},
   "outputs": [],
   "source": [
    "attachment = Point('A')\n",
    "\n",
    "Lcgs = [symbols('Lcg0'),\n",
    "       symbols('Lcg1')]\n",
    "\n",
    "#end_points = [symbols('end0'),\n",
    "#              symbols('end1')]\n",
    "\n",
    "pendulum_lengths = [symbols('L0'),\n",
    "                    symbols('L1')]\n",
    "    \n",
    "\n",
    "pendulum_mass_centers = [Point('cg0'),\n",
    "                        Point('cg1')]\n",
    "\n",
    "pendulum_end_points = [Point('end0'),\n",
    "                       Point('end1')]\n",
    "\n",
    "pendulum_end_points[0].set_pos(attachment, pendulum_lengths[0]*pendulum_frames[0].y)\n",
    "pendulum_end_points[1].set_pos(pendulum_end_points[0], pendulum_lengths[1]*pendulum_frames[1].y)\n",
    "\n",
    "pendulum_mass_centers[0].set_pos(attachment, Lcgs[0]*pendulum_frames[0].y)\n",
    "pendulum_mass_centers[1].set_pos(pendulum_end_points[0], Lcgs[1]*pendulum_frames[1].y)\n"
   ]
  },
  {
   "cell_type": "markdown",
   "metadata": {},
   "source": [
    "## Kinematical Differential Equations"
   ]
  },
  {
   "cell_type": "code",
   "execution_count": 7,
   "metadata": {},
   "outputs": [],
   "source": [
    "rs = [dynamicsymbols('r0'), # Pendulum0 rate\n",
    "      dynamicsymbols('r1')] # Pendulum1 rate\n",
    "\n"
   ]
  },
  {
   "cell_type": "code",
   "execution_count": 8,
   "metadata": {},
   "outputs": [
    {
     "data": {
      "text/latex": [
       "$$\\left [ r_{0} - \\dot{\\psi}_{0}, \\quad r_{1} - \\dot{\\psi}_{1}\\right ]$$"
      ],
      "text/plain": [
       "[r0 - psi0', r1 - psi1']"
      ]
     },
     "execution_count": 8,
     "metadata": {},
     "output_type": "execute_result"
    }
   ],
   "source": [
    "kinematical_differential_equations = [rs[0] - psis[0].diff(),\n",
    "                                      rs[1] - psis[1].diff()]\n",
    "kinematical_differential_equations"
   ]
  },
  {
   "cell_type": "markdown",
   "metadata": {},
   "source": [
    "## Angular Velocities"
   ]
  },
  {
   "cell_type": "code",
   "execution_count": 9,
   "metadata": {},
   "outputs": [],
   "source": [
    "pendulum_frames[0].set_ang_vel(inertial_frame,rs[0]*inertial_frame.z)\n",
    "pendulum_frames[1].set_ang_vel(pendulum_frames[0],rs[1]*inertial_frame.z)\n"
   ]
  },
  {
   "cell_type": "code",
   "execution_count": 10,
   "metadata": {},
   "outputs": [
    {
     "data": {
      "text/latex": [
       "$$r_{0}\\mathbf{\\hat{i}_z}$$"
      ],
      "text/plain": [
       "r0*I.z"
      ]
     },
     "execution_count": 10,
     "metadata": {},
     "output_type": "execute_result"
    }
   ],
   "source": [
    "pendulum_frames[0].ang_vel_in(inertial_frame)"
   ]
  },
  {
   "cell_type": "code",
   "execution_count": 11,
   "metadata": {},
   "outputs": [
    {
     "data": {
      "text/latex": [
       "$$(r_{0} + r_{1})\\mathbf{\\hat{i}_z}$$"
      ],
      "text/plain": [
       "(r0 + r1)*I.z"
      ]
     },
     "execution_count": 11,
     "metadata": {},
     "output_type": "execute_result"
    }
   ],
   "source": [
    "pendulum_frames[1].ang_vel_in(inertial_frame)"
   ]
  },
  {
   "cell_type": "markdown",
   "metadata": {},
   "source": [
    "## Linear Velocities"
   ]
  },
  {
   "cell_type": "code",
   "execution_count": 13,
   "metadata": {},
   "outputs": [],
   "source": [
    "attachment.set_vel(inertial_frame, 0)\n"
   ]
  },
  {
   "cell_type": "code",
   "execution_count": 14,
   "metadata": {},
   "outputs": [
    {
     "data": {
      "text/latex": [
       "$$-  Lcg_{0} r_{0}\\mathbf{\\hat{p0}_x}$$"
      ],
      "text/plain": [
       "- Lcg0*r0*P0.x"
      ]
     },
     "execution_count": 14,
     "metadata": {},
     "output_type": "execute_result"
    }
   ],
   "source": [
    "pendulum_mass_centers[0].v2pt_theory(attachment, inertial_frame, pendulum_frames[0])\n",
    "pendulum_mass_centers[0].vel(inertial_frame)"
   ]
  },
  {
   "cell_type": "code",
   "execution_count": 15,
   "metadata": {},
   "outputs": [
    {
     "data": {
      "text/latex": [
       "$$-  L_{0} r_{0}\\mathbf{\\hat{p0}_x}$$"
      ],
      "text/plain": [
       "- L0*r0*P0.x"
      ]
     },
     "execution_count": 15,
     "metadata": {},
     "output_type": "execute_result"
    }
   ],
   "source": [
    "pendulum_end_points[0].v2pt_theory(attachment, inertial_frame, pendulum_frames[0])\n",
    "pendulum_end_points[0].vel(inertial_frame)"
   ]
  },
  {
   "cell_type": "code",
   "execution_count": 16,
   "metadata": {},
   "outputs": [
    {
     "data": {
      "text/latex": [
       "$$-  L_{0} r_{0}\\mathbf{\\hat{p0}_x} -  Lcg_{1} \\left(r_{0} + r_{1}\\right)\\mathbf{\\hat{p1}_x}$$"
      ],
      "text/plain": [
       "- L0*r0*P0.x - Lcg1*(r0 + r1)*P1.x"
      ]
     },
     "execution_count": 16,
     "metadata": {},
     "output_type": "execute_result"
    }
   ],
   "source": [
    "pendulum_mass_centers[1].v2pt_theory(pendulum_end_points[0], inertial_frame, pendulum_frames[1])\n",
    "pendulum_mass_centers[1].vel(inertial_frame)"
   ]
  },
  {
   "cell_type": "markdown",
   "metadata": {},
   "source": [
    "## Mass"
   ]
  },
  {
   "cell_type": "code",
   "execution_count": 17,
   "metadata": {},
   "outputs": [],
   "source": [
    "pendulum_masses = [symbols('m_P0'),symbols('m_P1')]"
   ]
  },
  {
   "cell_type": "markdown",
   "metadata": {},
   "source": [
    "## Inertia"
   ]
  },
  {
   "cell_type": "code",
   "execution_count": 101,
   "metadata": {},
   "outputs": [],
   "source": [
    "Izzs = [symbols('I_zz0'),symbols('I_zz1')]"
   ]
  },
  {
   "cell_type": "code",
   "execution_count": 102,
   "metadata": {},
   "outputs": [],
   "source": [
    "pendulum_dyadics = [inertia(pendulum_frames[0], 0, 0, Izzs[0]),\n",
    "                   inertia(pendulum_frames[1], 0, 0, Izzs[1])]"
   ]
  },
  {
   "cell_type": "code",
   "execution_count": 103,
   "metadata": {},
   "outputs": [
    {
     "data": {
      "text/latex": [
       "$$I_{zz0}\\mathbf{\\hat{p0}_z}\\otimes \\mathbf{\\hat{p0}_z}$$"
      ],
      "text/plain": [
       "I_zz0*(P0.z|P0.z)"
      ]
     },
     "execution_count": 103,
     "metadata": {},
     "output_type": "execute_result"
    }
   ],
   "source": [
    "pendulum_dyadics[0]"
   ]
  },
  {
   "cell_type": "code",
   "execution_count": 104,
   "metadata": {},
   "outputs": [
    {
     "data": {
      "text/latex": [
       "$$\\left[\\begin{matrix}0 & 0 & 0\\\\0 & 0 & 0\\\\0 & 0 & I_{zz0}\\end{matrix}\\right]$$"
      ],
      "text/plain": [
       "Matrix([\n",
       "[0, 0,     0],\n",
       "[0, 0,     0],\n",
       "[0, 0, I_zz0]])"
      ]
     },
     "execution_count": 104,
     "metadata": {},
     "output_type": "execute_result"
    }
   ],
   "source": [
    "pendulum_dyadics[0].to_matrix(pendulum_frames[0])"
   ]
  },
  {
   "cell_type": "code",
   "execution_count": 105,
   "metadata": {},
   "outputs": [],
   "source": [
    "pendulum_central_inertias = [(pendulum_dyadics[0], pendulum_mass_centers[0]),\n",
    "                             (pendulum_dyadics[1], pendulum_mass_centers[1])]\n",
    "                             "
   ]
  },
  {
   "cell_type": "code",
   "execution_count": 106,
   "metadata": {},
   "outputs": [],
   "source": [
    "pendulums = [RigidBody('Pendulum0', pendulum_mass_centers[0], pendulum_frames[0],pendulum_masses[0], \n",
    "                       pendulum_central_inertias[0]),\n",
    "             RigidBody('Pendulum1', pendulum_mass_centers[1], pendulum_frames[1],pendulum_masses[1], \n",
    "                       pendulum_central_inertias[1])]"
   ]
  },
  {
   "cell_type": "markdown",
   "metadata": {},
   "source": [
    "## Equations of Motion"
   ]
  },
  {
   "cell_type": "code",
   "execution_count": 107,
   "metadata": {},
   "outputs": [
    {
     "data": {
      "text/latex": [
       "$$\\left [ \\psi_{0}, \\quad \\psi_{1}\\right ]$$"
      ],
      "text/plain": [
       "[psi0, psi1]"
      ]
     },
     "execution_count": 107,
     "metadata": {},
     "output_type": "execute_result"
    }
   ],
   "source": [
    "coordinates = psis\n",
    "coordinates"
   ]
  },
  {
   "cell_type": "code",
   "execution_count": 108,
   "metadata": {},
   "outputs": [
    {
     "data": {
      "text/latex": [
       "$$\\left [ r_{0}, \\quad r_{1}\\right ]$$"
      ],
      "text/plain": [
       "[r0, r1]"
      ]
     },
     "execution_count": 108,
     "metadata": {},
     "output_type": "execute_result"
    }
   ],
   "source": [
    "speeds = rs\n",
    "speeds"
   ]
  },
  {
   "cell_type": "code",
   "execution_count": 109,
   "metadata": {},
   "outputs": [],
   "source": [
    "kane = KanesMethod(inertial_frame, coordinates, speeds, kinematical_differential_equations)"
   ]
  },
  {
   "cell_type": "code",
   "execution_count": 110,
   "metadata": {},
   "outputs": [],
   "source": [
    "g = symbols('g')"
   ]
  },
  {
   "cell_type": "code",
   "execution_count": 111,
   "metadata": {},
   "outputs": [
    {
     "data": {
      "text/latex": [
       "$$\\left [ g m_{P0}\\mathbf{\\hat{i}_y}, \\quad g m_{P1}\\mathbf{\\hat{i}_y}\\right ]$$"
      ],
      "text/plain": [
       "[g*m_P0*I.y, g*m_P1*I.y]"
      ]
     },
     "execution_count": 111,
     "metadata": {},
     "output_type": "execute_result"
    }
   ],
   "source": [
    "pendulum_grav_force_vectors = [pendulum_masses[0] * g * inertial_frame.y,\n",
    "                               pendulum_masses[1] * g * inertial_frame.y]\n",
    "pendulum_grav_force_vectors"
   ]
  },
  {
   "cell_type": "code",
   "execution_count": 112,
   "metadata": {},
   "outputs": [],
   "source": [
    "pendulum_grav_forces = [(pendulum_mass_centers[0], pendulum_grav_force_vectors[0]),\n",
    "                        (pendulum_mass_centers[1], pendulum_grav_force_vectors[1])]"
   ]
  },
  {
   "cell_type": "code",
   "execution_count": 113,
   "metadata": {},
   "outputs": [
    {
     "data": {
      "text/latex": [
       "$$\\left [ T_{a0}\\mathbf{\\hat{i}_z}, \\quad T_{a1}\\mathbf{\\hat{i}_z}\\right ]$$"
      ],
      "text/plain": [
       "[T_a0*I.z, T_a1*I.z]"
      ]
     },
     "execution_count": 113,
     "metadata": {},
     "output_type": "execute_result"
    }
   ],
   "source": [
    "attachement_torques = [dynamicsymbols('T_a0'),\n",
    "                       dynamicsymbols('T_a1')]\n",
    "\n",
    "pendulum_torque_vectors = [attachement_torques[0] * inertial_frame.z,\n",
    "                           attachement_torques[1] * inertial_frame.z]\n",
    "                           \n",
    "pendulum_torque_vectors"
   ]
  },
  {
   "cell_type": "code",
   "execution_count": 114,
   "metadata": {},
   "outputs": [],
   "source": [
    "pendulum_torques = [(pendulum_frames[0], pendulum_torque_vectors[0]),\n",
    "                    (pendulum_frames[1], pendulum_torque_vectors[1])]"
   ]
  },
  {
   "cell_type": "code",
   "execution_count": 115,
   "metadata": {},
   "outputs": [
    {
     "data": {
      "text/plain": [
       "[(cg0, g*m_P0*I.y), (cg1, g*m_P1*I.y)]"
      ]
     },
     "execution_count": 115,
     "metadata": {},
     "output_type": "execute_result"
    }
   ],
   "source": [
    "#loads = [pendulum_grav_force,\n",
    "#        pendulum_torque]\n",
    "loads = pendulum_grav_forces\n",
    "\n",
    "loads"
   ]
  },
  {
   "cell_type": "code",
   "execution_count": 116,
   "metadata": {},
   "outputs": [],
   "source": [
    "bodies = pendulums"
   ]
  },
  {
   "cell_type": "code",
   "execution_count": 117,
   "metadata": {},
   "outputs": [],
   "source": [
    "fr, frstar = kane.kanes_equations(bodies = bodies,loads = loads)"
   ]
  },
  {
   "cell_type": "code",
   "execution_count": 118,
   "metadata": {},
   "outputs": [
    {
     "data": {
      "text/latex": [
       "$$\\left[\\begin{matrix}L_{0} Lcg_{1} m_{P1} \\left(r_{0} + r_{1}\\right)^{2} \\operatorname{sin}\\left(\\psi_{1}\\right) - L_{0} Lcg_{1} m_{P1} r^{2}_{0} \\operatorname{sin}\\left(\\psi_{1}\\right) - L_{0} g m_{P1} \\operatorname{sin}\\left(\\psi_{0}\\right) - Lcg_{0} g m_{P0} \\operatorname{sin}\\left(\\psi_{0}\\right) - Lcg_{1} g m_{P1} \\operatorname{sin}\\left(\\psi_{0} + \\psi_{1}\\right) - \\left(I_{zz1} + Lcg_{1} m_{P1} \\left(L_{0} \\operatorname{cos}\\left(\\psi_{1}\\right) + Lcg_{1}\\right)\\right) \\dot{r}_{1} - \\left(I_{zz0} + I_{zz1} + Lcg_{0}^{2} m_{P0} + m_{P1} \\left(L_{0}^{2} + 2 L_{0} Lcg_{1} \\operatorname{cos}\\left(\\psi_{1}\\right) + Lcg_{1}^{2}\\right)\\right) \\dot{r}_{0}\\\\- L_{0} Lcg_{1} m_{P1} r^{2}_{0} \\operatorname{sin}\\left(\\psi_{1}\\right) - Lcg_{1} g m_{P1} \\operatorname{sin}\\left(\\psi_{0} + \\psi_{1}\\right) - \\left(I_{zz1} + Lcg_{1}^{2} m_{P1}\\right) \\dot{r}_{1} - \\left(I_{zz1} + Lcg_{1} m_{P1} \\left(L_{0} \\operatorname{cos}\\left(\\psi_{1}\\right) + Lcg_{1}\\right)\\right) \\dot{r}_{0}\\end{matrix}\\right]$$"
      ],
      "text/plain": [
       "Matrix([\n",
       "[L0*Lcg1*m_P1*(r0 + r1)**2*sin(psi1) - L0*Lcg1*m_P1*r0**2*sin(psi1) - L0*g*m_P1*sin(psi0) - Lcg0*g*m_P0*sin(psi0) - Lcg1*g*m_P1*sin(psi0 + psi1) - (I_zz1 + Lcg1*m_P1*(L0*cos(psi1) + Lcg1))*r1' - (I_zz0 + I_zz1 + Lcg0**2*m_P0 + m_P1*(L0**2 + 2*L0*Lcg1*cos(psi1) + Lcg1**2))*r0'],\n",
       "[                                                                                                                                          -L0*Lcg1*m_P1*r0**2*sin(psi1) - Lcg1*g*m_P1*sin(psi0 + psi1) - (I_zz1 + Lcg1**2*m_P1)*r1' - (I_zz1 + Lcg1*m_P1*(L0*cos(psi1) + Lcg1))*r0']])"
      ]
     },
     "execution_count": 118,
     "metadata": {},
     "output_type": "execute_result"
    }
   ],
   "source": [
    "trigsimp(fr + frstar)"
   ]
  },
  {
   "cell_type": "code",
   "execution_count": 119,
   "metadata": {},
   "outputs": [
    {
     "data": {
      "text/latex": [
       "$$\\left[\\begin{matrix}1 & 0 & 0 & 0\\\\0 & 1 & 0 & 0\\\\0 & 0 & I_{zz0} + I_{zz1} + Lcg_{0}^{2} m_{P0} + m_{P1} \\left(L_{0}^{2} + 2 L_{0} Lcg_{1} \\operatorname{cos}\\left(\\psi_{1}\\right) + Lcg_{1}^{2}\\right) & I_{zz1} + Lcg_{1} m_{P1} \\left(L_{0} \\operatorname{cos}\\left(\\psi_{1}\\right) + Lcg_{1}\\right)\\\\0 & 0 & I_{zz1} + Lcg_{1} m_{P1} \\left(L_{0} \\operatorname{cos}\\left(\\psi_{1}\\right) + Lcg_{1}\\right) & I_{zz1} + Lcg_{1}^{2} m_{P1}\\end{matrix}\\right]$$"
      ],
      "text/plain": [
       "Matrix([\n",
       "[1, 0,                                                                           0,                                       0],\n",
       "[0, 1,                                                                           0,                                       0],\n",
       "[0, 0, I_zz0 + I_zz1 + Lcg0**2*m_P0 + m_P1*(L0**2 + 2*L0*Lcg1*cos(psi1) + Lcg1**2), I_zz1 + Lcg1*m_P1*(L0*cos(psi1) + Lcg1)],\n",
       "[0, 0,                                     I_zz1 + Lcg1*m_P1*(L0*cos(psi1) + Lcg1),                    I_zz1 + Lcg1**2*m_P1]])"
      ]
     },
     "execution_count": 119,
     "metadata": {},
     "output_type": "execute_result"
    }
   ],
   "source": [
    "mass_matrix = trigsimp(kane.mass_matrix_full)\n",
    "mass_matrix"
   ]
  },
  {
   "cell_type": "code",
   "execution_count": 120,
   "metadata": {},
   "outputs": [
    {
     "data": {
      "text/latex": [
       "$$\\left[\\begin{matrix}r_{0}\\\\r_{1}\\\\2 L_{0} Lcg_{1} m_{P1} r_{0} r_{1} \\operatorname{sin}\\left(\\psi_{1}\\right) + L_{0} Lcg_{1} m_{P1} r^{2}_{1} \\operatorname{sin}\\left(\\psi_{1}\\right) - L_{0} g m_{P1} \\operatorname{sin}\\left(\\psi_{0}\\right) - Lcg_{0} g m_{P0} \\operatorname{sin}\\left(\\psi_{0}\\right) - Lcg_{1} g m_{P1} \\operatorname{sin}\\left(\\psi_{0} + \\psi_{1}\\right)\\\\- Lcg_{1} m_{P1} \\left(L_{0} r^{2}_{0} \\operatorname{sin}\\left(\\psi_{1}\\right) + g \\operatorname{sin}\\left(\\psi_{0} + \\psi_{1}\\right)\\right)\\end{matrix}\\right]$$"
      ],
      "text/plain": [
       "Matrix([\n",
       "[                                                                                                                                        r0],\n",
       "[                                                                                                                                        r1],\n",
       "[2*L0*Lcg1*m_P1*r0*r1*sin(psi1) + L0*Lcg1*m_P1*r1**2*sin(psi1) - L0*g*m_P1*sin(psi0) - Lcg0*g*m_P0*sin(psi0) - Lcg1*g*m_P1*sin(psi0 + psi1)],\n",
       "[                                                                                      -Lcg1*m_P1*(L0*r0**2*sin(psi1) + g*sin(psi0 + psi1))]])"
      ]
     },
     "execution_count": 120,
     "metadata": {},
     "output_type": "execute_result"
    }
   ],
   "source": [
    "forcing_vector = trigsimp(kane.forcing_full)\n",
    "forcing_vector"
   ]
  },
  {
   "cell_type": "markdown",
   "metadata": {},
   "source": [
    "## Simulation"
   ]
  },
  {
   "cell_type": "code",
   "execution_count": 138,
   "metadata": {},
   "outputs": [],
   "source": [
    "constants = [Lcgs[0],\n",
    "             pendulum_lengths[0],\n",
    "             pendulum_masses[0],            \n",
    "             Izzs[0],\n",
    "             Lcgs[1],\n",
    "             pendulum_masses[1],            \n",
    "             Izzs[1],\n",
    "             g]"
   ]
  },
  {
   "cell_type": "code",
   "execution_count": 139,
   "metadata": {},
   "outputs": [
    {
     "data": {
      "text/latex": [
       "$$\\left [ Lcg_{0}, \\quad L_{0}, \\quad m_{P0}, \\quad I_{zz0}, \\quad Lcg_{1}, \\quad m_{P1}, \\quad I_{zz1}, \\quad g\\right ]$$"
      ],
      "text/plain": [
       "[Lcg0, L0, m_P0, I_zz0, Lcg1, m_P1, I_zz1, g]"
      ]
     },
     "execution_count": 139,
     "metadata": {},
     "output_type": "execute_result"
    }
   ],
   "source": [
    "constants"
   ]
  },
  {
   "cell_type": "code",
   "execution_count": 140,
   "metadata": {},
   "outputs": [
    {
     "data": {
      "text/latex": [
       "$$\\left [ \\psi_{0}, \\quad \\psi_{1}\\right ]$$"
      ],
      "text/plain": [
       "[psi0, psi1]"
      ]
     },
     "execution_count": 140,
     "metadata": {},
     "output_type": "execute_result"
    }
   ],
   "source": [
    "coordinates = psis\n",
    "coordinates"
   ]
  },
  {
   "cell_type": "code",
   "execution_count": 141,
   "metadata": {},
   "outputs": [
    {
     "data": {
      "text/latex": [
       "$$\\left [ r_{0}, \\quad r_{1}\\right ]$$"
      ],
      "text/plain": [
       "[r0, r1]"
      ]
     },
     "execution_count": 141,
     "metadata": {},
     "output_type": "execute_result"
    }
   ],
   "source": [
    "speeds = rs\n",
    "speeds"
   ]
  },
  {
   "cell_type": "code",
   "execution_count": 142,
   "metadata": {},
   "outputs": [],
   "source": [
    "#specified = [pendulum_torque]\n",
    "specified = []\n",
    "\n",
    "\n",
    "right_hand_side = generate_ode_function(forcing_vector, coordinates,\n",
    "                                        speeds, constants,\n",
    "                                        mass_matrix=mass_matrix,\n",
    "                                        specifieds=specified)"
   ]
  },
  {
   "cell_type": "code",
   "execution_count": 143,
   "metadata": {},
   "outputs": [
    {
     "name": "stdout",
     "output_type": "stream",
     "text": [
      "Help on function rhs in module pydy.codegen.ode_function_generators:\n",
      "\n",
      "rhs(*args)\n",
      "    Returns the derivatives of the states, i.e. numerically evaluates the right\n",
      "    hand side of the first order differential equation.\n",
      "    \n",
      "    x' = f(x, t, r, p)\n",
      "    \n",
      "    Parameters\n",
      "    ==========\n",
      "    x : ndarray, shape(4,)\n",
      "        The state vector is ordered as such:\n",
      "            - psi0(t)\n",
      "            - psi1(t)\n",
      "            - r0(t)\n",
      "            - r1(t)\n",
      "    t : float\n",
      "        The current time.\n",
      "    r : dictionary; ndarray, shape(0,); function\n",
      "    \n",
      "        There are three options for this argument. (1) is more flexible but\n",
      "        (2) and (3) are much more efficient.\n",
      "    \n",
      "        (1) A dictionary that maps the specified functions of time to floats,\n",
      "        ndarrays, or functions that produce ndarrays. The keys can be a single\n",
      "        specified symbolic function of time or a tuple of symbols. The total\n",
      "        number of symbols must be equal to 0. If the value is a\n",
      "        function it must be of the form g(x, t), where x is the current state\n",
      "        vector ndarray and t is the current time float and it must return an\n",
      "        ndarray of the correct shape. For example::\n",
      "    \n",
      "          r = {a: 1.0,\n",
      "               (d, b) : np.array([1.0, 2.0]),\n",
      "               (e, f) : lambda x, t: np.array(x[0], x[1]),\n",
      "               c: lambda x, t: np.array(x[2])}\n",
      "    \n",
      "        (2) A ndarray with the specified values in the correct order and of the\n",
      "        correct shape.\n",
      "    \n",
      "        (3) A function that must be of the form g(x, t), where x is the current\n",
      "        state vector and t is the current time and it must return an ndarray of\n",
      "        the correct shape.\n",
      "    \n",
      "        The specified inputs are, in order:\n",
      "            - \n",
      "    p : dictionary len(8) or ndarray shape(8,)\n",
      "        Either a dictionary that maps the constants symbols to their numerical\n",
      "        values or an array with the constants in the following order:\n",
      "            - Lcg0\n",
      "            - L0\n",
      "            - m_P0\n",
      "            - I_zz0\n",
      "            - Lcg1\n",
      "            - m_P1\n",
      "            - I_zz1\n",
      "            - g\n",
      "    \n",
      "    Returns\n",
      "    =======\n",
      "    dx : ndarray, shape(4,)\n",
      "        The derivative of the state vector.\n",
      "\n"
     ]
    }
   ],
   "source": [
    "help(right_hand_side)"
   ]
  },
  {
   "cell_type": "markdown",
   "metadata": {},
   "source": [
    "## Set the Initial Conditions, Parameter Values, and Time Array"
   ]
  },
  {
   "cell_type": "code",
   "execution_count": 126,
   "metadata": {},
   "outputs": [
    {
     "data": {
      "text/plain": [
       "array([0.17453293, 0.17453293, 0.        , 0.        ])"
      ]
     },
     "execution_count": 126,
     "metadata": {},
     "output_type": "execute_result"
    }
   ],
   "source": [
    "x0 = array([deg2rad(10),deg2rad(10),0,0])\n",
    "x0"
   ]
  },
  {
   "cell_type": "code",
   "execution_count": 144,
   "metadata": {},
   "outputs": [],
   "source": [
    "numerical_constants =  np.array([5,  # pendulum_length [m]\n",
    "                                 10,\n",
    "                         10,  # pendulum_mass [kg]\n",
    "                        10,  # pendulum_inertia [kg*m^2]\n",
    "                        5,  # pendulum_length [m]\n",
    "                        10,  # pendulum_mass [kg]\n",
    "                        10,  # pendulum_inertia [kg*m^2]    \n",
    "                        9.81])  # acceleration due to gravity [m/s^2]\n"
   ]
  },
  {
   "cell_type": "code",
   "execution_count": 145,
   "metadata": {},
   "outputs": [
    {
     "name": "stderr",
     "output_type": "stream",
     "text": [
      "/Users/martinalexandersson/Dev/ForceMan/venv/lib/python3.6/site-packages/ipykernel_launcher.py:16: DeprecationWarning: object of type <class 'float'> cannot be safely interpreted as an integer.\n",
      "  app.launch_new_instance()\n"
     ]
    }
   ],
   "source": [
    "# %load exercise_solutions/n07_simulation_sim-setup.py\n",
    "#numerical_specified = zeros(3)\n",
    "#numerical_specified = {}\n",
    "numerical_specified = {}\n",
    "#numerical_specified['L0'] = 10\n",
    "#numerical_specified['L'] = 10\n",
    "\n",
    "\n",
    "\n",
    "args = {'constants': numerical_constants,\n",
    "        'specified': numerical_specified}\n",
    "\n",
    "frames_per_sec = 60\n",
    "final_time = 5.0\n",
    "\n",
    "t = linspace(0.0, final_time, final_time * frames_per_sec)"
   ]
  },
  {
   "cell_type": "code",
   "execution_count": 146,
   "metadata": {},
   "outputs": [
    {
     "data": {
      "text/plain": [
       "array([ 0.        ,  0.        ,  0.1899266 , -1.19485536])"
      ]
     },
     "execution_count": 146,
     "metadata": {},
     "output_type": "execute_result"
    }
   ],
   "source": [
    "right_hand_side(x0, 0.0, numerical_specified, numerical_constants)"
   ]
  },
  {
   "cell_type": "markdown",
   "metadata": {},
   "source": [
    "## Integrate the Equations of Motion"
   ]
  },
  {
   "cell_type": "code",
   "execution_count": 147,
   "metadata": {},
   "outputs": [],
   "source": [
    "y = odeint(right_hand_side, x0, t, args=(numerical_specified, numerical_constants))"
   ]
  },
  {
   "cell_type": "code",
   "execution_count": 148,
   "metadata": {},
   "outputs": [
    {
     "data": {
      "text/plain": [
       "[<matplotlib.lines.Line2D at 0x115a07fd0>]"
      ]
     },
     "execution_count": 148,
     "metadata": {},
     "output_type": "execute_result"
    },
    {
     "data": {
      "image/png": "[encoded data removed]",
      "text/plain": [
       "<Figure size 1080x360 with 1 Axes>"
      ]
     },
     "metadata": {},
     "output_type": "display_data"
    }
   ],
   "source": [
    "fig,ax = plt.subplots()\n",
    "fig.set_size_inches(15,5)\n",
    "\n",
    "ax.plot(t,y[:,0])"
   ]
  },
  {
   "cell_type": "code",
   "execution_count": 149,
   "metadata": {},
   "outputs": [
    {
     "data": {
      "text/plain": [
       "[<matplotlib.lines.Line2D at 0x115bc8898>]"
      ]
     },
     "execution_count": 149,
     "metadata": {},
     "output_type": "execute_result"
    },
    {
     "data": {
      "image/png": "[encoded data removed]",
      "text/plain": [
       "<Figure size 1080x360 with 1 Axes>"
      ]
     },
     "metadata": {},
     "output_type": "display_data"
    }
   ],
   "source": [
    "fig,ax = plt.subplots()\n",
    "fig.set_size_inches(15,5)\n",
    "\n",
    "ax.plot(t,y[:,1])"
   ]
  },
  {
   "cell_type": "markdown",
   "metadata": {},
   "source": [
    "## Visualization"
   ]
  },
  {
   "cell_type": "code",
   "execution_count": null,
   "metadata": {},
   "outputs": [],
   "source": [
    "\n",
    "def play(x):\n",
    "    \n",
    "    index = int((len(t)-1)*x/100)\n",
    "    psi = y[index,0]\n",
    "    \n",
    "    pendulum_cylinder.axis = (pendulum_length*np.sin(psi),pendulum_length*np.cos(psi),0)\n",
    "    \n",
    "\n",
    "def play2(change):\n",
    "\n",
    "    #x = interactive_plot.children[0].value\n",
    "    x = slider.value\n",
    "\n",
    "    play(x = x)\n",
    "\n",
    "def plot(x):\n",
    "    \n",
    "    index = int((len(t)-1)*x/100)\n",
    "    fig,ax = plt.subplots()\n",
    "    ax.plot(t,y[:,0])\n",
    "    ax.plot(t[index],y[index,0],'ro')\n",
    "    display(fig)\n",
    "    clear_output(wait=True)\n",
    "    \n",
    "    "
   ]
  },
  {
   "cell_type": "code",
   "execution_count": null,
   "metadata": {},
   "outputs": [],
   "source": [
    "\n",
    "from ipywidgets import interactive\n",
    "\n",
    "\n",
    "interactive_plot = interactive(plot, x=(0.0,100.0))\n",
    "display(interactive_plot)\n"
   ]
  },
  {
   "cell_type": "code",
   "execution_count": null,
   "metadata": {},
   "outputs": [],
   "source": [
    "scene2 = canvas(width = 1000,height = 500,up=vector(0,-1,0))\n",
    "vscale = 3\n",
    "varr = arrow(pos=vector(0,0,0), axis=vscale*vector(1,0,0), color=color.red,shaftwidth=vscale*0.1)\n",
    "varr = arrow(pos=vector(0,0,0), axis=vscale*vector(0,1,0), color=color.green,shaftwidth=vscale*0.1)\n",
    "varr = arrow(pos=vector(0,0,0), axis=vscale*vector(0,0,1), color=color.blue,shaftwidth=vscale*0.1)\n",
    "\n",
    "pendulum_length = 10\n",
    "pendulum_radius = 0.1\n",
    "pendulum_cylinder = cylinder(pos = (0,0,0),axis = (0,1,0),length = pendulum_length,radius = pendulum_radius)\n",
    "\n",
    "play_widget = widgets.Play(\n",
    "    interval=0.5,\n",
    "    value=0,\n",
    "    min=0,\n",
    "    max=100,\n",
    "    description=\"Press play\",\n",
    "    disabled=False\n",
    "\n",
    ")\n",
    "slider = widgets.FloatSlider()\n",
    "widgets.jslink((play_widget, 'value'), (slider, 'value'))\n",
    "#widgets.jslink((play_widget, 'value'), (interactive_plot.children[0], 'value'))\n",
    "\n",
    "\n",
    "play_widget.observe(play2, names='value')\n",
    "\n",
    "scene2.visible = True\n",
    "display(scene2)\n",
    "#display(interactive_plot.children[1])\n",
    "\n",
    "widgets.HBox([play_widget, slider])\n",
    "#widgets.HBox([play_widget, interactive_plot.children[0]])\n"
   ]
  },
  {
   "cell_type": "code",
   "execution_count": null,
   "metadata": {},
   "outputs": [],
   "source": []
  },
  {
   "cell_type": "code",
   "execution_count": null,
   "metadata": {},
   "outputs": [],
   "source": []
  }
 ],
 "metadata": {
  "kernelspec": {
   "display_name": "Python 3",
   "language": "python",
   "name": "python3"
  }
 },
 "nbformat": 4,
 "nbformat_minor": 2
}
