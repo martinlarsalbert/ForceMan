{
 "cells": [
  {
   "cell_type": "markdown",
   "metadata": {},
   "source": [
    "# Exploring the possiblities with Python package PyDy"
   ]
  },
  {
   "cell_type": "code",
   "execution_count": 1,
   "metadata": {},
   "outputs": [],
   "source": [
    "from __future__ import print_function, division\n",
    "from sympy import symbols, simplify\n",
    "from sympy.physics.mechanics import dynamicsymbols, ReferenceFrame, Point\n",
    "from sympy.physics.vector import init_vprinting\n",
    "init_vprinting(use_latex='mathjax', pretty_print=False)\n",
    "from sympy.physics.mechanics import inertia, RigidBody\n",
    "from sympy import trigsimp\n",
    "from sympy.physics.mechanics import KanesMethod\n",
    "from pydy.codegen.ode_function_generators import generate_ode_function\n",
    "from scipy.integrate import odeint\n",
    "import numpy as np\n",
    "import matplotlib.pyplot as plt"
   ]
  },
  {
   "cell_type": "markdown",
   "metadata": {},
   "source": [
    "## Reference frames"
   ]
  },
  {
   "cell_type": "code",
   "execution_count": 2,
   "metadata": {},
   "outputs": [],
   "source": [
    "inertial_frame = ReferenceFrame('I')\n",
    "ship_frame = ReferenceFrame('S')"
   ]
  },
  {
   "cell_type": "code",
   "execution_count": 3,
   "metadata": {},
   "outputs": [],
   "source": [
    "psi = dynamicsymbols('psi') #Ship heading\n",
    "X = dynamicsymbols('X') #Ship position in inertial frame\n",
    "Y = dynamicsymbols('Y') #Ship position in inertial frame"
   ]
  },
  {
   "cell_type": "code",
   "execution_count": 4,
   "metadata": {},
   "outputs": [],
   "source": [
    "ship_frame.orient(inertial_frame, 'Axis', (psi, inertial_frame.z))"
   ]
  },
  {
   "cell_type": "code",
   "execution_count": 5,
   "metadata": {},
   "outputs": [],
   "source": [
    "#phi = dynamicsymbols('phi') #Ship roll\n",
    "#theta = dynamicsymbols('theta') #Ship pitch"
   ]
  },
  {
   "cell_type": "code",
   "execution_count": 6,
   "metadata": {},
   "outputs": [
    {
     "data": {
      "text/latex": [
       "$$\\left[\\begin{matrix}\\operatorname{cos}\\left(\\psi\\right) & \\operatorname{sin}\\left(\\psi\\right) & 0\\\\- \\operatorname{sin}\\left(\\psi\\right) & \\operatorname{cos}\\left(\\psi\\right) & 0\\\\0 & 0 & 1\\end{matrix}\\right]$$"
      ],
      "text/plain": [
       "Matrix([\n",
       "[ cos(psi), sin(psi), 0],\n",
       "[-sin(psi), cos(psi), 0],\n",
       "[        0,        0, 1]])"
      ]
     },
     "execution_count": 6,
     "metadata": {},
     "output_type": "execute_result"
    }
   ],
   "source": [
    "ship_frame.dcm(inertial_frame)"
   ]
  },
  {
   "cell_type": "markdown",
   "metadata": {},
   "source": [
    "## Define some points"
   ]
  },
  {
   "cell_type": "code",
   "execution_count": 7,
   "metadata": {},
   "outputs": [],
   "source": [
    "starting_point = Point('Start')\n",
    "ship_origo = Point('O')\n",
    "ship_mass_center = Point('c_G')\n",
    "x_cg = symbols('x_cg')\n",
    "y_cg = symbols('y_cg')\n",
    "z_cg = symbols('z_cg')\n",
    "\n",
    "ship_mass_center.set_pos(ship_origo, x_cg*ship_frame.x + y_cg*ship_frame.y + z_cg*ship_frame.z)"
   ]
  },
  {
   "cell_type": "markdown",
   "metadata": {},
   "source": [
    "## Kinematical Differential Equations"
   ]
  },
  {
   "cell_type": "code",
   "execution_count": 8,
   "metadata": {},
   "outputs": [],
   "source": [
    "r = dynamicsymbols('r') # Yaw rate\n",
    "U = dynamicsymbols('U') # Ship speed in inertial frame\n",
    "V = dynamicsymbols('V') # Ship speed in inertial frame\n"
   ]
  },
  {
   "cell_type": "code",
   "execution_count": 9,
   "metadata": {},
   "outputs": [
    {
     "data": {
      "text/latex": [
       "$$\\left [ r - \\dot{\\psi}, \\quad U - \\dot{X}, \\quad V - \\dot{Y}\\right ]$$"
      ],
      "text/plain": [
       "[r - psi', U - X', V - Y']"
      ]
     },
     "execution_count": 9,
     "metadata": {},
     "output_type": "execute_result"
    }
   ],
   "source": [
    "kinematical_differential_equations = [r - psi.diff(),\n",
    "                                      U - X.diff(),\n",
    "                                      V - Y.diff()]\n",
    "kinematical_differential_equations"
   ]
  },
  {
   "cell_type": "markdown",
   "metadata": {},
   "source": [
    "## Angular Velocities"
   ]
  },
  {
   "cell_type": "code",
   "execution_count": 10,
   "metadata": {},
   "outputs": [],
   "source": [
    "ship_frame.set_ang_vel(inertial_frame,r*inertial_frame.z)"
   ]
  },
  {
   "cell_type": "code",
   "execution_count": 11,
   "metadata": {},
   "outputs": [
    {
     "data": {
      "text/latex": [
       "$$r\\mathbf{\\hat{i}_z}$$"
      ],
      "text/plain": [
       "r*I.z"
      ]
     },
     "execution_count": 11,
     "metadata": {},
     "output_type": "execute_result"
    }
   ],
   "source": [
    "ship_frame.ang_vel_in(inertial_frame)"
   ]
  },
  {
   "cell_type": "markdown",
   "metadata": {},
   "source": [
    "## Linear Velocities"
   ]
  },
  {
   "cell_type": "code",
   "execution_count": 12,
   "metadata": {},
   "outputs": [
    {
     "data": {
      "text/latex": [
       "$$U\\mathbf{\\hat{i}_x} + V\\mathbf{\\hat{i}_y}$$"
      ],
      "text/plain": [
       "U*I.x + V*I.y"
      ]
     },
     "execution_count": 12,
     "metadata": {},
     "output_type": "execute_result"
    }
   ],
   "source": [
    "\n",
    "\n",
    "starting_point.set_vel(inertial_frame, 0)\n",
    "\n",
    "ship_origo.set_vel(inertial_frame,U*inertial_frame.x + V*inertial_frame.y)\n",
    "\n",
    "ship_origo.vel(inertial_frame)"
   ]
  },
  {
   "cell_type": "code",
   "execution_count": 13,
   "metadata": {},
   "outputs": [
    {
     "data": {
      "text/latex": [
       "$$U\\mathbf{\\hat{i}_x} + V\\mathbf{\\hat{i}_y} -  y_{cg} r\\mathbf{\\hat{s}_x} + x_{cg} r\\mathbf{\\hat{s}_y}$$"
      ],
      "text/plain": [
       "U*I.x + V*I.y - y_cg*r*S.x + x_cg*r*S.y"
      ]
     },
     "execution_count": 13,
     "metadata": {},
     "output_type": "execute_result"
    }
   ],
   "source": [
    "ship_mass_center.v2pt_theory(ship_origo, inertial_frame, ship_frame)"
   ]
  },
  {
   "cell_type": "markdown",
   "metadata": {},
   "source": [
    "## Mass"
   ]
  },
  {
   "cell_type": "code",
   "execution_count": 14,
   "metadata": {},
   "outputs": [],
   "source": [
    "ship_mass = symbols('m_S')"
   ]
  },
  {
   "cell_type": "markdown",
   "metadata": {},
   "source": [
    "## Inertia"
   ]
  },
  {
   "cell_type": "code",
   "execution_count": 15,
   "metadata": {},
   "outputs": [],
   "source": [
    "Izz = symbols('I_zz')"
   ]
  },
  {
   "cell_type": "code",
   "execution_count": 16,
   "metadata": {},
   "outputs": [],
   "source": [
    "ship_dyadic = inertia(ship_frame, 0, 0, Izz)"
   ]
  },
  {
   "cell_type": "code",
   "execution_count": 17,
   "metadata": {},
   "outputs": [
    {
     "data": {
      "text/latex": [
       "$$I_{zz}\\mathbf{\\hat{s}_z}\\otimes \\mathbf{\\hat{s}_z}$$"
      ],
      "text/plain": [
       "I_zz*(S.z|S.z)"
      ]
     },
     "execution_count": 17,
     "metadata": {},
     "output_type": "execute_result"
    }
   ],
   "source": [
    "ship_dyadic"
   ]
  },
  {
   "cell_type": "code",
   "execution_count": 18,
   "metadata": {},
   "outputs": [
    {
     "data": {
      "text/latex": [
       "$$\\left[\\begin{matrix}0 & 0 & 0\\\\0 & 0 & 0\\\\0 & 0 & I_{zz}\\end{matrix}\\right]$$"
      ],
      "text/plain": [
       "Matrix([\n",
       "[0, 0,    0],\n",
       "[0, 0,    0],\n",
       "[0, 0, I_zz]])"
      ]
     },
     "execution_count": 18,
     "metadata": {},
     "output_type": "execute_result"
    }
   ],
   "source": [
    "ship_dyadic.to_matrix(ship_frame)"
   ]
  },
  {
   "cell_type": "code",
   "execution_count": 19,
   "metadata": {},
   "outputs": [],
   "source": [
    "ship_central_inertia = (ship_dyadic, ship_mass_center)"
   ]
  },
  {
   "cell_type": "code",
   "execution_count": 20,
   "metadata": {},
   "outputs": [],
   "source": [
    "ship = RigidBody('Ship', ship_mass_center, ship_frame,\n",
    "                      ship_mass, ship_central_inertia)"
   ]
  },
  {
   "cell_type": "markdown",
   "metadata": {},
   "source": [
    "## Equations of Motion"
   ]
  },
  {
   "cell_type": "code",
   "execution_count": 21,
   "metadata": {},
   "outputs": [
    {
     "data": {
      "text/latex": [
       "$$\\left [ \\psi, \\quad X, \\quad Y\\right ]$$"
      ],
      "text/plain": [
       "[psi, X, Y]"
      ]
     },
     "execution_count": 21,
     "metadata": {},
     "output_type": "execute_result"
    }
   ],
   "source": [
    "coordinates = [psi,X, Y]\n",
    "coordinates"
   ]
  },
  {
   "cell_type": "code",
   "execution_count": 22,
   "metadata": {},
   "outputs": [
    {
     "data": {
      "text/latex": [
       "$$\\left [ r, \\quad U, \\quad V\\right ]$$"
      ],
      "text/plain": [
       "[r, U, V]"
      ]
     },
     "execution_count": 22,
     "metadata": {},
     "output_type": "execute_result"
    }
   ],
   "source": [
    "speeds = [r,U, V]\n",
    "speeds"
   ]
  },
  {
   "cell_type": "code",
   "execution_count": 23,
   "metadata": {},
   "outputs": [],
   "source": [
    "kane = KanesMethod(inertial_frame, coordinates, speeds, kinematical_differential_equations)"
   ]
  },
  {
   "cell_type": "code",
   "execution_count": 24,
   "metadata": {},
   "outputs": [],
   "source": [
    "dummy_force = symbols('force')\n",
    "ship_force_vector = dummy_force * ship_frame.x\n",
    "ship_force = (ship_mass_center, ship_force_vector)\n",
    "\n"
   ]
  },
  {
   "cell_type": "code",
   "execution_count": 25,
   "metadata": {},
   "outputs": [],
   "source": [
    "loads = [ship_force]"
   ]
  },
  {
   "cell_type": "code",
   "execution_count": 26,
   "metadata": {},
   "outputs": [
    {
     "data": {
      "text/plain": [
       "[(c_G, force*S.x)]"
      ]
     },
     "execution_count": 26,
     "metadata": {},
     "output_type": "execute_result"
    }
   ],
   "source": [
    "loads"
   ]
  },
  {
   "cell_type": "code",
   "execution_count": 27,
   "metadata": {},
   "outputs": [],
   "source": [
    "bodies = [ship]"
   ]
  },
  {
   "cell_type": "code",
   "execution_count": 28,
   "metadata": {},
   "outputs": [
    {
     "data": {
      "text/plain": [
       "[Ship]"
      ]
     },
     "execution_count": 28,
     "metadata": {},
     "output_type": "execute_result"
    }
   ],
   "source": [
    "bodies"
   ]
  },
  {
   "cell_type": "code",
   "execution_count": 29,
   "metadata": {},
   "outputs": [],
   "source": [
    "fr, frstar = kane.kanes_equations(bodies = bodies,loads = loads)"
   ]
  },
  {
   "cell_type": "code",
   "execution_count": 30,
   "metadata": {},
   "outputs": [
    {
     "data": {
      "text/latex": [
       "$$\\left[\\begin{matrix}- force y_{cg} + m_{S} \\left(x_{cg} \\operatorname{sin}\\left(\\psi\\right) + y_{cg} \\operatorname{cos}\\left(\\psi\\right)\\right) \\dot{U} - m_{S} \\left(x_{cg} \\operatorname{cos}\\left(\\psi\\right) - y_{cg} \\operatorname{sin}\\left(\\psi\\right)\\right) \\dot{V} - \\left(I_{zz} + m_{S} \\left(x_{cg}^{2} + y_{cg}^{2}\\right)\\right) \\dot{r}\\\\force \\operatorname{cos}\\left(\\psi\\right) + m_{S} x_{cg} r^{2} \\operatorname{cos}\\left(\\psi\\right) - m_{S} y_{cg} r^{2} \\operatorname{sin}\\left(\\psi\\right) + m_{S} \\left(x_{cg} \\operatorname{sin}\\left(\\psi\\right) + y_{cg} \\operatorname{cos}\\left(\\psi\\right)\\right) \\dot{r} - m_{S} \\dot{U}\\\\force \\operatorname{sin}\\left(\\psi\\right) + m_{S} x_{cg} r^{2} \\operatorname{sin}\\left(\\psi\\right) + m_{S} y_{cg} r^{2} \\operatorname{cos}\\left(\\psi\\right) - m_{S} \\left(x_{cg} \\operatorname{cos}\\left(\\psi\\right) - y_{cg} \\operatorname{sin}\\left(\\psi\\right)\\right) \\dot{r} - m_{S} \\dot{V}\\end{matrix}\\right]$$"
      ],
      "text/plain": [
       "Matrix([\n",
       "[-force*y_cg + m_S*(x_cg*sin(psi) + y_cg*cos(psi))*U' - m_S*(x_cg*cos(psi) - y_cg*sin(psi))*V' - (I_zz + m_S*(x_cg**2 + y_cg**2))*r'],\n",
       "[                 force*cos(psi) + m_S*x_cg*r**2*cos(psi) - m_S*y_cg*r**2*sin(psi) + m_S*(x_cg*sin(psi) + y_cg*cos(psi))*r' - m_S*U'],\n",
       "[                 force*sin(psi) + m_S*x_cg*r**2*sin(psi) + m_S*y_cg*r**2*cos(psi) - m_S*(x_cg*cos(psi) - y_cg*sin(psi))*r' - m_S*V']])"
      ]
     },
     "execution_count": 30,
     "metadata": {},
     "output_type": "execute_result"
    }
   ],
   "source": [
    "trigsimp(fr + frstar)"
   ]
  },
  {
   "cell_type": "code",
   "execution_count": 31,
   "metadata": {},
   "outputs": [
    {
     "data": {
      "text/latex": [
       "$$\\left[\\begin{matrix}1 & 0 & 0 & 0 & 0 & 0\\\\0 & 1 & 0 & 0 & 0 & 0\\\\0 & 0 & 1 & 0 & 0 & 0\\\\0 & 0 & 0 & I_{zz} + m_{S} \\left(x_{cg}^{2} + y_{cg}^{2}\\right) & - m_{S} \\left(x_{cg} \\operatorname{sin}\\left(\\psi\\right) + y_{cg} \\operatorname{cos}\\left(\\psi\\right)\\right) & m_{S} \\left(x_{cg} \\operatorname{cos}\\left(\\psi\\right) - y_{cg} \\operatorname{sin}\\left(\\psi\\right)\\right)\\\\0 & 0 & 0 & - m_{S} \\left(x_{cg} \\operatorname{sin}\\left(\\psi\\right) + y_{cg} \\operatorname{cos}\\left(\\psi\\right)\\right) & m_{S} & 0\\\\0 & 0 & 0 & m_{S} \\left(x_{cg} \\operatorname{cos}\\left(\\psi\\right) - y_{cg} \\operatorname{sin}\\left(\\psi\\right)\\right) & 0 & m_{S}\\end{matrix}\\right]$$"
      ],
      "text/plain": [
       "Matrix([\n",
       "[1, 0, 0,                                    0,                                    0,                                   0],\n",
       "[0, 1, 0,                                    0,                                    0,                                   0],\n",
       "[0, 0, 1,                                    0,                                    0,                                   0],\n",
       "[0, 0, 0,       I_zz + m_S*(x_cg**2 + y_cg**2), -m_S*(x_cg*sin(psi) + y_cg*cos(psi)), m_S*(x_cg*cos(psi) - y_cg*sin(psi))],\n",
       "[0, 0, 0, -m_S*(x_cg*sin(psi) + y_cg*cos(psi)),                                  m_S,                                   0],\n",
       "[0, 0, 0,  m_S*(x_cg*cos(psi) - y_cg*sin(psi)),                                    0,                                 m_S]])"
      ]
     },
     "execution_count": 31,
     "metadata": {},
     "output_type": "execute_result"
    }
   ],
   "source": [
    "mass_matrix = trigsimp(kane.mass_matrix_full)\n",
    "mass_matrix"
   ]
  },
  {
   "cell_type": "code",
   "execution_count": 32,
   "metadata": {},
   "outputs": [
    {
     "data": {
      "text/latex": [
       "$$\\left[\\begin{matrix}r\\\\U\\\\V\\\\- force y_{cg}\\\\force \\operatorname{cos}\\left(\\psi\\right) + m_{S} x_{cg} r^{2} \\operatorname{cos}\\left(\\psi\\right) - m_{S} y_{cg} r^{2} \\operatorname{sin}\\left(\\psi\\right)\\\\force \\operatorname{sin}\\left(\\psi\\right) + m_{S} x_{cg} r^{2} \\operatorname{sin}\\left(\\psi\\right) + m_{S} y_{cg} r^{2} \\operatorname{cos}\\left(\\psi\\right)\\end{matrix}\\right]$$"
      ],
      "text/plain": [
       "Matrix([\n",
       "[                                                               r],\n",
       "[                                                               U],\n",
       "[                                                               V],\n",
       "[                                                     -force*y_cg],\n",
       "[force*cos(psi) + m_S*x_cg*r**2*cos(psi) - m_S*y_cg*r**2*sin(psi)],\n",
       "[force*sin(psi) + m_S*x_cg*r**2*sin(psi) + m_S*y_cg*r**2*cos(psi)]])"
      ]
     },
     "execution_count": 32,
     "metadata": {},
     "output_type": "execute_result"
    }
   ],
   "source": [
    "forcing_vector = trigsimp(kane.forcing_full)\n",
    "forcing_vector"
   ]
  },
  {
   "cell_type": "markdown",
   "metadata": {},
   "source": [
    "## Simulation"
   ]
  },
  {
   "cell_type": "code",
   "execution_count": 33,
   "metadata": {},
   "outputs": [],
   "source": [
    "constants = [ship_mass,\n",
    "             Izz,\n",
    "            x_cg,\n",
    "            y_cg,\n",
    "            z_cg,\n",
    "            dummy_force]"
   ]
  },
  {
   "cell_type": "code",
   "execution_count": 34,
   "metadata": {},
   "outputs": [],
   "source": [
    "specified = []\n",
    "\n",
    "\n",
    "right_hand_side = generate_ode_function(forcing_vector, coordinates,\n",
    "                                        speeds, constants,\n",
    "                                        mass_matrix=mass_matrix,\n",
    "                                        specifieds=specified)"
   ]
  },
  {
   "cell_type": "code",
   "execution_count": 35,
   "metadata": {},
   "outputs": [
    {
     "data": {
      "text/plain": [
       "array([0, 0, 0, 0, 0, 0])"
      ]
     },
     "execution_count": 35,
     "metadata": {},
     "output_type": "execute_result"
    }
   ],
   "source": [
    "x0 = np.array([0,0,0,0,0,0])\n",
    "x0"
   ]
  },
  {
   "cell_type": "code",
   "execution_count": 36,
   "metadata": {},
   "outputs": [],
   "source": [
    "numerical_constants = np.array([\n",
    "                             1,  # ship mass [kg]\n",
    "                             1,  # ship Izz [kg*m2]\n",
    "                             0,  # xg [m]\n",
    "                             0,  # yg [m]\n",
    "                             0,  # zg [m]\n",
    "                             1,  # N\n",
    "]) "
   ]
  },
  {
   "cell_type": "code",
   "execution_count": 37,
   "metadata": {},
   "outputs": [
    {
     "name": "stderr",
     "output_type": "stream",
     "text": [
      "/Users/martinalexandersson/Dev/ForceMan/venv/lib/python3.6/site-packages/ipykernel_launcher.py:9: DeprecationWarning: object of type <class 'float'> cannot be safely interpreted as an integer.\n",
      "  if __name__ == '__main__':\n"
     ]
    }
   ],
   "source": [
    "numerical_specified = np.zeros(3)\n",
    "\n",
    "args = {'constants': numerical_constants,\n",
    "        'specified': numerical_specified}\n",
    "\n",
    "frames_per_sec = 60\n",
    "final_time = 5.0\n",
    "\n",
    "t = np.linspace(0.0, final_time, final_time * frames_per_sec)"
   ]
  },
  {
   "cell_type": "markdown",
   "metadata": {},
   "source": [
    "## Integrate the Equations of Motion"
   ]
  },
  {
   "cell_type": "code",
   "execution_count": 38,
   "metadata": {},
   "outputs": [],
   "source": [
    "y = odeint(right_hand_side, x0, t, args=(numerical_specified, numerical_constants))"
   ]
  },
  {
   "cell_type": "code",
   "execution_count": 41,
   "metadata": {},
   "outputs": [
    {
     "data": {
      "image/png": "[encoded data removed]",
      "text/plain": [
       "<Figure size 1080x360 with 3 Axes>"
      ]
     },
     "metadata": {},
     "output_type": "display_data"
    }
   ],
   "source": [
    "fig,axes = plt.subplots(nrows = 3)\n",
    "fig.set_size_inches(15,5)\n",
    "\n",
    "ax = axes[0]\n",
    "ax.plot(t,y[:,0])\n",
    "ax.set_title('psi')\n",
    "\n",
    "ax = axes[1]\n",
    "ax.plot(t,y[:,1])\n",
    "ax.set_title('X')\n",
    "\n",
    "ax = axes[2]\n",
    "ax.plot(t,y[:,2])\n",
    "ax.set_title('Y')\n",
    "\n",
    "fig.tight_layout()"
   ]
  },
  {
   "cell_type": "code",
   "execution_count": 40,
   "metadata": {},
   "outputs": [
    {
     "name": "stdout",
     "output_type": "stream",
     "text": [
      "Help on function rhs in module pydy.codegen.ode_function_generators:\n",
      "\n",
      "rhs(*args)\n",
      "    Returns the derivatives of the states, i.e. numerically evaluates the right\n",
      "    hand side of the first order differential equation.\n",
      "    \n",
      "    x' = f(x, t, r, p)\n",
      "    \n",
      "    Parameters\n",
      "    ==========\n",
      "    x : ndarray, shape(6,)\n",
      "        The state vector is ordered as such:\n",
      "            - psi(t)\n",
      "            - X(t)\n",
      "            - Y(t)\n",
      "            - r(t)\n",
      "            - U(t)\n",
      "            - V(t)\n",
      "    t : float\n",
      "        The current time.\n",
      "    r : dictionary; ndarray, shape(0,); function\n",
      "    \n",
      "        There are three options for this argument. (1) is more flexible but\n",
      "        (2) and (3) are much more efficient.\n",
      "    \n",
      "        (1) A dictionary that maps the specified functions of time to floats,\n",
      "        ndarrays, or functions that produce ndarrays. The keys can be a single\n",
      "        specified symbolic function of time or a tuple of symbols. The total\n",
      "        number of symbols must be equal to 0. If the value is a\n",
      "        function it must be of the form g(x, t), where x is the current state\n",
      "        vector ndarray and t is the current time float and it must return an\n",
      "        ndarray of the correct shape. For example::\n",
      "    \n",
      "          r = {a: 1.0,\n",
      "               (d, b) : np.array([1.0, 2.0]),\n",
      "               (e, f) : lambda x, t: np.array(x[0], x[1]),\n",
      "               c: lambda x, t: np.array(x[2])}\n",
      "    \n",
      "        (2) A ndarray with the specified values in the correct order and of the\n",
      "        correct shape.\n",
      "    \n",
      "        (3) A function that must be of the form g(x, t), where x is the current\n",
      "        state vector and t is the current time and it must return an ndarray of\n",
      "        the correct shape.\n",
      "    \n",
      "        The specified inputs are, in order:\n",
      "            - \n",
      "    p : dictionary len(6) or ndarray shape(6,)\n",
      "        Either a dictionary that maps the constants symbols to their numerical\n",
      "        values or an array with the constants in the following order:\n",
      "            - m_S\n",
      "            - I_zz\n",
      "            - x_cg\n",
      "            - y_cg\n",
      "            - z_cg\n",
      "            - force\n",
      "    \n",
      "    Returns\n",
      "    =======\n",
      "    dx : ndarray, shape(6,)\n",
      "        The derivative of the state vector.\n",
      "\n"
     ]
    }
   ],
   "source": [
    "help(right_hand_side)"
   ]
  },
  {
   "cell_type": "code",
   "execution_count": null,
   "metadata": {},
   "outputs": [],
   "source": []
  }
 ],
 "metadata": {
  "kernelspec": {
   "display_name": "Python 3",
   "language": "python",
   "name": "python3"
  },
  "language_info": {
   "codemirror_mode": {
    "name": "ipython",
    "version": 3
   },
   "file_extension": ".py",
   "mimetype": "text/x-python",
   "name": "python",
   "nbconvert_exporter": "python",
   "pygments_lexer": "ipython3",
   "version": "3.6.5"
  }
 },
 "nbformat": 4,
 "nbformat_minor": 2
}
