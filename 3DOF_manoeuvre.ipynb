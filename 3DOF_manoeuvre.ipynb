{
 "cells": [
  {
   "cell_type": "markdown",
   "metadata": {},
   "source": [
    "# 3 Degrees Of Freedome (DOF)"
   ]
  },
  {
   "cell_type": "code",
   "execution_count": 1,
   "metadata": {},
   "outputs": [],
   "source": [
    "%matplotlib inline\n",
    "import sympy as sym\n",
    "import sympy.physics.mechanics as me\n",
    "from sympy import init_printing\n",
    "init_printing(use_latex='mathjax')\n",
    "\n",
    "from pydy.system import System\n",
    "import numpy as np\n",
    "import matplotlib.pyplot as plt\n"
   ]
  },
  {
   "cell_type": "markdown",
   "metadata": {},
   "source": [
    "<img src=\"3dof.png\" width=\"400\" align=\"left\">"
   ]
  },
  {
   "cell_type": "code",
   "execution_count": 2,
   "metadata": {},
   "outputs": [],
   "source": [
    "x0,y0,psi,x,y,beta,x,y,u,v,r,V = me.dynamicsymbols(r'x0 y0 \\psi x y \\beta x y u v r V')\n",
    "m,Izz,t,x_cg = sym.symbols(r'm Izz t x_{cg}')"
   ]
  },
  {
   "cell_type": "code",
   "execution_count": 3,
   "metadata": {},
   "outputs": [],
   "source": [
    "earth_frame = me.ReferenceFrame(name = 'E')\n",
    "ship_frame = me.ReferenceFrame(name = 'S')\n",
    "ship_frame.orient(parent = earth_frame,rot_type='Axis',amounts = (psi,earth_frame.z))\n",
    "#ship_frame.set_ang_vel(otherframe=earth_frame,value = r*earth_frame.z)"
   ]
  },
  {
   "cell_type": "code",
   "execution_count": 4,
   "metadata": {},
   "outputs": [
    {
     "data": {
      "text/latex": [
       "$$\\left[\\begin{matrix}\\cos{\\left (\\psi{\\left (t \\right )} \\right )} & \\sin{\\left (\\psi{\\left (t \\right )} \\right )} & 0\\\\- \\sin{\\left (\\psi{\\left (t \\right )} \\right )} & \\cos{\\left (\\psi{\\left (t \\right )} \\right )} & 0\\\\0 & 0 & 1\\end{matrix}\\right]$$"
      ],
      "text/plain": [
       "⎡cos(\\psi(t))   sin(\\psi(t))  0⎤\n",
       "⎢                              ⎥\n",
       "⎢-sin(\\psi(t))  cos(\\psi(t))  0⎥\n",
       "⎢                              ⎥\n",
       "⎣      0             0        1⎦"
      ]
     },
     "execution_count": 4,
     "metadata": {},
     "output_type": "execute_result"
    }
   ],
   "source": [
    "ship_frame.dcm(otherframe=earth_frame)"
   ]
  },
  {
   "cell_type": "code",
   "execution_count": 5,
   "metadata": {},
   "outputs": [
    {
     "data": {
      "text/latex": [
       "$$(u - y \\dot{\\psi})\\mathbf{\\hat{s}_x} + (v + x \\dot{\\psi})\\mathbf{\\hat{s}_y}$$"
      ],
      "text/plain": [
       "⎛            d          ⎞       ⎛            d          ⎞\n",
       "⎜u(t) - y(t)⋅──(\\psi(t))⎟ s_x + ⎜v(t) + x(t)⋅──(\\psi(t))⎟ s_y\n",
       "⎝            dt         ⎠       ⎝            dt         ⎠"
      ]
     },
     "execution_count": 5,
     "metadata": {},
     "output_type": "execute_result"
    }
   ],
   "source": [
    "O0 = me.Point('O0')\n",
    "O0.set_vel(frame = earth_frame,value = 0)\n",
    "\n",
    "O = me.Point('O')\n",
    "#O.set_pos(otherpoint=O0,value = x0*earth_frame.x + y0*earth_frame.y)\n",
    "O.set_pos(otherpoint=O0,value = x*ship_frame.x + y*ship_frame.y)\n",
    "\n",
    "O.set_vel(frame = ship_frame,value = u*ship_frame.x + v*ship_frame.y)\n",
    "\n",
    "O.v1pt_theory(otherpoint=O0,outframe=earth_frame,interframe=ship_frame)"
   ]
  },
  {
   "cell_type": "code",
   "execution_count": 6,
   "metadata": {},
   "outputs": [
    {
     "data": {
      "text/latex": [
       "$$x\\mathbf{\\hat{s}_x} + y\\mathbf{\\hat{s}_y}$$"
      ],
      "text/plain": [
       "x(t) s_x + y(t) s_y"
      ]
     },
     "execution_count": 6,
     "metadata": {},
     "output_type": "execute_result"
    }
   ],
   "source": [
    "O.pos_from(O0)"
   ]
  },
  {
   "cell_type": "code",
   "execution_count": 7,
   "metadata": {},
   "outputs": [
    {
     "data": {
      "text/latex": [
       "$$(\\left(u - y \\dot{\\psi}\\right) \\operatorname{cos}\\left(\\psi\\right) - \\left(v + x \\dot{\\psi}\\right) \\operatorname{sin}\\left(\\psi\\right))\\mathbf{\\hat{e}_x} + (\\left(u - y \\dot{\\psi}\\right) \\operatorname{sin}\\left(\\psi\\right) + \\left(v + x \\dot{\\psi}\\right) \\operatorname{cos}\\left(\\psi\\right))\\mathbf{\\hat{e}_y}$$"
      ],
      "text/plain": [
       "⎛⎛            d          ⎞                ⎛            d          ⎞\n",
       "⎜⎜u(t) - y(t)⋅──(\\psi(t))⎟⋅cos(\\psi(t)) - ⎜v(t) + x(t)⋅──(\\psi(t))⎟⋅sin(\\psi(t\n",
       "⎝⎝            dt         ⎠                ⎝            dt         ⎠\n",
       "\n",
       "  ⎞       ⎛⎛            d          ⎞                ⎛            d          ⎞\n",
       "))⎟ e_x + ⎜⎜u(t) - y(t)⋅──(\\psi(t))⎟⋅sin(\\psi(t)) + ⎜v(t) + x(t)⋅──(\\psi(t))⎟⋅\n",
       "  ⎠       ⎝⎝            dt         ⎠                ⎝            dt         ⎠\n",
       "\n",
       "            ⎞\n",
       "cos(\\psi(t))⎟ e_y\n",
       "            ⎠"
      ]
     },
     "execution_count": 7,
     "metadata": {},
     "output_type": "execute_result"
    }
   ],
   "source": [
    "O.vel(earth_frame).express(earth_frame)"
   ]
  },
  {
   "cell_type": "code",
   "execution_count": 8,
   "metadata": {},
   "outputs": [
    {
     "data": {
      "text/latex": [
       "$$(- \\left(\\left(u - y \\dot{\\psi}\\right) \\dot{\\psi} + x \\ddot{\\psi} + \\dot{\\psi} \\dot{x} + \\dot{v}\\right) \\operatorname{sin}\\left(\\psi\\right) + \\left(- \\left(v + x \\dot{\\psi}\\right) \\dot{\\psi} - y \\ddot{\\psi} - \\dot{\\psi} \\dot{y} + \\dot{u}\\right) \\operatorname{cos}\\left(\\psi\\right))\\mathbf{\\hat{e}_x} + (\\left(\\left(u - y \\dot{\\psi}\\right) \\dot{\\psi} + x \\ddot{\\psi} + \\dot{\\psi} \\dot{x} + \\dot{v}\\right) \\operatorname{cos}\\left(\\psi\\right) + \\left(- \\left(v + x \\dot{\\psi}\\right) \\dot{\\psi} - y \\ddot{\\psi} - \\dot{\\psi} \\dot{y} + \\dot{u}\\right) \\operatorname{sin}\\left(\\psi\\right))\\mathbf{\\hat{e}_y}$$"
      ],
      "text/plain": [
       "⎛  ⎛                                               2\n",
       "⎜  ⎜⎛            d          ⎞ d                   d             d           d\n",
       "⎜- ⎜⎜u(t) - y(t)⋅──(\\psi(t))⎟⋅──(\\psi(t)) + x(t)⋅───(\\psi(t)) + ──(\\psi(t))⋅──\n",
       "⎜  ⎜⎝            dt         ⎠ dt                   2            dt          dt\n",
       "⎝  ⎝                                             dt\n",
       "\n",
       "                 ⎞                ⎛\n",
       "         d       ⎟                ⎜  ⎛            d          ⎞ d\n",
       "(x(t)) + ──(v(t))⎟⋅sin(\\psi(t)) + ⎜- ⎜v(t) + x(t)⋅──(\\psi(t))⎟⋅──(\\psi(t)) - y\n",
       "         dt      ⎟                ⎜  ⎝            dt         ⎠ dt\n",
       "                 ⎠                ⎝\n",
       "\n",
       "      2                                           ⎞             ⎞       ⎛⎛\n",
       "     d             d           d          d       ⎟             ⎟       ⎜⎜⎛\n",
       "(t)⋅───(\\psi(t)) - ──(\\psi(t))⋅──(y(t)) + ──(u(t))⎟⋅cos(\\psi(t))⎟ e_x + ⎜⎜⎜u(t\n",
       "      2            dt          dt         dt      ⎟             ⎟       ⎜⎜⎝\n",
       "    dt                                            ⎠             ⎠       ⎝⎝\n",
       "\n",
       "                                           2\n",
       "         d          ⎞ d                   d             d           d\n",
       ") - y(t)⋅──(\\psi(t))⎟⋅──(\\psi(t)) + x(t)⋅───(\\psi(t)) + ──(\\psi(t))⋅──(x(t)) +\n",
       "         dt         ⎠ dt                   2            dt          dt\n",
       "                                         dt\n",
       "\n",
       "         ⎞                ⎛                                                 2\n",
       " d       ⎟                ⎜  ⎛            d          ⎞ d                   d\n",
       " ──(v(t))⎟⋅cos(\\psi(t)) + ⎜- ⎜v(t) + x(t)⋅──(\\psi(t))⎟⋅──(\\psi(t)) - y(t)⋅───(\n",
       " dt      ⎟                ⎜  ⎝            dt         ⎠ dt                   2\n",
       "         ⎠                ⎝                                               dt\n",
       "\n",
       "                                          ⎞             ⎞\n",
       "           d           d          d       ⎟             ⎟\n",
       "\\psi(t)) - ──(\\psi(t))⋅──(y(t)) + ──(u(t))⎟⋅sin(\\psi(t))⎟ e_y\n",
       "           dt          dt         dt      ⎟             ⎟\n",
       "                                          ⎠             ⎠"
      ]
     },
     "execution_count": 8,
     "metadata": {},
     "output_type": "execute_result"
    }
   ],
   "source": [
    "O.acc(earth_frame).express(earth_frame)"
   ]
  },
  {
   "cell_type": "code",
   "execution_count": 20,
   "metadata": {},
   "outputs": [
    {
     "data": {
      "text/latex": [
       "$$(\\left(- \\left(x_{cg} \\dot{\\psi} + v + x \\dot{\\psi}\\right) \\dot{\\psi} - y \\ddot{\\psi} - \\dot{\\psi} \\dot{y} + \\dot{u}\\right) \\operatorname{cos}\\left(\\psi\\right) - \\left(x_{cg} \\ddot{\\psi} + \\left(u - y \\dot{\\psi}\\right) \\dot{\\psi} + x \\ddot{\\psi} + \\dot{\\psi} \\dot{x} + \\dot{v}\\right) \\operatorname{sin}\\left(\\psi\\right))\\mathbf{\\hat{e}_x} + (\\left(- \\left(x_{cg} \\dot{\\psi} + v + x \\dot{\\psi}\\right) \\dot{\\psi} - y \\ddot{\\psi} - \\dot{\\psi} \\dot{y} + \\dot{u}\\right) \\operatorname{sin}\\left(\\psi\\right) + \\left(x_{cg} \\ddot{\\psi} + \\left(u - y \\dot{\\psi}\\right) \\dot{\\psi} + x \\ddot{\\psi} + \\dot{\\psi} \\dot{x} + \\dot{v}\\right) \\operatorname{cos}\\left(\\psi\\right))\\mathbf{\\hat{e}_y}$$"
      ],
      "text/plain": [
       "⎛⎛                                                                      2\n",
       "⎜⎜  ⎛       d                         d          ⎞ d                   d\n",
       "⎜⎜- ⎜x_{cg}⋅──(\\psi(t)) + v(t) + x(t)⋅──(\\psi(t))⎟⋅──(\\psi(t)) - y(t)⋅───(\\psi\n",
       "⎜⎜  ⎝       dt                        dt         ⎠ dt                   2\n",
       "⎝⎝                                                                    dt\n",
       "\n",
       "                                      ⎞                ⎛         2\n",
       "       d           d          d       ⎟                ⎜        d\n",
       "(t)) - ──(\\psi(t))⋅──(y(t)) + ──(u(t))⎟⋅cos(\\psi(t)) - ⎜x_{cg}⋅───(\\psi(t)) +\n",
       "       dt          dt         dt      ⎟                ⎜         2\n",
       "                                      ⎠                ⎝       dt\n",
       "\n",
       "                                               2\n",
       "⎛            d          ⎞ d                   d             d           d\n",
       "⎜u(t) - y(t)⋅──(\\psi(t))⎟⋅──(\\psi(t)) + x(t)⋅───(\\psi(t)) + ──(\\psi(t))⋅──(x(t\n",
       "⎝            dt         ⎠ dt                   2            dt          dt\n",
       "                                             dt\n",
       "\n",
       "             ⎞             ⎞       ⎛⎛\n",
       "     d       ⎟             ⎟       ⎜⎜  ⎛       d                         d\n",
       ")) + ──(v(t))⎟⋅sin(\\psi(t))⎟ e_x + ⎜⎜- ⎜x_{cg}⋅──(\\psi(t)) + v(t) + x(t)⋅──(\\p\n",
       "     dt      ⎟             ⎟       ⎜⎜  ⎝       dt                        dt\n",
       "             ⎠             ⎠       ⎝⎝\n",
       "\n",
       "                             2                                           ⎞\n",
       "      ⎞ d                   d             d           d          d       ⎟\n",
       "si(t))⎟⋅──(\\psi(t)) - y(t)⋅───(\\psi(t)) - ──(\\psi(t))⋅──(y(t)) + ──(u(t))⎟⋅sin\n",
       "      ⎠ dt                   2            dt          dt         dt      ⎟\n",
       "                           dt                                            ⎠\n",
       "\n",
       "            ⎛         2\n",
       "            ⎜        d             ⎛            d          ⎞ d\n",
       "(\\psi(t)) + ⎜x_{cg}⋅───(\\psi(t)) + ⎜u(t) - y(t)⋅──(\\psi(t))⎟⋅──(\\psi(t)) + x(t\n",
       "            ⎜         2            ⎝            dt         ⎠ dt\n",
       "            ⎝       dt\n",
       "\n",
       "    2                                           ⎞             ⎞\n",
       "   d             d           d          d       ⎟             ⎟\n",
       ")⋅───(\\psi(t)) + ──(\\psi(t))⋅──(x(t)) + ──(v(t))⎟⋅cos(\\psi(t))⎟ e_y\n",
       "    2            dt          dt         dt      ⎟             ⎟\n",
       "  dt                                            ⎠             ⎠"
      ]
     },
     "execution_count": 20,
     "metadata": {},
     "output_type": "execute_result"
    }
   ],
   "source": [
    "CG = me.Point('CG')\n",
    "CG.set_pos(O,value = x_cg*ship_frame.x)\n",
    "CG.v2pt_theory(otherpoint=O,outframe=earth_frame,fixedframe=ship_frame)\n",
    "\n",
    "CG.acc(earth_frame).express(earth_frame)"
   ]
  },
  {
   "cell_type": "code",
   "execution_count": 21,
   "metadata": {},
   "outputs": [],
   "source": [
    "kinematical_differential_equations = [u - x.diff(),\n",
    "                                      v - y.diff(),\n",
    "                                      r - psi.diff()]\n",
    "coordinates = [x,y,psi,]\n",
    "speeds = [u,v,r,]"
   ]
  },
  {
   "cell_type": "code",
   "execution_count": 22,
   "metadata": {},
   "outputs": [],
   "source": [
    "kane = me.KanesMethod(earth_frame,coordinates, speeds,kinematical_differential_equations)"
   ]
  },
  {
   "cell_type": "markdown",
   "metadata": {},
   "source": [
    "## Manoeuver derivatives"
   ]
  },
  {
   "cell_type": "code",
   "execution_count": 65,
   "metadata": {},
   "outputs": [],
   "source": [
    "delta_R = sym.symbols('\\delta_{R}')\n",
    "eta = sym.symbols('\\eta')\n",
    "\n",
    "Xvv = sym.symbols('X_{vv}')\n",
    "Xvr = sym.symbols('X_{vr}')\n",
    "Xvveta = sym.symbols('X_{vv\\eta}')\n",
    "Xdd = sym.symbols('X_{\\delta\\delta}')\n",
    "Xddetaeta = sym.symbols('X_{\\delta\\delta\\eta\\eta}')\n",
    "\n",
    "# X\n",
    "Xudot = sym.symbols('X_{\\dot{u}}')\n",
    "a_i = sym.symbols('a_{i}')\n",
    "b_i = sym.symbols('b_{i}')\n",
    "c_i = sym.symbols('c_{i}')\n",
    "Xrr = sym.symbols('X_{rr}')\n",
    "Xvv = sym.symbols('X_{vv}')\n",
    "Xvr = sym.symbols('X_{vr}')\n",
    "Xvveta = sym.symbols('X_{vv\\eta}')\n",
    "Xdeltadelta = sym.symbols('X_{\\delta\\delta}')\n",
    "Xddetaeta = sym.symbols('X_{\\delta\\delta\\eta\\eta}')\n",
    "\n",
    "# Y\n",
    "Yvdot = sym.symbols('Y_{\\dot{v}}')\n",
    "Yrdot = sym.symbols('Y_{\\dot{r}}')\n",
    "\n",
    "Yv = sym.symbols('Y_{v}')\n",
    "Yr = sym.symbols('Y_{r}')\n",
    "Yvav = sym.symbols('Y_{v\\abs{v}}')\n",
    "Yvar = sym.symbols('Y_{v\\abs{r}}')\n",
    "\n",
    "Yveta = sym.symbols('Y_{v\\eta}')\n",
    "Yreta = sym.symbols('Y_{r\\eta}')\n",
    "Yvaveta = sym.symbols('Y_{v\\abs{v}\\eta}')\n",
    "\n",
    "Ystar = sym.symbols('Y_{*}')\n",
    "Ystareta = sym.symbols('Y_{*\\eta}')\n",
    "\n",
    "Ydelta = sym.symbols('Y_{\\delta}')\n",
    "Ydeltaar = sym.symbols('Y_{\\delta\\abs{r}}')\n",
    "Ydeltaeta = sym.symbols('Y_{\\delta\\eta}')\n",
    "\n",
    "# N\n",
    "Nrdot = sym.symbols('N_{\\dot{r}}')\n",
    "Nvdot = sym.symbols('N_{\\dot{v}}')\n",
    "\n",
    "Nr = sym.symbols('N_{r}')\n",
    "Nv = sym.symbols('N_{v}')\n",
    "Nrar = sym.symbols('N_{r\\abs{r}}')\n",
    "Nvav = sym.symbols('N_{v\\abs{v}}')\n",
    "Nvar = sym.symbols('N_{v\\abs{r}}')\n",
    "\n",
    "Nreta = sym.symbols('N_{r\\eta}')\n",
    "Nveta = sym.symbols('N_{v\\eta}')\n",
    "Nvaveta = sym.symbols('N_{v\\abs{v}\\eta}')\n",
    "\n",
    "Ndelta = sym.symbols('N_{\\delta}')\n",
    "Ndeltaar = sym.symbols('N_{\\delta\\abs{r}}')\n",
    "Ndeltaeta = sym.symbols('N_{\\delta\\eta}')\n",
    "\n",
    "Nstar = sym.symbols('N_{*}')\n",
    "Nstareta = sym.symbols('N_{*\\eta}')\n",
    "\n"
   ]
  },
  {
   "cell_type": "code",
   "execution_count": 67,
   "metadata": {},
   "outputs": [
    {
     "data": {
      "text/latex": [
       "$$X_{\\delta\\delta\\eta\\eta} \\delta_{R}^{2} \\eta^{2} + X_{\\delta\\delta} \\delta_{R}^{2} + X_{\\dot{u}} \\frac{d}{d t} u{\\left (t \\right )} + X_{rr} r^{2}{\\left (t \\right )} + X_{vr} r{\\left (t \\right )} v{\\left (t \\right )} + X_{vv\\eta} \\left(\\eta - 1\\right) v^{2}{\\left (t \\right )} + X_{vv} v^{2}{\\left (t \\right )} + \\eta^{2} c_{i} + \\eta b_{i} + a_{i}$$"
      ],
      "text/plain": [
       "                                   2     2                              2     \n",
       "X_{\\delta\\delta\\eta\\eta}⋅\\delta_{R} ⋅\\eta  + X_{\\delta\\delta}⋅\\delta_{R}  + X_\n",
       "                                                                              \n",
       "\n",
       "          d                  2                                                \n",
       "{\\dot{u}}⋅──(u(t)) + X_{rr}⋅r (t) + X_{vr}⋅r(t)⋅v(t) + X_{vv\\eta}⋅(\\eta - 1)⋅v\n",
       "          dt                                                                  \n",
       "\n",
       "2              2          2                           \n",
       " (t) + X_{vv}⋅v (t) + \\eta ⋅c_{i} + \\eta⋅b_{i} + a_{i}\n",
       "                                                      "
      ]
     },
     "execution_count": 67,
     "metadata": {},
     "output_type": "execute_result"
    }
   ],
   "source": [
    "Fx = (\n",
    "Xudot*u.diff() \n",
    "+ (a_i + b_i*eta + c_i*eta**2)\n",
    "+ Xrr*r**2 + Xvv*v**2 + Xvr*v*r\n",
    "+ Xvveta*v**2*(eta-1)\n",
    "+ Xdeltadelta*delta_R**2\n",
    "+ Xddetaeta*(delta_R**2*eta**2)   \n",
    ")    \n",
    "\n",
    " \n",
    "Fx"
   ]
  },
  {
   "cell_type": "code",
   "execution_count": 68,
   "metadata": {},
   "outputs": [],
   "source": [
    "forces = Fx*ship_frame.x\n",
    "\n",
    "\n",
    "\n",
    "\n",
    "mass = me.Particle('m', CG, m)"
   ]
  },
  {
   "cell_type": "code",
   "execution_count": 24,
   "metadata": {},
   "outputs": [
    {
     "data": {
      "text/latex": [
       "$$Izz\\mathbf{\\hat{s}_z}\\otimes \\mathbf{\\hat{s}_z}$$"
      ],
      "text/plain": [
       "Izz s_z⊗s_z"
      ]
     },
     "execution_count": 24,
     "metadata": {},
     "output_type": "execute_result"
    }
   ],
   "source": [
    "inertia_dyadic = me.inertia(ship_frame, ixx = 0, iyy = 0, izz = Izz)\n",
    "inertia_dyadic"
   ]
  },
  {
   "cell_type": "code",
   "execution_count": 69,
   "metadata": {},
   "outputs": [],
   "source": [
    "inertia = (inertia_dyadic, CG)"
   ]
  },
  {
   "cell_type": "code",
   "execution_count": 70,
   "metadata": {},
   "outputs": [],
   "source": [
    "ship = me.RigidBody('ship',masscenter=CG,frame = ship_frame,mass = m,inertia=inertia)"
   ]
  },
  {
   "cell_type": "code",
   "execution_count": 71,
   "metadata": {},
   "outputs": [],
   "source": [
    "fr, frstar = kane.kanes_equations(bodies = [ship],loads = [(O, forces)])"
   ]
  },
  {
   "cell_type": "code",
   "execution_count": 72,
   "metadata": {},
   "outputs": [
    {
     "data": {
      "text/latex": [
       "$$\\left[\\begin{matrix}1 & 0 & 0 & 0 & 0 & 0\\\\0 & 1 & 0 & 0 & 0 & 0\\\\0 & 0 & 1 & 0 & 0 & 0\\\\0 & 0 & 0 & m & 0 & - m y{\\left (t \\right )}\\\\0 & 0 & 0 & 0 & m & m \\left(x_{cg} + x{\\left (t \\right )}\\right)\\\\0 & 0 & 0 & - m y{\\left (t \\right )} & m \\left(x_{cg} + x{\\left (t \\right )}\\right) & Izz + m \\left(\\left(x_{cg} + x{\\left (t \\right )}\\right)^{2} + y^{2}{\\left (t \\right )}\\right)\\end{matrix}\\right]$$"
      ],
      "text/plain": [
       "⎡1  0  0     0             0                          0                 ⎤\n",
       "⎢                                                                       ⎥\n",
       "⎢0  1  0     0             0                          0                 ⎥\n",
       "⎢                                                                       ⎥\n",
       "⎢0  0  1     0             0                          0                 ⎥\n",
       "⎢                                                                       ⎥\n",
       "⎢0  0  0     m             0                       -m⋅y(t)              ⎥\n",
       "⎢                                                                       ⎥\n",
       "⎢0  0  0     0             m                  m⋅(x_{cg} + x(t))         ⎥\n",
       "⎢                                                                       ⎥\n",
       "⎢                                             ⎛               2    2   ⎞⎥\n",
       "⎣0  0  0  -m⋅y(t)  m⋅(x_{cg} + x(t))  Izz + m⋅⎝(x_{cg} + x(t))  + y (t)⎠⎦"
      ]
     },
     "execution_count": 72,
     "metadata": {},
     "output_type": "execute_result"
    }
   ],
   "source": [
    "M = kane.mass_matrix_full \n",
    "M"
   ]
  },
  {
   "cell_type": "code",
   "execution_count": 73,
   "metadata": {},
   "outputs": [
    {
     "data": {
      "text/latex": [
       "$$\\left[\\begin{matrix}u{\\left (t \\right )}\\\\v{\\left (t \\right )}\\\\r{\\left (t \\right )}\\\\X_{\\delta\\delta\\eta\\eta} \\delta_{R}^{2} \\eta^{2} + X_{\\delta\\delta} \\delta_{R}^{2} + X_{rr} r^{2}{\\left (t \\right )} + X_{vr} r{\\left (t \\right )} v{\\left (t \\right )} + X_{vv\\eta} \\left(\\eta - 1\\right) v^{2}{\\left (t \\right )} + X_{vv} v^{2}{\\left (t \\right )} + \\eta^{2} c_{i} + \\eta b_{i} + a_{i} - m \\left(- \\left(x_{cg} r{\\left (t \\right )} + r{\\left (t \\right )} x{\\left (t \\right )} + v{\\left (t \\right )}\\right) r{\\left (t \\right )} - r{\\left (t \\right )} v{\\left (t \\right )}\\right)\\\\- m \\left(\\left(- r{\\left (t \\right )} y{\\left (t \\right )} + u{\\left (t \\right )}\\right) r{\\left (t \\right )} + r{\\left (t \\right )} u{\\left (t \\right )}\\right)\\\\- m \\left(x_{cg} + x{\\left (t \\right )}\\right) \\left(\\left(- r{\\left (t \\right )} y{\\left (t \\right )} + u{\\left (t \\right )}\\right) r{\\left (t \\right )} + r{\\left (t \\right )} u{\\left (t \\right )}\\right) + m \\left(- \\left(x_{cg} r{\\left (t \\right )} + r{\\left (t \\right )} x{\\left (t \\right )} + v{\\left (t \\right )}\\right) r{\\left (t \\right )} - r{\\left (t \\right )} v{\\left (t \\right )}\\right) y{\\left (t \\right )} - \\left(X_{\\delta\\delta\\eta\\eta} \\delta_{R}^{2} \\eta^{2} + X_{\\delta\\delta} \\delta_{R}^{2} + X_{rr} r^{2}{\\left (t \\right )} + X_{vr} r{\\left (t \\right )} v{\\left (t \\right )} + X_{vv\\eta} \\left(\\eta - 1\\right) v^{2}{\\left (t \\right )} + X_{vv} v^{2}{\\left (t \\right )} + \\eta^{2} c_{i} + \\eta b_{i} + a_{i}\\right) y{\\left (t \\right )}\\end{matrix}\\right]$$"
      ],
      "text/plain": [
       "⎡                                                                             \n",
       "⎢                                                                             \n",
       "⎢                                                                             \n",
       "⎢                                                                             \n",
       "⎢                                                                             \n",
       "⎢                                                                             \n",
       "⎢                                                                       2     \n",
       "⎢                                    X_{\\delta\\delta\\eta\\eta}⋅\\delta_{R} ⋅\\eta\n",
       "⎢                                                                             \n",
       "⎢                                                                             \n",
       "⎢                                                                             \n",
       "⎢                                                                             \n",
       "⎣-m⋅(x_{cg} + x(t))⋅((-r(t)⋅y(t) + u(t))⋅r(t) + r(t)⋅u(t)) + m⋅(-(x_{cg}⋅r(t) \n",
       "\n",
       "                                                                              \n",
       "                                                                              \n",
       "                                                                              \n",
       "                                                                              \n",
       "                                                                              \n",
       "                                                                              \n",
       "2                              2           2                                  \n",
       "  + X_{\\delta\\delta}⋅\\delta_{R}  + X_{rr}⋅r (t) + X_{vr}⋅r(t)⋅v(t) + X_{vv\\eta\n",
       "                                                                              \n",
       "                                                            -m⋅((-r(t)⋅y(t) + \n",
       "                                                                              \n",
       "                                             ⎛                                \n",
       "+ r(t)⋅x(t) + v(t))⋅r(t) - r(t)⋅v(t))⋅y(t) - ⎝X_{\\delta\\delta\\eta\\eta}⋅\\delta_\n",
       "\n",
       " u(t)                                                                         \n",
       "                                                                              \n",
       " v(t)                                                                         \n",
       "                                                                              \n",
       " r(t)                                                                         \n",
       "                                                                              \n",
       "              2              2          2                                     \n",
       "}⋅(\\eta - 1)⋅v (t) + X_{vv}⋅v (t) + \\eta ⋅c_{i} + \\eta⋅b_{i} + a_{i} - m⋅(-(x_\n",
       "                                                                              \n",
       "u(t))⋅r(t) + r(t)⋅u(t))                                                       \n",
       "                                                                              \n",
       "   2     2                              2           2                         \n",
       "{R} ⋅\\eta  + X_{\\delta\\delta}⋅\\delta_{R}  + X_{rr}⋅r (t) + X_{vr}⋅r(t)⋅v(t) + \n",
       "\n",
       "                                                                              \n",
       "                                                                              \n",
       "                                                                              \n",
       "                                                                              \n",
       "                                                                              \n",
       "                                                                              \n",
       "                                                                              \n",
       "{cg}⋅r(t) + r(t)⋅x(t) + v(t))⋅r(t) - r(t)⋅v(t))                               \n",
       "                                                                              \n",
       "                                                                              \n",
       "                                                                              \n",
       "                       2              2          2                           ⎞\n",
       "X_{vv\\eta}⋅(\\eta - 1)⋅v (t) + X_{vv}⋅v (t) + \\eta ⋅c_{i} + \\eta⋅b_{i} + a_{i}⎠\n",
       "\n",
       "     ⎤\n",
       "     ⎥\n",
       "     ⎥\n",
       "     ⎥\n",
       "     ⎥\n",
       "     ⎥\n",
       "     ⎥\n",
       "     ⎥\n",
       "     ⎥\n",
       "     ⎥\n",
       "     ⎥\n",
       "     ⎥\n",
       "⋅y(t)⎦"
      ]
     },
     "execution_count": 73,
     "metadata": {},
     "output_type": "execute_result"
    }
   ],
   "source": [
    "f = kane.forcing_full\n",
    "f"
   ]
  },
  {
   "cell_type": "code",
   "execution_count": 74,
   "metadata": {},
   "outputs": [
    {
     "data": {
      "text/latex": [
       "$$\\left[\\begin{matrix}u{\\left (t \\right )}\\\\v{\\left (t \\right )}\\\\r{\\left (t \\right )}\\\\\\frac{m^{3} \\left(x_{cg} + x{\\left (t \\right )}\\right) \\left(\\left(- r{\\left (t \\right )} y{\\left (t \\right )} + u{\\left (t \\right )}\\right) r{\\left (t \\right )} + r{\\left (t \\right )} u{\\left (t \\right )}\\right) y{\\left (t \\right )}}{- m^{3} \\left(x_{cg} + x{\\left (t \\right )}\\right)^{2} + m \\left(- m^{2} y^{2}{\\left (t \\right )} + m \\left(Izz + m \\left(\\left(x_{cg} + x{\\left (t \\right )}\\right)^{2} + y^{2}{\\left (t \\right )}\\right)\\right)\\right)} + \\frac{m^{2} \\left(- m \\left(x_{cg} + x{\\left (t \\right )}\\right) \\left(\\left(- r{\\left (t \\right )} y{\\left (t \\right )} + u{\\left (t \\right )}\\right) r{\\left (t \\right )} + r{\\left (t \\right )} u{\\left (t \\right )}\\right) + m \\left(- \\left(x_{cg} r{\\left (t \\right )} + r{\\left (t \\right )} x{\\left (t \\right )} + v{\\left (t \\right )}\\right) r{\\left (t \\right )} - r{\\left (t \\right )} v{\\left (t \\right )}\\right) y{\\left (t \\right )} - \\left(X_{\\delta\\delta\\eta\\eta} \\delta_{R}^{2} \\eta^{2} + X_{\\delta\\delta} \\delta_{R}^{2} + X_{rr} r^{2}{\\left (t \\right )} + X_{vr} r{\\left (t \\right )} v{\\left (t \\right )} + X_{vv\\eta} \\left(\\eta - 1\\right) v^{2}{\\left (t \\right )} + X_{vv} v^{2}{\\left (t \\right )} + \\eta^{2} c_{i} + \\eta b_{i} + a_{i}\\right) y{\\left (t \\right )}\\right) y{\\left (t \\right )}}{- m^{3} \\left(x_{cg} + x{\\left (t \\right )}\\right)^{2} + m \\left(- m^{2} y^{2}{\\left (t \\right )} + m \\left(Izz + m \\left(\\left(x_{cg} + x{\\left (t \\right )}\\right)^{2} + y^{2}{\\left (t \\right )}\\right)\\right)\\right)} + \\frac{\\left(- m^{3} \\left(x_{cg} + x{\\left (t \\right )}\\right)^{2} + m^{3} y^{2}{\\left (t \\right )} + m \\left(- m^{2} y^{2}{\\left (t \\right )} + m \\left(Izz + m \\left(\\left(x_{cg} + x{\\left (t \\right )}\\right)^{2} + y^{2}{\\left (t \\right )}\\right)\\right)\\right)\\right) \\left(X_{\\delta\\delta\\eta\\eta} \\delta_{R}^{2} \\eta^{2} + X_{\\delta\\delta} \\delta_{R}^{2} + X_{rr} r^{2}{\\left (t \\right )} + X_{vr} r{\\left (t \\right )} v{\\left (t \\right )} + X_{vv\\eta} \\left(\\eta - 1\\right) v^{2}{\\left (t \\right )} + X_{vv} v^{2}{\\left (t \\right )} + \\eta^{2} c_{i} + \\eta b_{i} + a_{i} - m \\left(- \\left(x_{cg} r{\\left (t \\right )} + r{\\left (t \\right )} x{\\left (t \\right )} + v{\\left (t \\right )}\\right) r{\\left (t \\right )} - r{\\left (t \\right )} v{\\left (t \\right )}\\right)\\right)}{m \\left(- m^{3} \\left(x_{cg} + x{\\left (t \\right )}\\right)^{2} + m \\left(- m^{2} y^{2}{\\left (t \\right )} + m \\left(Izz + m \\left(\\left(x_{cg} + x{\\left (t \\right )}\\right)^{2} + y^{2}{\\left (t \\right )}\\right)\\right)\\right)\\right)}\\\\- \\frac{m^{2} \\left(x_{cg} + x{\\left (t \\right )}\\right) \\left(- m \\left(x_{cg} + x{\\left (t \\right )}\\right) \\left(\\left(- r{\\left (t \\right )} y{\\left (t \\right )} + u{\\left (t \\right )}\\right) r{\\left (t \\right )} + r{\\left (t \\right )} u{\\left (t \\right )}\\right) + m \\left(- \\left(x_{cg} r{\\left (t \\right )} + r{\\left (t \\right )} x{\\left (t \\right )} + v{\\left (t \\right )}\\right) r{\\left (t \\right )} - r{\\left (t \\right )} v{\\left (t \\right )}\\right) y{\\left (t \\right )} - \\left(X_{\\delta\\delta\\eta\\eta} \\delta_{R}^{2} \\eta^{2} + X_{\\delta\\delta} \\delta_{R}^{2} + X_{rr} r^{2}{\\left (t \\right )} + X_{vr} r{\\left (t \\right )} v{\\left (t \\right )} + X_{vv\\eta} \\left(\\eta - 1\\right) v^{2}{\\left (t \\right )} + X_{vv} v^{2}{\\left (t \\right )} + \\eta^{2} c_{i} + \\eta b_{i} + a_{i}\\right) y{\\left (t \\right )}\\right)}{- m^{3} \\left(x_{cg} + x{\\left (t \\right )}\\right)^{2} + m \\left(- m^{2} y^{2}{\\left (t \\right )} + m \\left(Izz + m \\left(\\left(x_{cg} + x{\\left (t \\right )}\\right)^{2} + y^{2}{\\left (t \\right )}\\right)\\right)\\right)} - \\frac{m^{2} \\left(x_{cg} + x{\\left (t \\right )}\\right) \\left(X_{\\delta\\delta\\eta\\eta} \\delta_{R}^{2} \\eta^{2} + X_{\\delta\\delta} \\delta_{R}^{2} + X_{rr} r^{2}{\\left (t \\right )} + X_{vr} r{\\left (t \\right )} v{\\left (t \\right )} + X_{vv\\eta} \\left(\\eta - 1\\right) v^{2}{\\left (t \\right )} + X_{vv} v^{2}{\\left (t \\right )} + \\eta^{2} c_{i} + \\eta b_{i} + a_{i} - m \\left(- \\left(x_{cg} r{\\left (t \\right )} + r{\\left (t \\right )} x{\\left (t \\right )} + v{\\left (t \\right )}\\right) r{\\left (t \\right )} - r{\\left (t \\right )} v{\\left (t \\right )}\\right)\\right) y{\\left (t \\right )}}{- m^{3} \\left(x_{cg} + x{\\left (t \\right )}\\right)^{2} + m \\left(- m^{2} y^{2}{\\left (t \\right )} + m \\left(Izz + m \\left(\\left(x_{cg} + x{\\left (t \\right )}\\right)^{2} + y^{2}{\\left (t \\right )}\\right)\\right)\\right)} - \\frac{m \\left(- m^{2} y^{2}{\\left (t \\right )} + m \\left(Izz + m \\left(\\left(x_{cg} + x{\\left (t \\right )}\\right)^{2} + y^{2}{\\left (t \\right )}\\right)\\right)\\right) \\left(\\left(- r{\\left (t \\right )} y{\\left (t \\right )} + u{\\left (t \\right )}\\right) r{\\left (t \\right )} + r{\\left (t \\right )} u{\\left (t \\right )}\\right)}{- m^{3} \\left(x_{cg} + x{\\left (t \\right )}\\right)^{2} + m \\left(- m^{2} y^{2}{\\left (t \\right )} + m \\left(Izz + m \\left(\\left(x_{cg} + x{\\left (t \\right )}\\right)^{2} + y^{2}{\\left (t \\right )}\\right)\\right)\\right)}\\\\\\frac{m^{3} \\left(x_{cg} + x{\\left (t \\right )}\\right) \\left(\\left(- r{\\left (t \\right )} y{\\left (t \\right )} + u{\\left (t \\right )}\\right) r{\\left (t \\right )} + r{\\left (t \\right )} u{\\left (t \\right )}\\right)}{- m^{3} \\left(x_{cg} + x{\\left (t \\right )}\\right)^{2} + m \\left(- m^{2} y^{2}{\\left (t \\right )} + m \\left(Izz + m \\left(\\left(x_{cg} + x{\\left (t \\right )}\\right)^{2} + y^{2}{\\left (t \\right )}\\right)\\right)\\right)} + \\frac{m^{2} \\left(- m \\left(x_{cg} + x{\\left (t \\right )}\\right) \\left(\\left(- r{\\left (t \\right )} y{\\left (t \\right )} + u{\\left (t \\right )}\\right) r{\\left (t \\right )} + r{\\left (t \\right )} u{\\left (t \\right )}\\right) + m \\left(- \\left(x_{cg} r{\\left (t \\right )} + r{\\left (t \\right )} x{\\left (t \\right )} + v{\\left (t \\right )}\\right) r{\\left (t \\right )} - r{\\left (t \\right )} v{\\left (t \\right )}\\right) y{\\left (t \\right )} - \\left(X_{\\delta\\delta\\eta\\eta} \\delta_{R}^{2} \\eta^{2} + X_{\\delta\\delta} \\delta_{R}^{2} + X_{rr} r^{2}{\\left (t \\right )} + X_{vr} r{\\left (t \\right )} v{\\left (t \\right )} + X_{vv\\eta} \\left(\\eta - 1\\right) v^{2}{\\left (t \\right )} + X_{vv} v^{2}{\\left (t \\right )} + \\eta^{2} c_{i} + \\eta b_{i} + a_{i}\\right) y{\\left (t \\right )}\\right)}{- m^{3} \\left(x_{cg} + x{\\left (t \\right )}\\right)^{2} + m \\left(- m^{2} y^{2}{\\left (t \\right )} + m \\left(Izz + m \\left(\\left(x_{cg} + x{\\left (t \\right )}\\right)^{2} + y^{2}{\\left (t \\right )}\\right)\\right)\\right)} + \\frac{m^{2} \\left(X_{\\delta\\delta\\eta\\eta} \\delta_{R}^{2} \\eta^{2} + X_{\\delta\\delta} \\delta_{R}^{2} + X_{rr} r^{2}{\\left (t \\right )} + X_{vr} r{\\left (t \\right )} v{\\left (t \\right )} + X_{vv\\eta} \\left(\\eta - 1\\right) v^{2}{\\left (t \\right )} + X_{vv} v^{2}{\\left (t \\right )} + \\eta^{2} c_{i} + \\eta b_{i} + a_{i} - m \\left(- \\left(x_{cg} r{\\left (t \\right )} + r{\\left (t \\right )} x{\\left (t \\right )} + v{\\left (t \\right )}\\right) r{\\left (t \\right )} - r{\\left (t \\right )} v{\\left (t \\right )}\\right)\\right) y{\\left (t \\right )}}{- m^{3} \\left(x_{cg} + x{\\left (t \\right )}\\right)^{2} + m \\left(- m^{2} y^{2}{\\left (t \\right )} + m \\left(Izz + m \\left(\\left(x_{cg} + x{\\left (t \\right )}\\right)^{2} + y^{2}{\\left (t \\right )}\\right)\\right)\\right)}\\end{matrix}\\right]$$"
      ],
      "text/plain": [
       "⎡                                                                             \n",
       "⎢                                                                             \n",
       "⎢                                                                             \n",
       "⎢                                                                             \n",
       "⎢                                                                             \n",
       "⎢                                                                             \n",
       "⎢          3                                                                  \n",
       "⎢         m ⋅(x_{cg} + x(t))⋅((-r(t)⋅y(t) + u(t))⋅r(t) + r(t)⋅u(t))⋅y(t)      \n",
       "⎢─────────────────────────────────────────────────────────────────────────────\n",
       "⎢   3                2     ⎛   2  2        ⎛        ⎛               2    2   ⎞\n",
       "⎢- m ⋅(x_{cg} + x(t))  + m⋅⎝- m ⋅y (t) + m⋅⎝Izz + m⋅⎝(x_{cg} + x(t))  + y (t)⎠\n",
       "⎢                                                                             \n",
       "⎢                       2                 ⎛                                   \n",
       "⎢                      m ⋅(x_{cg} + x(t))⋅⎝-m⋅(x_{cg} + x(t))⋅((-r(t)⋅y(t) + u\n",
       "⎢                    - ───────────────────────────────────────────────────────\n",
       "⎢                                                                             \n",
       "⎢                                                                             \n",
       "⎢                                                                             \n",
       "⎢                                                         3                   \n",
       "⎢                                                        m ⋅(x_{cg} + x(t))⋅((\n",
       "⎢                                             ────────────────────────────────\n",
       "⎢                                                3                2     ⎛   2 \n",
       "⎣                                             - m ⋅(x_{cg} + x(t))  + m⋅⎝- m ⋅\n",
       "\n",
       "                                                                              \n",
       "                                                                              \n",
       "                                                                              \n",
       "                                                                              \n",
       "                                                                              \n",
       "                                                                              \n",
       "      2 ⎛                                                                     \n",
       "     m ⋅⎝-m⋅(x_{cg} + x(t))⋅((-r(t)⋅y(t) + u(t))⋅r(t) + r(t)⋅u(t)) + m⋅(-(x_{c\n",
       "── + ─────────────────────────────────────────────────────────────────────────\n",
       "⎞⎞                                                                            \n",
       "⎠⎠                                                                            \n",
       "                                                                              \n",
       "                                                                              \n",
       "(t))⋅r(t) + r(t)⋅u(t)) + m⋅(-(x_{cg}⋅r(t) + r(t)⋅x(t) + v(t))⋅r(t) - r(t)⋅v(t)\n",
       "──────────────────────────────────────────────────────────────────────────────\n",
       "                                                                             3\n",
       "                                                                          - m \n",
       "                                                                              \n",
       "                                                   2 ⎛                        \n",
       "-r(t)⋅y(t) + u(t))⋅r(t) + r(t)⋅u(t))              m ⋅⎝-m⋅(x_{cg} + x(t))⋅((-r(\n",
       "─────────────────────────────────────────────── + ────────────────────────────\n",
       " 2        ⎛        ⎛               2    2   ⎞⎞⎞                               \n",
       "y (t) + m⋅⎝Izz + m⋅⎝(x_{cg} + x(t))  + y (t)⎠⎠⎠                               \n",
       "\n",
       "                                                                              \n",
       "                                                                              \n",
       "                                                                              \n",
       "                                                                              \n",
       "                                                                              \n",
       "                                                                              \n",
       "                                                     ⎛                        \n",
       "g}⋅r(t) + r(t)⋅x(t) + v(t))⋅r(t) - r(t)⋅v(t))⋅y(t) - ⎝X_{\\delta\\delta\\eta\\eta}\n",
       "──────────────────────────────────────────────────────────────────────────────\n",
       "                                                     3                2     ⎛ \n",
       "                                                  - m ⋅(x_{cg} + x(t))  + m⋅⎝-\n",
       "                                                                              \n",
       "         ⎛                                   2     2                          \n",
       ")⋅y(t) - ⎝X_{\\delta\\delta\\eta\\eta}⋅\\delta_{R} ⋅\\eta  + X_{\\delta\\delta}⋅\\delta\n",
       "──────────────────────────────────────────────────────────────────────────────\n",
       "                2     ⎛   2  2        ⎛        ⎛               2    2   ⎞⎞⎞   \n",
       "⋅(x_{cg} + x(t))  + m⋅⎝- m ⋅y (t) + m⋅⎝Izz + m⋅⎝(x_{cg} + x(t))  + y (t)⎠⎠⎠   \n",
       "                                                                              \n",
       "                                                                              \n",
       "t)⋅y(t) + u(t))⋅r(t) + r(t)⋅u(t)) + m⋅(-(x_{cg}⋅r(t) + r(t)⋅x(t) + v(t))⋅r(t) \n",
       "──────────────────────────────────────────────────────────────────────────────\n",
       "                                                                              \n",
       "                                                                              \n",
       "\n",
       "                                                                              \n",
       "                                                                              \n",
       "                                                                              \n",
       "                                                                              \n",
       "                                                                              \n",
       "                                                                              \n",
       "           2     2                              2           2                 \n",
       "⋅\\delta_{R} ⋅\\eta  + X_{\\delta\\delta}⋅\\delta_{R}  + X_{rr}⋅r (t) + X_{vr}⋅r(t)\n",
       "──────────────────────────────────────────────────────────────────────────────\n",
       "  2  2        ⎛        ⎛               2    2   ⎞⎞⎞                           \n",
       " m ⋅y (t) + m⋅⎝Izz + m⋅⎝(x_{cg} + x(t))  + y (t)⎠⎠⎠                           \n",
       "                                                                              \n",
       "    2           2                                                2            \n",
       "_{R}  + X_{rr}⋅r (t) + X_{vr}⋅r(t)⋅v(t) + X_{vv\\eta}⋅(\\eta - 1)⋅v (t) + X_{vv}\n",
       "──────────────────────────────────────────────────────────────────────────────\n",
       "                                                                              \n",
       "                                                                              \n",
       "                                                                              \n",
       "                    ⎛                                   2     2               \n",
       "- r(t)⋅v(t))⋅y(t) - ⎝X_{\\delta\\delta\\eta\\eta}⋅\\delta_{R} ⋅\\eta  + X_{\\delta\\de\n",
       "──────────────────────────────────────────────────────────────────────────────\n",
       "                  3                2     ⎛   2  2        ⎛        ⎛           \n",
       "               - m ⋅(x_{cg} + x(t))  + m⋅⎝- m ⋅y (t) + m⋅⎝Izz + m⋅⎝(x_{cg} + x\n",
       "\n",
       "                                                              u(t)            \n",
       "                                                                              \n",
       "                                                              v(t)            \n",
       "                                                                              \n",
       "                                                              r(t)            \n",
       "                                                                              \n",
       "                               2              2          2                    \n",
       "⋅v(t) + X_{vv\\eta}⋅(\\eta - 1)⋅v (t) + X_{vv}⋅v (t) + \\eta ⋅c_{i} + \\eta⋅b_{i} \n",
       "──────────────────────────────────────────────────────────────────────────────\n",
       "                                                                              \n",
       "                                                                              \n",
       "                                                                              \n",
       "  2          2                           ⎞     ⎞    2                 ⎛       \n",
       "⋅v (t) + \\eta ⋅c_{i} + \\eta⋅b_{i} + a_{i}⎠⋅y(t)⎠   m ⋅(x_{cg} + x(t))⋅⎝X_{\\del\n",
       "──────────────────────────────────────────────── - ───────────────────────────\n",
       "                                                                              \n",
       "                                                                              \n",
       "                                                                              \n",
       "               2           2                                                2 \n",
       "lta}⋅\\delta_{R}  + X_{rr}⋅r (t) + X_{vr}⋅r(t)⋅v(t) + X_{vv\\eta}⋅(\\eta - 1)⋅v (\n",
       "──────────────────────────────────────────────────────────────────────────────\n",
       "    2    2   ⎞⎞⎞                                                              \n",
       "(t))  + y (t)⎠⎠⎠                                                              \n",
       "\n",
       "                                                                              \n",
       "                                                                              \n",
       "                                                                              \n",
       "                                                                              \n",
       "                                                                              \n",
       "                                                                              \n",
       "       ⎞     ⎞        ⎛   3                2    3  2        ⎛   2  2        ⎛ \n",
       "+ a_{i}⎠⋅y(t)⎠⋅y(t)   ⎝- m ⋅(x_{cg} + x(t))  + m ⋅y (t) + m⋅⎝- m ⋅y (t) + m⋅⎝I\n",
       "─────────────────── + ────────────────────────────────────────────────────────\n",
       "                                                                              \n",
       "                                                                              \n",
       "                                                                              \n",
       "                            2     2                              2           2\n",
       "ta\\delta\\eta\\eta}⋅\\delta_{R} ⋅\\eta  + X_{\\delta\\delta}⋅\\delta_{R}  + X_{rr}⋅r \n",
       "──────────────────────────────────────────────────────────────────────────────\n",
       "                                                                       3      \n",
       "                                                                    - m ⋅(x_{c\n",
       "                                                                              \n",
       "             2          2                           ⎞     ⎞    2 ⎛            \n",
       "t) + X_{vv}⋅v (t) + \\eta ⋅c_{i} + \\eta⋅b_{i} + a_{i}⎠⋅y(t)⎠   m ⋅⎝X_{\\delta\\de\n",
       "─────────────────────────────────────────────────────────── + ────────────────\n",
       "                                                                              \n",
       "                                                                              \n",
       "\n",
       "                                                                              \n",
       "                                                                              \n",
       "                                                                              \n",
       "                                                                              \n",
       "                                                                              \n",
       "                                                                              \n",
       "       ⎛               2    2   ⎞⎞⎞⎞ ⎛                                   2    \n",
       "zz + m⋅⎝(x_{cg} + x(t))  + y (t)⎠⎠⎠⎠⋅⎝X_{\\delta\\delta\\eta\\eta}⋅\\delta_{R} ⋅\\et\n",
       "──────────────────────────────────────────────────────────────────────────────\n",
       "                                                                          ⎛   \n",
       "                                                                        m⋅⎝- m\n",
       "                                                                              \n",
       "                                                2              2          2   \n",
       "(t) + X_{vr}⋅r(t)⋅v(t) + X_{vv\\eta}⋅(\\eta - 1)⋅v (t) + X_{vv}⋅v (t) + \\eta ⋅c_\n",
       "──────────────────────────────────────────────────────────────────────────────\n",
       "          2     ⎛   2  2        ⎛        ⎛               2    2   ⎞⎞⎞         \n",
       "g} + x(t))  + m⋅⎝- m ⋅y (t) + m⋅⎝Izz + m⋅⎝(x_{cg} + x(t))  + y (t)⎠⎠⎠         \n",
       "                                                                              \n",
       "                       2     2                              2           2     \n",
       "lta\\eta\\eta}⋅\\delta_{R} ⋅\\eta  + X_{\\delta\\delta}⋅\\delta_{R}  + X_{rr}⋅r (t) +\n",
       "──────────────────────────────────────────────────────────────────────────────\n",
       "                                                                          3   \n",
       "                                                                       - m ⋅(x\n",
       "\n",
       "                                                                              \n",
       "                                                                              \n",
       "                                                                              \n",
       "                                                                              \n",
       "                                                                              \n",
       "                                                                              \n",
       " 2                              2           2                                 \n",
       "a  + X_{\\delta\\delta}⋅\\delta_{R}  + X_{rr}⋅r (t) + X_{vr}⋅r(t)⋅v(t) + X_{vv\\et\n",
       "──────────────────────────────────────────────────────────────────────────────\n",
       "3                2     ⎛   2  2        ⎛        ⎛               2    2   ⎞⎞⎞⎞ \n",
       " ⋅(x_{cg} + x(t))  + m⋅⎝- m ⋅y (t) + m⋅⎝Izz + m⋅⎝(x_{cg} + x(t))  + y (t)⎠⎠⎠⎠ \n",
       "                                                                              \n",
       "                                                                              \n",
       "{i} + \\eta⋅b_{i} + a_{i} - m⋅(-(x_{cg}⋅r(t) + r(t)⋅x(t) + v(t))⋅r(t) - r(t)⋅v(\n",
       "──────────────────────────────────────────────────────────────────────────────\n",
       "                                                                              \n",
       "                                                                              \n",
       "                                                                              \n",
       "                                           2              2          2        \n",
       " X_{vr}⋅r(t)⋅v(t) + X_{vv\\eta}⋅(\\eta - 1)⋅v (t) + X_{vv}⋅v (t) + \\eta ⋅c_{i} +\n",
       "──────────────────────────────────────────────────────────────────────────────\n",
       "             2     ⎛   2  2        ⎛        ⎛               2    2   ⎞⎞⎞      \n",
       "_{cg} + x(t))  + m⋅⎝- m ⋅y (t) + m⋅⎝Izz + m⋅⎝(x_{cg} + x(t))  + y (t)⎠⎠⎠      \n",
       "\n",
       "                                                                              \n",
       "                                                                              \n",
       "                                                                              \n",
       "                                                                              \n",
       "                                                                              \n",
       "                                                                              \n",
       "               2              2          2                                    \n",
       "a}⋅(\\eta - 1)⋅v (t) + X_{vv}⋅v (t) + \\eta ⋅c_{i} + \\eta⋅b_{i} + a_{i} - m⋅(-(x\n",
       "──────────────────────────────────────────────────────────────────────────────\n",
       "                                                                              \n",
       "                                                                              \n",
       "                                                                              \n",
       "   ⎞          ⎛   2  2        ⎛        ⎛               2    2   ⎞⎞⎞           \n",
       "t))⎠⋅y(t)   m⋅⎝- m ⋅y (t) + m⋅⎝Izz + m⋅⎝(x_{cg} + x(t))  + y (t)⎠⎠⎠⋅((-r(t)⋅y(\n",
       "───────── - ──────────────────────────────────────────────────────────────────\n",
       "                      3                2     ⎛   2  2        ⎛        ⎛       \n",
       "                   - m ⋅(x_{cg} + x(t))  + m⋅⎝- m ⋅y (t) + m⋅⎝Izz + m⋅⎝(x_{cg}\n",
       "                                                                              \n",
       "                                                                            ⎞ \n",
       " \\eta⋅b_{i} + a_{i} - m⋅(-(x_{cg}⋅r(t) + r(t)⋅x(t) + v(t))⋅r(t) - r(t)⋅v(t))⎠⋅\n",
       "──────────────────────────────────────────────────────────────────────────────\n",
       "                                                                              \n",
       "                                                                              \n",
       "\n",
       "                                                 ⎤\n",
       "                                                 ⎥\n",
       "                                                 ⎥\n",
       "                                                 ⎥\n",
       "                                                 ⎥\n",
       "                                                 ⎥\n",
       "                                                ⎞⎥\n",
       "_{cg}⋅r(t) + r(t)⋅x(t) + v(t))⋅r(t) - r(t)⋅v(t))⎠⎥\n",
       "─────────────────────────────────────────────────⎥\n",
       "                                                 ⎥\n",
       "                                                 ⎥\n",
       "                                                 ⎥\n",
       "                                                 ⎥\n",
       "t) + u(t))⋅r(t) + r(t)⋅u(t))                     ⎥\n",
       "────────────────────────────                     ⎥\n",
       "        2    2   ⎞⎞⎞                             ⎥\n",
       " + x(t))  + y (t)⎠⎠⎠                             ⎥\n",
       "                                                 ⎥\n",
       "                                                 ⎥\n",
       "y(t)                                             ⎥\n",
       "────                                             ⎥\n",
       "                                                 ⎥\n",
       "                                                 ⎦"
      ]
     },
     "execution_count": 74,
     "metadata": {},
     "output_type": "execute_result"
    }
   ],
   "source": [
    "(M.inv() * f)"
   ]
  },
  {
   "cell_type": "markdown",
   "metadata": {},
   "source": [
    "## Create a PyDy system"
   ]
  },
  {
   "cell_type": "code",
   "execution_count": 105,
   "metadata": {},
   "outputs": [],
   "source": [
    "properties = {\n",
    "    m:1,\n",
    "    Izz:1,\n",
    "\n",
    "}\n",
    "\n",
    "controls = {\n",
    "delta_R:0.0,\n",
    "eta:1,\n",
    "}\n",
    "\n",
    "derivatives_x = {\n",
    "    \n",
    "    Xdeltadelta:0.1,\n",
    "}\n",
    "\n",
    "derivatives_y = {\n",
    "    \n",
    "}\n",
    "\n",
    "derivatives_n = {\n",
    "    \n",
    "}\n",
    "\n",
    "derivatives = {}\n",
    "derivatives.update(derivatives_x)\n",
    "\n",
    "constants = {}\n",
    "constants.update(properties)\n",
    "constants.update(controls)\n",
    "\n",
    "\n",
    "initial_conditions = {\n",
    "    x:0,\n",
    "    y:0,\n",
    "    psi:0,\n",
    "    u:0,\n",
    "    v:0,\n",
    "    r:0,  \n",
    "}\n",
    "\n",
    "times = np.linspace(0,10,100)\n",
    "\n",
    "sys = System(kane,constants=constants,initial_conditions=initial_conditions,times = times)"
   ]
  },
  {
   "cell_type": "code",
   "execution_count": 106,
   "metadata": {},
   "outputs": [],
   "source": [
    "result = sys.integrate()"
   ]
  },
  {
   "cell_type": "code",
   "execution_count": 107,
   "metadata": {},
   "outputs": [
    {
     "data": {
      "text/plain": [
       "Text(0,0.5,'x [m]')"
      ]
     },
     "execution_count": 107,
     "metadata": {},
     "output_type": "execute_result"
    },
    {
     "data": {
      "image/png": "[encoded data removed]",
      "text/plain": [
       "<Figure size 432x288 with 1 Axes>"
      ]
     },
     "metadata": {},
     "output_type": "display_data"
    }
   ],
   "source": [
    "fig,ax = plt.subplots()\n",
    "ax.plot(times,result[:,0])\n",
    "ax.set_xlabel('time [s]')\n",
    "ax.set_ylabel('x [m]')"
   ]
  },
  {
   "cell_type": "code",
   "execution_count": 78,
   "metadata": {},
   "outputs": [
    {
     "data": {
      "text/latex": [
       "$$\\left(x{\\left (t \\right )} \\sin{\\left (\\psi{\\left (t \\right )} \\right )} + y{\\left (t \\right )} \\cos{\\left (\\psi{\\left (t \\right )} \\right )}\\right) \\sin{\\left (\\psi{\\left (t \\right )} \\right )} + \\left(x{\\left (t \\right )} \\cos{\\left (\\psi{\\left (t \\right )} \\right )} - y{\\left (t \\right )} \\sin{\\left (\\psi{\\left (t \\right )} \\right )}\\right) \\cos{\\left (\\psi{\\left (t \\right )} \\right )}$$"
      ],
      "text/plain": [
       "(x(t)⋅sin(\\psi(t)) + y(t)⋅cos(\\psi(t)))⋅sin(\\psi(t)) + (x(t)⋅cos(\\psi(t)) - y(\n",
       "t)⋅sin(\\psi(t)))⋅cos(\\psi(t))"
      ]
     },
     "execution_count": 78,
     "metadata": {},
     "output_type": "execute_result"
    }
   ],
   "source": [
    "p = O.pos_from(O0).express(earth_frame)\n",
    "x0_ = p.dot(ship_frame.x)\n",
    "x0_"
   ]
  },
  {
   "cell_type": "code",
   "execution_count": 79,
   "metadata": {},
   "outputs": [
    {
     "data": {
      "text/latex": [
       "$$\\left(x{\\left (t \\right )} \\sin{\\left (\\psi{\\left (t \\right )} \\right )} + y{\\left (t \\right )} \\cos{\\left (\\psi{\\left (t \\right )} \\right )}\\right) \\cos{\\left (\\psi{\\left (t \\right )} \\right )} - \\left(x{\\left (t \\right )} \\cos{\\left (\\psi{\\left (t \\right )} \\right )} - y{\\left (t \\right )} \\sin{\\left (\\psi{\\left (t \\right )} \\right )}\\right) \\sin{\\left (\\psi{\\left (t \\right )} \\right )}$$"
      ],
      "text/plain": [
       "(x(t)⋅sin(\\psi(t)) + y(t)⋅cos(\\psi(t)))⋅cos(\\psi(t)) - (x(t)⋅cos(\\psi(t)) - y(\n",
       "t)⋅sin(\\psi(t)))⋅sin(\\psi(t))"
      ]
     },
     "execution_count": 79,
     "metadata": {},
     "output_type": "execute_result"
    }
   ],
   "source": [
    "y0_ = p.dot(ship_frame.y)\n",
    "y0_"
   ]
  },
  {
   "cell_type": "code",
   "execution_count": 80,
   "metadata": {},
   "outputs": [],
   "source": [
    "f_x0 = sym.lambdify((x,y,psi,t),x0_,\"numpy\")\n",
    "f_y0 = sym.lambdify((x,y,psi,t),y0_,\"numpy\")\n"
   ]
  },
  {
   "cell_type": "code",
   "execution_count": 81,
   "metadata": {},
   "outputs": [],
   "source": [
    "x0_sim = f_x0(result[:,0],result[:,1],result[:,2],times)"
   ]
  },
  {
   "cell_type": "code",
   "execution_count": 82,
   "metadata": {},
   "outputs": [
    {
     "data": {
      "text/plain": [
       "Text(0,0.5,'x0 [m]')"
      ]
     },
     "execution_count": 82,
     "metadata": {},
     "output_type": "execute_result"
    },
    {
     "data": {
      "image/png": "[encoded data removed]",
      "text/plain": [
       "<Figure size 432x288 with 1 Axes>"
      ]
     },
     "metadata": {},
     "output_type": "display_data"
    }
   ],
   "source": [
    "fig,ax = plt.subplots()\n",
    "ax.plot(times,x0_sim)\n",
    "ax.set_xlabel('time [s]')\n",
    "ax.set_ylabel('x0 [m]')"
   ]
  },
  {
   "cell_type": "code",
   "execution_count": 83,
   "metadata": {},
   "outputs": [],
   "source": [
    "y0_sim = f_y0(result[:,0],result[:,1],result[:,2],times)"
   ]
  },
  {
   "cell_type": "code",
   "execution_count": 84,
   "metadata": {},
   "outputs": [
    {
     "data": {
      "text/plain": [
       "Text(0,0.5,'y0 [m]')"
      ]
     },
     "execution_count": 84,
     "metadata": {},
     "output_type": "execute_result"
    },
    {
     "data": {
      "image/png": "[encoded data removed]",
      "text/plain": [
       "<Figure size 432x288 with 1 Axes>"
      ]
     },
     "metadata": {},
     "output_type": "display_data"
    }
   ],
   "source": [
    "fig,ax = plt.subplots()\n",
    "ax.plot(times,y0_sim)\n",
    "ax.set_xlabel('time [s]')\n",
    "ax.set_ylabel('y0 [m]')"
   ]
  },
  {
   "cell_type": "code",
   "execution_count": 85,
   "metadata": {},
   "outputs": [
    {
     "data": {
      "text/plain": [
       "Text(0,0.5,'x0 [m]')"
      ]
     },
     "execution_count": 85,
     "metadata": {},
     "output_type": "execute_result"
    },
    {
     "data": {
      "image/png": "[encoded data removed]",
      "text/plain": [
       "<Figure size 432x288 with 1 Axes>"
      ]
     },
     "metadata": {},
     "output_type": "display_data"
    }
   ],
   "source": [
    "fig,ax = plt.subplots()\n",
    "ax.plot(y0_sim,x0_sim)\n",
    "ax.set_xlabel('y0 [m]')\n",
    "ax.set_ylabel('x0 [m]')\n"
   ]
  },
  {
   "cell_type": "code",
   "execution_count": null,
   "metadata": {},
   "outputs": [],
   "source": []
  },
  {
   "cell_type": "code",
   "execution_count": null,
   "metadata": {},
   "outputs": [],
   "source": []
  }
 ],
 "metadata": {
  "kernelspec": {
   "display_name": "Python 3",
   "language": "python",
   "name": "python3"
  },
  "language_info": {
   "codemirror_mode": {
    "name": "ipython",
    "version": 3
   },
   "file_extension": ".py",
   "mimetype": "text/x-python",
   "name": "python",
   "nbconvert_exporter": "python",
   "pygments_lexer": "ipython3",
   "version": "3.6.5"
  }
 },
 "nbformat": 4,
 "nbformat_minor": 2
}
