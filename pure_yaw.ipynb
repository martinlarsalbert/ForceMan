{
 "cells": [
  {
   "cell_type": "markdown",
   "metadata": {},
   "source": [
    "# Testing out SymPy dsolve"
   ]
  },
  {
   "cell_type": "code",
   "execution_count": 1,
   "metadata": {},
   "outputs": [],
   "source": [
    "%matplotlib inline\n",
    "from sympy import init_printing\n",
    "init_printing(use_latex='mathjax')\n",
    "\n",
    "import sympy as sp\n",
    "import matplotlib.pyplot as plt\n",
    "import numpy as np\n",
    "from sympy.plotting import plot\n",
    "from scipy.integrate import cumtrapz\n",
    "from sympy import sin,cos,Eq"
   ]
  },
  {
   "cell_type": "markdown",
   "metadata": {},
   "source": [
    "## Problem\n",
    "A ship should have:\n",
    "* heading ($\\psi$) varying as a sinus\n",
    "* constant global X motion \n",
    "* no drift angle\n",
    "\n",
    "how does the global Y motion look like to achieve this?"
   ]
  },
  {
   "cell_type": "code",
   "execution_count": 2,
   "metadata": {},
   "outputs": [],
   "source": [
    "t,X_dot,C1 = sp.symbols('t \\dot{X} C1')\n",
    "Y,psi = sp.symbols('Y psi',cls = sp.Function)"
   ]
  },
  {
   "cell_type": "code",
   "execution_count": 3,
   "metadata": {},
   "outputs": [
    {
     "data": {
      "text/latex": [
       "$$\\frac{\\pi \\sin{\\left (t \\right )}}{4}$$"
      ],
      "text/plain": [
       "π⋅sin(t)\n",
       "────────\n",
       "   4    "
      ]
     },
     "execution_count": 3,
     "metadata": {},
     "output_type": "execute_result"
    }
   ],
   "source": [
    "psi = sp.pi/4*sin(t)\n",
    "psi"
   ]
  },
  {
   "cell_type": "code",
   "execution_count": 4,
   "metadata": {},
   "outputs": [
    {
     "data": {
      "image/png": "[encoded data removed]",
      "text/plain": [
       "<Figure size 432x288 with 1 Axes>"
      ]
     },
     "metadata": {},
     "output_type": "display_data"
    }
   ],
   "source": [
    "plot(psi,(t,0,10),title='Psi motion');"
   ]
  },
  {
   "cell_type": "markdown",
   "metadata": {},
   "source": [
    "Local transverse velocity $v$ expressed in global coordinates:"
   ]
  },
  {
   "cell_type": "code",
   "execution_count": 5,
   "metadata": {},
   "outputs": [
    {
     "data": {
      "text/latex": [
       "$$- \\dot{X} \\sin{\\left (\\frac{\\pi \\sin{\\left (t \\right )}}{4} \\right )} + \\cos{\\left (\\frac{\\pi \\sin{\\left (t \\right )}}{4} \\right )} \\frac{d}{d t} Y{\\left (t \\right )}$$"
      ],
      "text/plain": [
       "             ⎛π⋅sin(t)⎞      ⎛π⋅sin(t)⎞ d       \n",
       "- \\dot{X}⋅sin⎜────────⎟ + cos⎜────────⎟⋅──(Y(t))\n",
       "             ⎝   4    ⎠      ⎝   4    ⎠ dt      "
      ]
     },
     "execution_count": 5,
     "metadata": {},
     "output_type": "execute_result"
    }
   ],
   "source": [
    "v = -X_dot*sin(psi) + Y(t).diff(t)*cos(psi)\n",
    "v"
   ]
  },
  {
   "cell_type": "markdown",
   "metadata": {},
   "source": [
    "This transverse velocity should always be zero (no drift angle), resulting the following ordinary differential equation:"
   ]
  },
  {
   "cell_type": "code",
   "execution_count": 6,
   "metadata": {
    "scrolled": true
   },
   "outputs": [
    {
     "data": {
      "text/latex": [
       "$$- \\dot{X} \\sin{\\left (\\frac{\\pi \\sin{\\left (t \\right )}}{4} \\right )} + \\cos{\\left (\\frac{\\pi \\sin{\\left (t \\right )}}{4} \\right )} \\frac{d}{d t} Y{\\left (t \\right )} = 0$$"
      ],
      "text/plain": [
       "             ⎛π⋅sin(t)⎞      ⎛π⋅sin(t)⎞ d           \n",
       "- \\dot{X}⋅sin⎜────────⎟ + cos⎜────────⎟⋅──(Y(t)) = 0\n",
       "             ⎝   4    ⎠      ⎝   4    ⎠ dt          "
      ]
     },
     "execution_count": 6,
     "metadata": {},
     "output_type": "execute_result"
    }
   ],
   "source": [
    "v_equation = Eq(v,0)\n",
    "v_equation"
   ]
  },
  {
   "cell_type": "markdown",
   "metadata": {},
   "source": [
    "Use sympy to find the analytical solution to this equation:"
   ]
  },
  {
   "cell_type": "code",
   "execution_count": 7,
   "metadata": {},
   "outputs": [
    {
     "data": {
      "text/latex": [
       "$$Y{\\left (t \\right )} = C_{1} + \\dot{X} \\int \\frac{\\sin{\\left (\\frac{\\pi \\sin{\\left (t \\right )}}{4} \\right )}}{\\cos{\\left (\\frac{\\pi \\sin{\\left (t \\right )}}{4} \\right )}}\\, dt$$"
      ],
      "text/plain": [
       "                    ⌠                 \n",
       "                    ⎮    ⎛π⋅sin(t)⎞   \n",
       "                    ⎮ sin⎜────────⎟   \n",
       "                    ⎮    ⎝   4    ⎠   \n",
       "Y(t) = C₁ + \\dot{X}⋅⎮ ───────────── dt\n",
       "                    ⎮    ⎛π⋅sin(t)⎞   \n",
       "                    ⎮ cos⎜────────⎟   \n",
       "                    ⎮    ⎝   4    ⎠   \n",
       "                    ⌡                 "
      ]
     },
     "execution_count": 7,
     "metadata": {},
     "output_type": "execute_result"
    }
   ],
   "source": [
    "Y_motion = sp.dsolve(eq = v_equation)\n",
    "Y_motion"
   ]
  },
  {
   "cell_type": "markdown",
   "metadata": {},
   "source": [
    "Set $C_1$ to 0 and $\\dot{X}=1$ (1 m/s)"
   ]
  },
  {
   "cell_type": "code",
   "execution_count": 8,
   "metadata": {},
   "outputs": [
    {
     "data": {
      "text/latex": [
       "$$\\int \\frac{\\sin{\\left (\\frac{\\pi \\sin{\\left (t \\right )}}{4} \\right )}}{\\cos{\\left (\\frac{\\pi \\sin{\\left (t \\right )}}{4} \\right )}}\\, dt$$"
      ],
      "text/plain": [
       "⌠                 \n",
       "⎮    ⎛π⋅sin(t)⎞   \n",
       "⎮ sin⎜────────⎟   \n",
       "⎮    ⎝   4    ⎠   \n",
       "⎮ ───────────── dt\n",
       "⎮    ⎛π⋅sin(t)⎞   \n",
       "⎮ cos⎜────────⎟   \n",
       "⎮    ⎝   4    ⎠   \n",
       "⌡                 "
      ]
     },
     "execution_count": 8,
     "metadata": {},
     "output_type": "execute_result"
    }
   ],
   "source": [
    "Y_motion_ = Y_motion.rhs.subs({C1:0,X_dot:1,psi:sin(t)})\n",
    "Y_motion_"
   ]
  },
  {
   "cell_type": "code",
   "execution_count": 9,
   "metadata": {},
   "outputs": [
    {
     "data": {
      "text/latex": [
       "$$\\int \\tan{\\left (\\frac{\\pi \\sin{\\left (t \\right )}}{4} \\right )}\\, dt$$"
      ],
      "text/plain": [
       "⌠                 \n",
       "⎮    ⎛π⋅sin(t)⎞   \n",
       "⎮ tan⎜────────⎟ dt\n",
       "⎮    ⎝   4    ⎠   \n",
       "⌡                 "
      ]
     },
     "execution_count": 9,
     "metadata": {},
     "output_type": "execute_result"
    }
   ],
   "source": [
    "Y_motion_ = sp.simplify(Y_motion_)\n",
    "Y_motion_"
   ]
  },
  {
   "cell_type": "code",
   "execution_count": 10,
   "metadata": {},
   "outputs": [
    {
     "data": {
      "image/png": "[encoded data removed]",
      "text/plain": [
       "<Figure size 432x288 with 1 Axes>"
      ]
     },
     "metadata": {},
     "output_type": "display_data"
    }
   ],
   "source": [
    "plot(Y_motion_.args[0],(t,0,10),title = 'Y velocity');"
   ]
  },
  {
   "cell_type": "markdown",
   "metadata": {},
   "source": [
    "Calculate $v$ with this solution to verify that v is 0"
   ]
  },
  {
   "cell_type": "code",
   "execution_count": 11,
   "metadata": {},
   "outputs": [
    {
     "data": {
      "text/latex": [
       "$$- \\dot{X} \\sin{\\left (\\frac{\\pi \\sin{\\left (t \\right )}}{4} \\right )} + \\cos{\\left (\\frac{\\pi \\sin{\\left (t \\right )}}{4} \\right )} \\frac{d}{d t} Y{\\left (t \\right )}$$"
      ],
      "text/plain": [
       "             ⎛π⋅sin(t)⎞      ⎛π⋅sin(t)⎞ d       \n",
       "- \\dot{X}⋅sin⎜────────⎟ + cos⎜────────⎟⋅──(Y(t))\n",
       "             ⎝   4    ⎠      ⎝   4    ⎠ dt      "
      ]
     },
     "execution_count": 11,
     "metadata": {},
     "output_type": "execute_result"
    }
   ],
   "source": [
    "v"
   ]
  },
  {
   "cell_type": "code",
   "execution_count": 12,
   "metadata": {},
   "outputs": [
    {
     "data": {
      "text/latex": [
       "$$- \\sin{\\left (\\frac{\\pi \\sin{\\left (t \\right )}}{4} \\right )} + \\cos{\\left (\\frac{\\pi \\sin{\\left (t \\right )}}{4} \\right )} \\tan{\\left (\\frac{\\pi \\sin{\\left (t \\right )}}{4} \\right )}$$"
      ],
      "text/plain": [
       "     ⎛π⋅sin(t)⎞      ⎛π⋅sin(t)⎞    ⎛π⋅sin(t)⎞\n",
       "- sin⎜────────⎟ + cos⎜────────⎟⋅tan⎜────────⎟\n",
       "     ⎝   4    ⎠      ⎝   4    ⎠    ⎝   4    ⎠"
      ]
     },
     "execution_count": 12,
     "metadata": {},
     "output_type": "execute_result"
    }
   ],
   "source": [
    "v_ = v.subs({X_dot:1,Y(t).diff(t):Y_motion_.args[0]})\n",
    "v_"
   ]
  },
  {
   "cell_type": "code",
   "execution_count": 13,
   "metadata": {},
   "outputs": [
    {
     "data": {
      "text/latex": [
       "$$0$$"
      ],
      "text/plain": [
       "0"
      ]
     },
     "execution_count": 13,
     "metadata": {},
     "output_type": "execute_result"
    }
   ],
   "source": [
    "sp.simplify(v_)"
   ]
  },
  {
   "cell_type": "code",
   "execution_count": 14,
   "metadata": {},
   "outputs": [
    {
     "data": {
      "image/png": "[encoded data removed]",
      "text/plain": [
       "<Figure size 432x288 with 1 Axes>"
      ]
     },
     "metadata": {},
     "output_type": "display_data"
    }
   ],
   "source": [
    "plot(v_,(t,0,10),title = 'v veclocity is zero');"
   ]
  },
  {
   "cell_type": "markdown",
   "metadata": {},
   "source": [
    "Sympy seems to be unable to solve the integral for Y motion analytically. The integral is instead solved numerically"
   ]
  },
  {
   "cell_type": "code",
   "execution_count": 15,
   "metadata": {},
   "outputs": [],
   "source": [
    "dY = sp.lambdify((t),Y_motion_.args[0])\n",
    "\n",
    "t_ = np.linspace(0,10,100)\n",
    "dYs = dY(t = t_)\n",
    "\n"
   ]
  },
  {
   "cell_type": "code",
   "execution_count": 16,
   "metadata": {
    "scrolled": true
   },
   "outputs": [
    {
     "data": {
      "text/plain": [
       "Text(0.5,0,'t [s]')"
      ]
     },
     "execution_count": 16,
     "metadata": {},
     "output_type": "execute_result"
    },
    {
     "data": {
      "image/png": "[encoded data removed]",
      "text/plain": [
       "<Figure size 432x288 with 1 Axes>"
      ]
     },
     "metadata": {},
     "output_type": "display_data"
    }
   ],
   "source": [
    "Ys = cumtrapz(dYs,t_)\n",
    "\n",
    "fig,ax = plt.subplots()\n",
    "ax.plot(t_[0:-1],Ys);\n",
    "ax.set_title('Y motion')\n",
    "ax.set_ylabel('Y [m]')\n",
    "ax.set_xlabel('t [s]')"
   ]
  }
 ],
 "metadata": {
  "kernelspec": {
   "display_name": "Python 3",
   "language": "python",
   "name": "python3"
  },
  "language_info": {
   "codemirror_mode": {
    "name": "ipython",
    "version": 3
   },
   "file_extension": ".py",
   "mimetype": "text/x-python",
   "name": "python",
   "nbconvert_exporter": "python",
   "pygments_lexer": "ipython3",
   "version": "3.6.5"
  }
 },
 "nbformat": 4,
 "nbformat_minor": 2
}
