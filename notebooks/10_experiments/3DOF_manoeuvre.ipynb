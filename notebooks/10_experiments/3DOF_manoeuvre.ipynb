{
 "cells": [
  {
   "cell_type": "markdown",
   "metadata": {},
   "source": [
    "# 3 Degrees Of Freedome (DOF)"
   ]
  },
  {
   "cell_type": "code",
   "execution_count": 1,
   "metadata": {},
   "outputs": [],
   "source": [
    "%matplotlib inline\n",
    "import sympy as sym\n",
    "import sympy.physics.mechanics as me\n",
    "from sympy import Abs,sin,cos,tan\n",
    "\n",
    "from sympy import init_printing\n",
    "init_printing(use_latex='mathjax')\n",
    "\n",
    "from pydy.system import System\n",
    "import numpy as np\n",
    "import matplotlib.pyplot as plt\n"
   ]
  },
  {
   "cell_type": "markdown",
   "metadata": {},
   "source": [
    "<img src=\"3dof.png\" width=\"400\" align=\"left\">"
   ]
  },
  {
   "cell_type": "code",
   "execution_count": 2,
   "metadata": {},
   "outputs": [],
   "source": [
    "x0,y0,psi,x,y,beta,x,y,u,v,r,V = me.dynamicsymbols(r'x0 y0 \\psi x y \\beta x y u v r V')\n",
    "m,Izz,t,x_cg = sym.symbols(r'm Izz t x_{cg}')"
   ]
  },
  {
   "cell_type": "code",
   "execution_count": 3,
   "metadata": {},
   "outputs": [],
   "source": [
    "earth_frame = me.ReferenceFrame(name = 'E')\n",
    "ship_frame = me.ReferenceFrame(name = 'S')\n",
    "ship_frame.orient(parent = earth_frame,rot_type='Axis',amounts = (psi,earth_frame.z))\n",
    "#ship_frame.set_ang_vel(otherframe=earth_frame,value = r*earth_frame.z)"
   ]
  },
  {
   "cell_type": "code",
   "execution_count": 4,
   "metadata": {},
   "outputs": [
    {
     "data": {
      "text/latex": [
       "$$\\left[\\begin{matrix}\\cos{\\left (\\psi{\\left (t \\right )} \\right )} & \\sin{\\left (\\psi{\\left (t \\right )} \\right )} & 0\\\\- \\sin{\\left (\\psi{\\left (t \\right )} \\right )} & \\cos{\\left (\\psi{\\left (t \\right )} \\right )} & 0\\\\0 & 0 & 1\\end{matrix}\\right]$$"
      ],
      "text/plain": [
       "⎡cos(\\psi(t))   sin(\\psi(t))  0⎤\n",
       "⎢                              ⎥\n",
       "⎢-sin(\\psi(t))  cos(\\psi(t))  0⎥\n",
       "⎢                              ⎥\n",
       "⎣      0             0        1⎦"
      ]
     },
     "execution_count": 4,
     "metadata": {},
     "output_type": "execute_result"
    }
   ],
   "source": [
    "ship_frame.dcm(otherframe=earth_frame)"
   ]
  },
  {
   "cell_type": "code",
   "execution_count": 5,
   "metadata": {},
   "outputs": [
    {
     "data": {
      "text/latex": [
       "$$(u - y \\dot{\\psi})\\mathbf{\\hat{s}_x} + (v + x \\dot{\\psi})\\mathbf{\\hat{s}_y}$$"
      ],
      "text/plain": [
       "⎛            d          ⎞       ⎛            d          ⎞\n",
       "⎜u(t) - y(t)⋅──(\\psi(t))⎟ s_x + ⎜v(t) + x(t)⋅──(\\psi(t))⎟ s_y\n",
       "⎝            dt         ⎠       ⎝            dt         ⎠"
      ]
     },
     "execution_count": 5,
     "metadata": {},
     "output_type": "execute_result"
    }
   ],
   "source": [
    "O0 = me.Point('O0')\n",
    "O0.set_vel(frame = earth_frame,value = 0)\n",
    "\n",
    "O = me.Point('O')\n",
    "#O.set_pos(otherpoint=O0,value = x0*earth_frame.x + y0*earth_frame.y)\n",
    "O.set_pos(otherpoint=O0,value = x*ship_frame.x + y*ship_frame.y)\n",
    "\n",
    "O.set_vel(frame = ship_frame,value = u*ship_frame.x + v*ship_frame.y)\n",
    "\n",
    "O.v1pt_theory(otherpoint=O0,outframe=earth_frame,interframe=ship_frame)"
   ]
  },
  {
   "cell_type": "code",
   "execution_count": 6,
   "metadata": {},
   "outputs": [
    {
     "data": {
      "text/latex": [
       "$$x\\mathbf{\\hat{s}_x} + y\\mathbf{\\hat{s}_y}$$"
      ],
      "text/plain": [
       "x(t) s_x + y(t) s_y"
      ]
     },
     "execution_count": 6,
     "metadata": {},
     "output_type": "execute_result"
    }
   ],
   "source": [
    "O.pos_from(O0)"
   ]
  },
  {
   "cell_type": "code",
   "execution_count": 7,
   "metadata": {},
   "outputs": [
    {
     "data": {
      "text/latex": [
       "$$(\\left(u - y \\dot{\\psi}\\right) \\operatorname{cos}\\left(\\psi\\right) - \\left(v + x \\dot{\\psi}\\right) \\operatorname{sin}\\left(\\psi\\right))\\mathbf{\\hat{e}_x} + (\\left(u - y \\dot{\\psi}\\right) \\operatorname{sin}\\left(\\psi\\right) + \\left(v + x \\dot{\\psi}\\right) \\operatorname{cos}\\left(\\psi\\right))\\mathbf{\\hat{e}_y}$$"
      ],
      "text/plain": [
       "⎛⎛            d          ⎞                ⎛            d          ⎞\n",
       "⎜⎜u(t) - y(t)⋅──(\\psi(t))⎟⋅cos(\\psi(t)) - ⎜v(t) + x(t)⋅──(\\psi(t))⎟⋅sin(\\psi(t\n",
       "⎝⎝            dt         ⎠                ⎝            dt         ⎠\n",
       "\n",
       "  ⎞       ⎛⎛            d          ⎞                ⎛            d          ⎞\n",
       "))⎟ e_x + ⎜⎜u(t) - y(t)⋅──(\\psi(t))⎟⋅sin(\\psi(t)) + ⎜v(t) + x(t)⋅──(\\psi(t))⎟⋅\n",
       "  ⎠       ⎝⎝            dt         ⎠                ⎝            dt         ⎠\n",
       "\n",
       "            ⎞\n",
       "cos(\\psi(t))⎟ e_y\n",
       "            ⎠"
      ]
     },
     "execution_count": 7,
     "metadata": {},
     "output_type": "execute_result"
    }
   ],
   "source": [
    "O.vel(earth_frame).express(earth_frame)"
   ]
  },
  {
   "cell_type": "code",
   "execution_count": 8,
   "metadata": {},
   "outputs": [
    {
     "data": {
      "text/latex": [
       "$$(- \\left(\\left(u - y \\dot{\\psi}\\right) \\dot{\\psi} + x \\ddot{\\psi} + \\dot{\\psi} \\dot{x} + \\dot{v}\\right) \\operatorname{sin}\\left(\\psi\\right) + \\left(- \\left(v + x \\dot{\\psi}\\right) \\dot{\\psi} - y \\ddot{\\psi} - \\dot{\\psi} \\dot{y} + \\dot{u}\\right) \\operatorname{cos}\\left(\\psi\\right))\\mathbf{\\hat{e}_x} + (\\left(\\left(u - y \\dot{\\psi}\\right) \\dot{\\psi} + x \\ddot{\\psi} + \\dot{\\psi} \\dot{x} + \\dot{v}\\right) \\operatorname{cos}\\left(\\psi\\right) + \\left(- \\left(v + x \\dot{\\psi}\\right) \\dot{\\psi} - y \\ddot{\\psi} - \\dot{\\psi} \\dot{y} + \\dot{u}\\right) \\operatorname{sin}\\left(\\psi\\right))\\mathbf{\\hat{e}_y}$$"
      ],
      "text/plain": [
       "⎛  ⎛                                               2\n",
       "⎜  ⎜⎛            d          ⎞ d                   d             d           d\n",
       "⎜- ⎜⎜u(t) - y(t)⋅──(\\psi(t))⎟⋅──(\\psi(t)) + x(t)⋅───(\\psi(t)) + ──(\\psi(t))⋅──\n",
       "⎜  ⎜⎝            dt         ⎠ dt                   2            dt          dt\n",
       "⎝  ⎝                                             dt\n",
       "\n",
       "                 ⎞                ⎛\n",
       "         d       ⎟                ⎜  ⎛            d          ⎞ d\n",
       "(x(t)) + ──(v(t))⎟⋅sin(\\psi(t)) + ⎜- ⎜v(t) + x(t)⋅──(\\psi(t))⎟⋅──(\\psi(t)) - y\n",
       "         dt      ⎟                ⎜  ⎝            dt         ⎠ dt\n",
       "                 ⎠                ⎝\n",
       "\n",
       "      2                                           ⎞             ⎞       ⎛⎛\n",
       "     d             d           d          d       ⎟             ⎟       ⎜⎜⎛\n",
       "(t)⋅───(\\psi(t)) - ──(\\psi(t))⋅──(y(t)) + ──(u(t))⎟⋅cos(\\psi(t))⎟ e_x + ⎜⎜⎜u(t\n",
       "      2            dt          dt         dt      ⎟             ⎟       ⎜⎜⎝\n",
       "    dt                                            ⎠             ⎠       ⎝⎝\n",
       "\n",
       "                                           2\n",
       "         d          ⎞ d                   d             d           d\n",
       ") - y(t)⋅──(\\psi(t))⎟⋅──(\\psi(t)) + x(t)⋅───(\\psi(t)) + ──(\\psi(t))⋅──(x(t)) +\n",
       "         dt         ⎠ dt                   2            dt          dt\n",
       "                                         dt\n",
       "\n",
       "         ⎞                ⎛                                                 2\n",
       " d       ⎟                ⎜  ⎛            d          ⎞ d                   d\n",
       " ──(v(t))⎟⋅cos(\\psi(t)) + ⎜- ⎜v(t) + x(t)⋅──(\\psi(t))⎟⋅──(\\psi(t)) - y(t)⋅───(\n",
       " dt      ⎟                ⎜  ⎝            dt         ⎠ dt                   2\n",
       "         ⎠                ⎝                                               dt\n",
       "\n",
       "                                          ⎞             ⎞\n",
       "           d           d          d       ⎟             ⎟\n",
       "\\psi(t)) - ──(\\psi(t))⋅──(y(t)) + ──(u(t))⎟⋅sin(\\psi(t))⎟ e_y\n",
       "           dt          dt         dt      ⎟             ⎟\n",
       "                                          ⎠             ⎠"
      ]
     },
     "execution_count": 8,
     "metadata": {},
     "output_type": "execute_result"
    }
   ],
   "source": [
    "O.acc(earth_frame).express(earth_frame)"
   ]
  },
  {
   "cell_type": "code",
   "execution_count": 9,
   "metadata": {},
   "outputs": [
    {
     "data": {
      "text/latex": [
       "$$(\\left(- \\left(x_{cg} \\dot{\\psi} + v + x \\dot{\\psi}\\right) \\dot{\\psi} - y \\ddot{\\psi} - \\dot{\\psi} \\dot{y} + \\dot{u}\\right) \\operatorname{cos}\\left(\\psi\\right) - \\left(x_{cg} \\ddot{\\psi} + \\left(u - y \\dot{\\psi}\\right) \\dot{\\psi} + x \\ddot{\\psi} + \\dot{\\psi} \\dot{x} + \\dot{v}\\right) \\operatorname{sin}\\left(\\psi\\right))\\mathbf{\\hat{e}_x} + (\\left(- \\left(x_{cg} \\dot{\\psi} + v + x \\dot{\\psi}\\right) \\dot{\\psi} - y \\ddot{\\psi} - \\dot{\\psi} \\dot{y} + \\dot{u}\\right) \\operatorname{sin}\\left(\\psi\\right) + \\left(x_{cg} \\ddot{\\psi} + \\left(u - y \\dot{\\psi}\\right) \\dot{\\psi} + x \\ddot{\\psi} + \\dot{\\psi} \\dot{x} + \\dot{v}\\right) \\operatorname{cos}\\left(\\psi\\right))\\mathbf{\\hat{e}_y}$$"
      ],
      "text/plain": [
       "⎛⎛                                                                      2\n",
       "⎜⎜  ⎛       d                         d          ⎞ d                   d\n",
       "⎜⎜- ⎜x_{cg}⋅──(\\psi(t)) + v(t) + x(t)⋅──(\\psi(t))⎟⋅──(\\psi(t)) - y(t)⋅───(\\psi\n",
       "⎜⎜  ⎝       dt                        dt         ⎠ dt                   2\n",
       "⎝⎝                                                                    dt\n",
       "\n",
       "                                      ⎞                ⎛         2\n",
       "       d           d          d       ⎟                ⎜        d\n",
       "(t)) - ──(\\psi(t))⋅──(y(t)) + ──(u(t))⎟⋅cos(\\psi(t)) - ⎜x_{cg}⋅───(\\psi(t)) +\n",
       "       dt          dt         dt      ⎟                ⎜         2\n",
       "                                      ⎠                ⎝       dt\n",
       "\n",
       "                                               2\n",
       "⎛            d          ⎞ d                   d             d           d\n",
       "⎜u(t) - y(t)⋅──(\\psi(t))⎟⋅──(\\psi(t)) + x(t)⋅───(\\psi(t)) + ──(\\psi(t))⋅──(x(t\n",
       "⎝            dt         ⎠ dt                   2            dt          dt\n",
       "                                             dt\n",
       "\n",
       "             ⎞             ⎞       ⎛⎛\n",
       "     d       ⎟             ⎟       ⎜⎜  ⎛       d                         d\n",
       ")) + ──(v(t))⎟⋅sin(\\psi(t))⎟ e_x + ⎜⎜- ⎜x_{cg}⋅──(\\psi(t)) + v(t) + x(t)⋅──(\\p\n",
       "     dt      ⎟             ⎟       ⎜⎜  ⎝       dt                        dt\n",
       "             ⎠             ⎠       ⎝⎝\n",
       "\n",
       "                             2                                           ⎞\n",
       "      ⎞ d                   d             d           d          d       ⎟\n",
       "si(t))⎟⋅──(\\psi(t)) - y(t)⋅───(\\psi(t)) - ──(\\psi(t))⋅──(y(t)) + ──(u(t))⎟⋅sin\n",
       "      ⎠ dt                   2            dt          dt         dt      ⎟\n",
       "                           dt                                            ⎠\n",
       "\n",
       "            ⎛         2\n",
       "            ⎜        d             ⎛            d          ⎞ d\n",
       "(\\psi(t)) + ⎜x_{cg}⋅───(\\psi(t)) + ⎜u(t) - y(t)⋅──(\\psi(t))⎟⋅──(\\psi(t)) + x(t\n",
       "            ⎜         2            ⎝            dt         ⎠ dt\n",
       "            ⎝       dt\n",
       "\n",
       "    2                                           ⎞             ⎞\n",
       "   d             d           d          d       ⎟             ⎟\n",
       ")⋅───(\\psi(t)) + ──(\\psi(t))⋅──(x(t)) + ──(v(t))⎟⋅cos(\\psi(t))⎟ e_y\n",
       "    2            dt          dt         dt      ⎟             ⎟\n",
       "  dt                                            ⎠             ⎠"
      ]
     },
     "execution_count": 9,
     "metadata": {},
     "output_type": "execute_result"
    }
   ],
   "source": [
    "CG = me.Point('CG')\n",
    "CG.set_pos(O,value = x_cg*ship_frame.x)\n",
    "CG.v2pt_theory(otherpoint=O,outframe=earth_frame,fixedframe=ship_frame)\n",
    "\n",
    "CG.acc(earth_frame).express(earth_frame)"
   ]
  },
  {
   "cell_type": "code",
   "execution_count": 10,
   "metadata": {},
   "outputs": [],
   "source": [
    "kinematical_differential_equations = [u - x.diff(),\n",
    "                                      v - y.diff(),\n",
    "                                      r - psi.diff()]\n",
    "coordinates = [x,y,psi,]\n",
    "speeds = [u,v,r,]"
   ]
  },
  {
   "cell_type": "code",
   "execution_count": 11,
   "metadata": {},
   "outputs": [],
   "source": [
    "kane = me.KanesMethod(earth_frame,coordinates, speeds,kinematical_differential_equations)"
   ]
  },
  {
   "cell_type": "markdown",
   "metadata": {},
   "source": [
    "## Manoeuver derivatives"
   ]
  },
  {
   "cell_type": "code",
   "execution_count": 12,
   "metadata": {},
   "outputs": [],
   "source": [
    "delta_R = sym.symbols('\\delta_{R}')\n",
    "eta = sym.symbols('\\eta')\n",
    "\n",
    "Xvv = sym.symbols('X_{vv}')\n",
    "Xvr = sym.symbols('X_{vr}')\n",
    "Xvveta = sym.symbols('X_{vv\\eta}')\n",
    "Xdd = sym.symbols('X_{\\delta\\delta}')\n",
    "Xddetaeta = sym.symbols('X_{\\delta\\delta\\eta\\eta}')\n",
    "\n",
    "# X\n",
    "Xudot = sym.symbols('X_{\\dot{u}}')\n",
    "a_i = sym.symbols('a_{i}')\n",
    "b_i = sym.symbols('b_{i}')\n",
    "c_i = sym.symbols('c_{i}')\n",
    "a1 = sym.symbols('a_{1}')\n",
    "\n",
    "b1 = sym.symbols('b_{1}')\n",
    "c1 = sym.symbols('c_{1}')\n",
    "a2 = sym.symbols('a_{2}')\n",
    "b2 = sym.symbols('b_{2}')\n",
    "c2 = sym.symbols('c_{2}')\n",
    "a3 = sym.symbols('a_{3}')\n",
    "b3 = sym.symbols('b_{3}')\n",
    "c3 = sym.symbols('c_{3}')\n",
    "a4 = sym.symbols('a_{4}')\n",
    "b4 = sym.symbols('b_{4}')\n",
    "c4 = sym.symbols('c_{4}')\n",
    "\n",
    "Xrr = sym.symbols('X_{rr}')\n",
    "Xvv = sym.symbols('X_{vv}')\n",
    "Xvr = sym.symbols('X_{vr}')\n",
    "Xvveta = sym.symbols('X_{vv\\eta}')\n",
    "Xdeltadelta = sym.symbols('X_{\\delta\\delta}')\n",
    "Xddetaeta = sym.symbols('X_{\\delta\\delta\\eta\\eta}')\n",
    "\n",
    "# Y\n",
    "Yvdot = sym.symbols('Y_{\\dot{v}}')\n",
    "Yrdot = sym.symbols('Y_{\\dot{r}}')\n",
    "\n",
    "Yv = sym.symbols('Y_{v}')\n",
    "Yr = sym.symbols('Y_{r}')\n",
    "Yvav = sym.symbols('Y_{v\\abs{v}}')\n",
    "Yvar = sym.symbols('Y_{v\\abs{r}}')\n",
    "\n",
    "Yveta = sym.symbols('Y_{v\\eta}')\n",
    "Yreta = sym.symbols('Y_{r\\eta}')\n",
    "Yvaveta = sym.symbols('Y_{v\\abs{v}\\eta}')\n",
    "\n",
    "Ystar = sym.symbols('Y_{*}')\n",
    "Ystareta = sym.symbols('Y_{*\\eta}')\n",
    "\n",
    "Ydelta = sym.symbols('Y_{\\delta}')\n",
    "Ydeltaar = sym.symbols('Y_{\\delta\\abs{r}}')\n",
    "Ydeltaeta = sym.symbols('Y_{\\delta\\eta}')\n",
    "\n",
    "# N\n",
    "Nrdot = sym.symbols('N_{\\dot{r}}')\n",
    "Nvdot = sym.symbols('N_{\\dot{v}}')\n",
    "\n",
    "Nr = sym.symbols('N_{r}')\n",
    "Nv = sym.symbols('N_{v}')\n",
    "Nrar = sym.symbols('N_{r\\abs{r}}')\n",
    "Nvav = sym.symbols('N_{v\\abs{v}}')\n",
    "Nvar = sym.symbols('N_{v\\abs{r}}')\n",
    "\n",
    "Nreta = sym.symbols('N_{r\\eta}')\n",
    "Nveta = sym.symbols('N_{v\\eta}')\n",
    "Nvaveta = sym.symbols('N_{v\\abs{v}\\eta}')\n",
    "\n",
    "Ndelta = sym.symbols('N_{\\delta}')\n",
    "Ndeltaar = sym.symbols('N_{\\delta\\abs{r}}')\n",
    "Ndeltaeta = sym.symbols('N_{\\delta\\eta}')\n",
    "\n",
    "Nstar = sym.symbols('N_{*}')\n",
    "Nstareta = sym.symbols('N_{*\\eta}')\n",
    "\n"
   ]
  },
  {
   "cell_type": "markdown",
   "metadata": {},
   "source": [
    "## Fx"
   ]
  },
  {
   "cell_type": "code",
   "execution_count": 13,
   "metadata": {},
   "outputs": [
    {
     "data": {
      "text/latex": [
       "$$X_{\\delta\\delta\\eta\\eta} \\delta_{R}^{2} \\eta^{2} + X_{\\delta\\delta} \\delta_{R}^{2} + X_{rr} r^{2}{\\left (t \\right )} + X_{vr} r{\\left (t \\right )} v{\\left (t \\right )} + X_{vv\\eta} \\left(\\eta - 1\\right) v^{2}{\\left (t \\right )} + X_{vv} v^{2}{\\left (t \\right )} + \\eta^{2} c_{1} + \\eta b_{1} + a_{1}$$"
      ],
      "text/plain": [
       "                                   2     2                              2     \n",
       "X_{\\delta\\delta\\eta\\eta}⋅\\delta_{R} ⋅\\eta  + X_{\\delta\\delta}⋅\\delta_{R}  + X_\n",
       "\n",
       "      2                                                2              2       \n",
       "{rr}⋅r (t) + X_{vr}⋅r(t)⋅v(t) + X_{vv\\eta}⋅(\\eta - 1)⋅v (t) + X_{vv}⋅v (t) + \\\n",
       "\n",
       "   2                           \n",
       "eta ⋅c_{1} + \\eta⋅b_{1} + a_{1}"
      ]
     },
     "execution_count": 13,
     "metadata": {},
     "output_type": "execute_result"
    }
   ],
   "source": [
    "equation_Fx = (\n",
    "#Xudot*u.diff() \n",
    "#+ (a_i + b_i*eta + c_i*eta**2)\n",
    "+ (a1 + b1*eta + c1*eta**2)\n",
    "\n",
    "+ Xrr*r**2 + Xvv*v**2 + Xvr*v*r\n",
    "+ Xvveta*v**2*(eta-1)\n",
    "+ Xdeltadelta*delta_R**2\n",
    "+ Xddetaeta*(delta_R**2*eta**2)   \n",
    ")    \n",
    "\n",
    "a_i = a1  # Assume this now ...\n",
    "b_i = b1\n",
    "c_i = c1\n",
    "\n",
    " \n",
    "equation_Fx"
   ]
  },
  {
   "cell_type": "markdown",
   "metadata": {},
   "source": [
    "## Fy"
   ]
  },
  {
   "cell_type": "code",
   "execution_count": 14,
   "metadata": {},
   "outputs": [
    {
     "data": {
      "text/latex": [
       "$$Y_{*\\eta} \\left(\\eta - 1\\right) + Y_{*} + Y_{\\delta\u0007bs{r}} \\delta_{R} \\left|{r{\\left (t \\right )}}\\right| + Y_{\\delta\\eta} \\delta_{R} \\left(\\eta - 1\\right) + Y_{\\delta} \\delta_{R} + Y_{r} r{\\left (t \\right )} + Y_{v\u0007bs{r}} v{\\left (t \\right )} \\left|{r{\\left (t \\right )}}\\right| + Y_{v\u0007bs{v}} v{\\left (t \\right )} \\left|{v{\\left (t \\right )}}\\right| + Y_{v} v{\\left (t \\right )} + \\left(\\eta - 1\\right) \\left(Y_{r\\eta} r{\\left (t \\right )} + Y_{v\u0007bs{v}\\eta} v{\\left (t \\right )} \\left|{v{\\left (t \\right )}}\\right| + Y_{v\\eta} v{\\left (t \\right )}\\right)$$"
      ],
      "text/plain": [
       "Y_{*\\eta}⋅(\\eta - 1) + Y_{*} + Y_{\\delta\u0007bs{r}}⋅\\delta_{R}⋅│r(t)│ + Y_{\\delta\\\n",
       "eta}⋅\\delta_{R}⋅(\\eta - 1) + Y_{\\delta}⋅\\delta_{R} + Y_{r}⋅r(t) + Y_{v\u0007bs{r}}⋅\n",
       "v(t)⋅│r(t)│ + Y_{v\u0007bs{v}}⋅v(t)⋅│v(t)│ + Y_{v}⋅v(t) + (\\eta - 1)⋅(Y_{r\\eta}⋅r(t\n",
       ") + Y_{v\u0007bs{v}\\eta}⋅v(t)⋅│v(t)│ + Y_{v\\eta}⋅v(t))"
      ]
     },
     "execution_count": 14,
     "metadata": {},
     "output_type": "execute_result"
    }
   ],
   "source": [
    "equation_Fy = (\n",
    "#Yvdot*v.diff()\n",
    "#+ Yrdot*r.diff()\n",
    "+ Yv*v + Yr*r + Yvav*v*Abs(v) + Yvar*v*Abs(r)\n",
    "+ (Yveta*v + Yreta*r + Yvaveta*v*Abs(v))*(eta - 1)\n",
    "+ Ydelta*delta_R + Ydeltaar*delta_R*Abs(r) + Ydeltaeta*delta_R*(eta - 1)\n",
    "+ Ystar + Ystareta*(eta - 1)\n",
    "    \n",
    ")\n",
    "equation_Fy"
   ]
  },
  {
   "cell_type": "markdown",
   "metadata": {},
   "source": [
    "## Mz"
   ]
  },
  {
   "cell_type": "code",
   "execution_count": 15,
   "metadata": {
    "scrolled": true
   },
   "outputs": [
    {
     "data": {
      "text/latex": [
       "$$N_{*\\eta} \\left(\\eta - 1\\right) + N_{*} + N_{\\delta\u0007bs{r}} \\delta_{R} \\left|{r{\\left (t \\right )}}\\right| + N_{\\delta\\eta} \\left(\\eta - 1\\right) + N_{\\delta} \\delta_{R} + N_{r\u0007bs{r}} r{\\left (t \\right )} \\left|{r{\\left (t \\right )}}\\right| + N_{r} r{\\left (t \\right )} + N_{v\u0007bs{r}} v{\\left (t \\right )} \\left|{r{\\left (t \\right )}}\\right| + N_{v\u0007bs{v}} v{\\left (t \\right )} \\left|{v{\\left (t \\right )}}\\right| + N_{v} v{\\left (t \\right )} + \\left(\\eta - 1\\right) \\left(N_{r\\eta} r{\\left (t \\right )} + N_{v\u0007bs{v}\\eta} v{\\left (t \\right )} \\left|{v{\\left (t \\right )}}\\right| + N_{v\\eta} v{\\left (t \\right )}\\right)$$"
      ],
      "text/plain": [
       "N_{*\\eta}⋅(\\eta - 1) + N_{*} + N_{\\delta\u0007bs{r}}⋅\\delta_{R}⋅│r(t)│ + N_{\\delta\\\n",
       "eta}⋅(\\eta - 1) + N_{\\delta}⋅\\delta_{R} + N_{r\u0007bs{r}}⋅r(t)⋅│r(t)│ + N_{r}⋅r(t)\n",
       " + N_{v\u0007bs{r}}⋅v(t)⋅│r(t)│ + N_{v\u0007bs{v}}⋅v(t)⋅│v(t)│ + N_{v}⋅v(t) + (\\eta - 1)\n",
       "⋅(N_{r\\eta}⋅r(t) + N_{v\u0007bs{v}\\eta}⋅v(t)⋅│v(t)│ + N_{v\\eta}⋅v(t))"
      ]
     },
     "execution_count": 15,
     "metadata": {},
     "output_type": "execute_result"
    }
   ],
   "source": [
    "equation_Mz = (\n",
    "#Nrdot*r.diff() + Nvdot*v.diff()\n",
    "+ Nr*r + Nv*v\n",
    "+ Nrar*r*Abs(r) + Nvav*v*Abs(v) + Nvar*v*Abs(r)\n",
    "+ (Nreta*r + Nveta*v + Nvaveta*v*Abs(v))*(eta - 1)\n",
    "+ Ndelta*delta_R + Ndeltaar*delta_R*Abs(r) + Ndeltaeta*(eta - 1)\n",
    "+ Nstar + Nstareta*(eta - 1)    \n",
    ")\n",
    "\n",
    "equation_Mz"
   ]
  },
  {
   "cell_type": "code",
   "execution_count": 16,
   "metadata": {},
   "outputs": [],
   "source": [
    "Fx = (O,equation_Fx*ship_frame.x)\n",
    "Fy = (O,equation_Fy*ship_frame.y)\n",
    "Mz = (ship_frame, equation_Mz * ship_frame.z)"
   ]
  },
  {
   "cell_type": "code",
   "execution_count": 17,
   "metadata": {},
   "outputs": [],
   "source": [
    "forces = [Fx,Fy,Mz]\n",
    "\n",
    "#mass = me.Particle('m', CG, m)"
   ]
  },
  {
   "cell_type": "code",
   "execution_count": 18,
   "metadata": {},
   "outputs": [
    {
     "data": {
      "text/latex": [
       "$$Izz\\mathbf{\\hat{s}_z}\\otimes \\mathbf{\\hat{s}_z}$$"
      ],
      "text/plain": [
       "Izz s_z⊗s_z"
      ]
     },
     "execution_count": 18,
     "metadata": {},
     "output_type": "execute_result"
    }
   ],
   "source": [
    "inertia_dyadic = me.inertia(ship_frame, ixx = 0, iyy = 0, izz = Izz)\n",
    "inertia_dyadic"
   ]
  },
  {
   "cell_type": "code",
   "execution_count": 19,
   "metadata": {},
   "outputs": [],
   "source": [
    "inertia = (inertia_dyadic, CG)"
   ]
  },
  {
   "cell_type": "code",
   "execution_count": 20,
   "metadata": {},
   "outputs": [],
   "source": [
    "ship = me.RigidBody('ship',masscenter=CG,frame = ship_frame,mass = m,inertia=inertia)"
   ]
  },
  {
   "cell_type": "code",
   "execution_count": 21,
   "metadata": {},
   "outputs": [],
   "source": [
    "fr, frstar = kane.kanes_equations(bodies = [ship],loads = forces)"
   ]
  },
  {
   "cell_type": "code",
   "execution_count": 22,
   "metadata": {},
   "outputs": [
    {
     "data": {
      "text/latex": [
       "$$\\left[\\begin{matrix}1 & 0 & 0 & 0 & 0 & 0\\\\0 & 1 & 0 & 0 & 0 & 0\\\\0 & 0 & 1 & 0 & 0 & 0\\\\0 & 0 & 0 & m & 0 & - m y{\\left (t \\right )}\\\\0 & 0 & 0 & 0 & m & m \\left(x_{cg} + x{\\left (t \\right )}\\right)\\\\0 & 0 & 0 & - m y{\\left (t \\right )} & m \\left(x_{cg} + x{\\left (t \\right )}\\right) & Izz + m \\left(\\left(x_{cg} + x{\\left (t \\right )}\\right)^{2} + y^{2}{\\left (t \\right )}\\right)\\end{matrix}\\right]$$"
      ],
      "text/plain": [
       "⎡1  0  0     0             0                          0                 ⎤\n",
       "⎢                                                                       ⎥\n",
       "⎢0  1  0     0             0                          0                 ⎥\n",
       "⎢                                                                       ⎥\n",
       "⎢0  0  1     0             0                          0                 ⎥\n",
       "⎢                                                                       ⎥\n",
       "⎢0  0  0     m             0                       -m⋅y(t)              ⎥\n",
       "⎢                                                                       ⎥\n",
       "⎢0  0  0     0             m                  m⋅(x_{cg} + x(t))         ⎥\n",
       "⎢                                                                       ⎥\n",
       "⎢                                             ⎛               2    2   ⎞⎥\n",
       "⎣0  0  0  -m⋅y(t)  m⋅(x_{cg} + x(t))  Izz + m⋅⎝(x_{cg} + x(t))  + y (t)⎠⎦"
      ]
     },
     "execution_count": 22,
     "metadata": {},
     "output_type": "execute_result"
    }
   ],
   "source": [
    "M = kane.mass_matrix_full \n",
    "M"
   ]
  },
  {
   "cell_type": "code",
   "execution_count": 23,
   "metadata": {},
   "outputs": [
    {
     "data": {
      "text/latex": [
       "$$\\left[\\begin{matrix}u{\\left (t \\right )}\\\\v{\\left (t \\right )}\\\\r{\\left (t \\right )}\\\\X_{\\delta\\delta\\eta\\eta} \\delta_{R}^{2} \\eta^{2} + X_{\\delta\\delta} \\delta_{R}^{2} + X_{rr} r^{2}{\\left (t \\right )} + X_{vr} r{\\left (t \\right )} v{\\left (t \\right )} + X_{vv\\eta} \\left(\\eta - 1\\right) v^{2}{\\left (t \\right )} + X_{vv} v^{2}{\\left (t \\right )} + \\eta^{2} c_{1} + \\eta b_{1} + a_{1} - m \\left(- \\left(x_{cg} r{\\left (t \\right )} + r{\\left (t \\right )} x{\\left (t \\right )} + v{\\left (t \\right )}\\right) r{\\left (t \\right )} - r{\\left (t \\right )} v{\\left (t \\right )}\\right)\\\\Y_{*\\eta} \\left(\\eta - 1\\right) + Y_{*} + Y_{\\delta\u0007bs{r}} \\delta_{R} \\left|{r{\\left (t \\right )}}\\right| + Y_{\\delta\\eta} \\delta_{R} \\left(\\eta - 1\\right) + Y_{\\delta} \\delta_{R} + Y_{r} r{\\left (t \\right )} + Y_{v\u0007bs{r}} v{\\left (t \\right )} \\left|{r{\\left (t \\right )}}\\right| + Y_{v\u0007bs{v}} v{\\left (t \\right )} \\left|{v{\\left (t \\right )}}\\right| + Y_{v} v{\\left (t \\right )} - m \\left(\\left(- r{\\left (t \\right )} y{\\left (t \\right )} + u{\\left (t \\right )}\\right) r{\\left (t \\right )} + r{\\left (t \\right )} u{\\left (t \\right )}\\right) + \\left(\\eta - 1\\right) \\left(Y_{r\\eta} r{\\left (t \\right )} + Y_{v\u0007bs{v}\\eta} v{\\left (t \\right )} \\left|{v{\\left (t \\right )}}\\right| + Y_{v\\eta} v{\\left (t \\right )}\\right)\\\\N_{*\\eta} \\left(\\eta - 1\\right) + N_{*} + N_{\\delta\u0007bs{r}} \\delta_{R} \\left|{r{\\left (t \\right )}}\\right| + N_{\\delta\\eta} \\left(\\eta - 1\\right) + N_{\\delta} \\delta_{R} + N_{r\u0007bs{r}} r{\\left (t \\right )} \\left|{r{\\left (t \\right )}}\\right| + N_{r} r{\\left (t \\right )} + N_{v\u0007bs{r}} v{\\left (t \\right )} \\left|{r{\\left (t \\right )}}\\right| + N_{v\u0007bs{v}} v{\\left (t \\right )} \\left|{v{\\left (t \\right )}}\\right| + N_{v} v{\\left (t \\right )} - m \\left(x_{cg} + x{\\left (t \\right )}\\right) \\left(\\left(- r{\\left (t \\right )} y{\\left (t \\right )} + u{\\left (t \\right )}\\right) r{\\left (t \\right )} + r{\\left (t \\right )} u{\\left (t \\right )}\\right) + m \\left(- \\left(x_{cg} r{\\left (t \\right )} + r{\\left (t \\right )} x{\\left (t \\right )} + v{\\left (t \\right )}\\right) r{\\left (t \\right )} - r{\\left (t \\right )} v{\\left (t \\right )}\\right) y{\\left (t \\right )} + \\left(\\eta - 1\\right) \\left(N_{r\\eta} r{\\left (t \\right )} + N_{v\u0007bs{v}\\eta} v{\\left (t \\right )} \\left|{v{\\left (t \\right )}}\\right| + N_{v\\eta} v{\\left (t \\right )}\\right) - \\left(X_{\\delta\\delta\\eta\\eta} \\delta_{R}^{2} \\eta^{2} + X_{\\delta\\delta} \\delta_{R}^{2} + X_{rr} r^{2}{\\left (t \\right )} + X_{vr} r{\\left (t \\right )} v{\\left (t \\right )} + X_{vv\\eta} \\left(\\eta - 1\\right) v^{2}{\\left (t \\right )} + X_{vv} v^{2}{\\left (t \\right )} + \\eta^{2} c_{1} + \\eta b_{1} + a_{1}\\right) y{\\left (t \\right )} + \\left(Y_{*\\eta} \\left(\\eta - 1\\right) + Y_{*} + Y_{\\delta\u0007bs{r}} \\delta_{R} \\left|{r{\\left (t \\right )}}\\right| + Y_{\\delta\\eta} \\delta_{R} \\left(\\eta - 1\\right) + Y_{\\delta} \\delta_{R} + Y_{r} r{\\left (t \\right )} + Y_{v\u0007bs{r}} v{\\left (t \\right )} \\left|{r{\\left (t \\right )}}\\right| + Y_{v\u0007bs{v}} v{\\left (t \\right )} \\left|{v{\\left (t \\right )}}\\right| + Y_{v} v{\\left (t \\right )} + \\left(\\eta - 1\\right) \\left(Y_{r\\eta} r{\\left (t \\right )} + Y_{v\u0007bs{v}\\eta} v{\\left (t \\right )} \\left|{v{\\left (t \\right )}}\\right| + Y_{v\\eta} v{\\left (t \\right )}\\right)\\right) x{\\left (t \\right )}\\end{matrix}\\right]$$"
      ],
      "text/plain": [
       "⎡                                                                             \n",
       "⎢                                                                             \n",
       "⎢                                                                             \n",
       "⎢                                                                             \n",
       "⎢                                                                             \n",
       "⎢                                                                             \n",
       "⎢                                                                             \n",
       "⎢                                                                             \n",
       "⎢                                                                             \n",
       "⎢                                                                             \n",
       "⎢                                                                             \n",
       "⎢                                                                             \n",
       "⎣N_{*\\eta}⋅(\\eta - 1) + N_{*} + N_{\\delta\u0007bs{r}}⋅\\delta_{R}⋅│r(t)│ + N_{\\delta\n",
       "\n",
       "                                                                              \n",
       "                                                                              \n",
       "                                                                              \n",
       "                                                                              \n",
       "                                                                              \n",
       "                                                                              \n",
       "                                                                              \n",
       "                                                                              \n",
       "                                                                              \n",
       "                                                                              \n",
       "                                                                              \n",
       "                                                                              \n",
       "\\eta}⋅(\\eta - 1) + N_{\\delta}⋅\\delta_{R} + N_{r\u0007bs{r}}⋅r(t)⋅│r(t)│ + N_{r}⋅r(t\n",
       "\n",
       "                                                                              \n",
       "                                                                              \n",
       "                                                                              \n",
       "                                                                              \n",
       "                                                                              \n",
       "                                                                              \n",
       "                                                                              \n",
       "                                                                              \n",
       "                                                                              \n",
       "                                                                              \n",
       "                                                                              \n",
       "                                                                              \n",
       ") + N_{v\u0007bs{r}}⋅v(t)⋅│r(t)│ + N_{v\u0007bs{v}}⋅v(t)⋅│v(t)│ + N_{v}⋅v(t) - m⋅(x_{cg}\n",
       "\n",
       "                                                                              \n",
       "                                                                              \n",
       "                                                                              \n",
       "                                                                              \n",
       "                                                                              \n",
       "                                                                              \n",
       "                                                                              \n",
       "                                                                              \n",
       "                                                                              \n",
       "                                                          Y_{*\\eta}⋅(\\eta - 1)\n",
       "                                                                              \n",
       "                                                                              \n",
       " + x(t))⋅((-r(t)⋅y(t) + u(t))⋅r(t) + r(t)⋅u(t)) + m⋅(-(x_{cg}⋅r(t) + r(t)⋅x(t)\n",
       "\n",
       "                                                                              \n",
       "                                                                              \n",
       "                                                                              \n",
       "                                                                              \n",
       "                                                                              \n",
       "                                                                              \n",
       "                                                        2     2               \n",
       "                     X_{\\delta\\delta\\eta\\eta}⋅\\delta_{R} ⋅\\eta  + X_{\\delta\\de\n",
       "                                                                              \n",
       " + Y_{*} + Y_{\\delta\u0007bs{r}}⋅\\delta_{R}⋅│r(t)│ + Y_{\\delta\\eta}⋅\\delta_{R}⋅(\\et\n",
       "                                                                              \n",
       "                                                                              \n",
       " + v(t))⋅r(t) - r(t)⋅v(t))⋅y(t) + (\\eta - 1)⋅(N_{r\\eta}⋅r(t) + N_{v\u0007bs{v}\\eta}\n",
       "\n",
       "                                                               u(t)           \n",
       "                                                                              \n",
       "                                                               v(t)           \n",
       "                                                                              \n",
       "                                                               r(t)           \n",
       "                                                                              \n",
       "               2           2                                                2 \n",
       "lta}⋅\\delta_{R}  + X_{rr}⋅r (t) + X_{vr}⋅r(t)⋅v(t) + X_{vv\\eta}⋅(\\eta - 1)⋅v (\n",
       "                                                                              \n",
       "a - 1) + Y_{\\delta}⋅\\delta_{R} + Y_{r}⋅r(t) + Y_{v\u0007bs{r}}⋅v(t)⋅│r(t)│ + Y_{v\u0007b\n",
       "                                                                              \n",
       "                                 ⎛                                   2     2  \n",
       "⋅v(t)⋅│v(t)│ + N_{v\\eta}⋅v(t)) - ⎝X_{\\delta\\delta\\eta\\eta}⋅\\delta_{R} ⋅\\eta  +\n",
       "\n",
       "                                                                              \n",
       "                                                                              \n",
       "                                                                              \n",
       "                                                                              \n",
       "                                                                              \n",
       "                                                                              \n",
       "             2          2                                                     \n",
       "t) + X_{vv}⋅v (t) + \\eta ⋅c_{1} + \\eta⋅b_{1} + a_{1} - m⋅(-(x_{cg}⋅r(t) + r(t)\n",
       "                                                                              \n",
       "s{v}}⋅v(t)⋅│v(t)│ + Y_{v}⋅v(t) - m⋅((-r(t)⋅y(t) + u(t))⋅r(t) + r(t)⋅u(t)) + (\\\n",
       "                                                                              \n",
       "                            2           2                                     \n",
       " X_{\\delta\\delta}⋅\\delta_{R}  + X_{rr}⋅r (t) + X_{vr}⋅r(t)⋅v(t) + X_{vv\\eta}⋅(\n",
       "\n",
       "                                                                              \n",
       "                                                                              \n",
       "                                                                              \n",
       "                                                                              \n",
       "                                                                              \n",
       "                                                                              \n",
       "                                                                              \n",
       "⋅x(t) + v(t))⋅r(t) - r(t)⋅v(t))                                               \n",
       "                                                                              \n",
       "eta - 1)⋅(Y_{r\\eta}⋅r(t) + Y_{v\u0007bs{v}\\eta}⋅v(t)⋅│v(t)│ + Y_{v\\eta}⋅v(t))      \n",
       "                                                                              \n",
       "           2              2          2                           ⎞            \n",
       "\\eta - 1)⋅v (t) + X_{vv}⋅v (t) + \\eta ⋅c_{1} + \\eta⋅b_{1} + a_{1}⎠⋅y(t) + (Y_{\n",
       "\n",
       "                                                                              \n",
       "                                                                              \n",
       "                                                                              \n",
       "                                                                              \n",
       "                                                                              \n",
       "                                                                              \n",
       "                                                                              \n",
       "                                                                              \n",
       "                                                                              \n",
       "                                                                              \n",
       "                                                                              \n",
       "                                                                              \n",
       "*\\eta}⋅(\\eta - 1) + Y_{*} + Y_{\\delta\u0007bs{r}}⋅\\delta_{R}⋅│r(t)│ + Y_{\\delta\\eta\n",
       "\n",
       "                                                                              \n",
       "                                                                              \n",
       "                                                                              \n",
       "                                                                              \n",
       "                                                                              \n",
       "                                                                              \n",
       "                                                                              \n",
       "                                                                              \n",
       "                                                                              \n",
       "                                                                              \n",
       "                                                                              \n",
       "                                                                              \n",
       "}⋅\\delta_{R}⋅(\\eta - 1) + Y_{\\delta}⋅\\delta_{R} + Y_{r}⋅r(t) + Y_{v\u0007bs{r}}⋅v(t\n",
       "\n",
       "                                                                              \n",
       "                                                                              \n",
       "                                                                              \n",
       "                                                                              \n",
       "                                                                              \n",
       "                                                                              \n",
       "                                                                              \n",
       "                                                                              \n",
       "                                                                              \n",
       "                                                                              \n",
       "                                                                              \n",
       "                                                                              \n",
       ")⋅│r(t)│ + Y_{v\u0007bs{v}}⋅v(t)⋅│v(t)│ + Y_{v}⋅v(t) + (\\eta - 1)⋅(Y_{r\\eta}⋅r(t) +\n",
       "\n",
       "                                                    ⎤\n",
       "                                                    ⎥\n",
       "                                                    ⎥\n",
       "                                                    ⎥\n",
       "                                                    ⎥\n",
       "                                                    ⎥\n",
       "                                                    ⎥\n",
       "                                                    ⎥\n",
       "                                                    ⎥\n",
       "                                                    ⎥\n",
       "                                                    ⎥\n",
       "                                                    ⎥\n",
       " Y_{v\u0007bs{v}\\eta}⋅v(t)⋅│v(t)│ + Y_{v\\eta}⋅v(t)))⋅x(t)⎦"
      ]
     },
     "execution_count": 23,
     "metadata": {},
     "output_type": "execute_result"
    }
   ],
   "source": [
    "f = kane.forcing_full\n",
    "f"
   ]
  },
  {
   "cell_type": "code",
   "execution_count": 24,
   "metadata": {},
   "outputs": [
    {
     "data": {
      "text/latex": [
       "$$\\left[\\begin{matrix}u{\\left (t \\right )}\\\\v{\\left (t \\right )}\\\\r{\\left (t \\right )}\\\\- \\frac{m^{2} \\left(x_{cg} + x{\\left (t \\right )}\\right) \\left(Y_{*\\eta} \\left(\\eta - 1\\right) + Y_{*} + Y_{\\delta\u0007bs{r}} \\delta_{R} \\left|{r{\\left (t \\right )}}\\right| + Y_{\\delta\\eta} \\delta_{R} \\left(\\eta - 1\\right) + Y_{\\delta} \\delta_{R} + Y_{r} r{\\left (t \\right )} + Y_{v\u0007bs{r}} v{\\left (t \\right )} \\left|{r{\\left (t \\right )}}\\right| + Y_{v\u0007bs{v}} v{\\left (t \\right )} \\left|{v{\\left (t \\right )}}\\right| + Y_{v} v{\\left (t \\right )} - m \\left(\\left(- r{\\left (t \\right )} y{\\left (t \\right )} + u{\\left (t \\right )}\\right) r{\\left (t \\right )} + r{\\left (t \\right )} u{\\left (t \\right )}\\right) + \\left(\\eta - 1\\right) \\left(Y_{r\\eta} r{\\left (t \\right )} + Y_{v\u0007bs{v}\\eta} v{\\left (t \\right )} \\left|{v{\\left (t \\right )}}\\right| + Y_{v\\eta} v{\\left (t \\right )}\\right)\\right) y{\\left (t \\right )}}{- m^{3} \\left(x_{cg} + x{\\left (t \\right )}\\right)^{2} + m \\left(- m^{2} y^{2}{\\left (t \\right )} + m \\left(Izz + m \\left(\\left(x_{cg} + x{\\left (t \\right )}\\right)^{2} + y^{2}{\\left (t \\right )}\\right)\\right)\\right)} + \\frac{m^{2} \\left(N_{*\\eta} \\left(\\eta - 1\\right) + N_{*} + N_{\\delta\u0007bs{r}} \\delta_{R} \\left|{r{\\left (t \\right )}}\\right| + N_{\\delta\\eta} \\left(\\eta - 1\\right) + N_{\\delta} \\delta_{R} + N_{r\u0007bs{r}} r{\\left (t \\right )} \\left|{r{\\left (t \\right )}}\\right| + N_{r} r{\\left (t \\right )} + N_{v\u0007bs{r}} v{\\left (t \\right )} \\left|{r{\\left (t \\right )}}\\right| + N_{v\u0007bs{v}} v{\\left (t \\right )} \\left|{v{\\left (t \\right )}}\\right| + N_{v} v{\\left (t \\right )} - m \\left(x_{cg} + x{\\left (t \\right )}\\right) \\left(\\left(- r{\\left (t \\right )} y{\\left (t \\right )} + u{\\left (t \\right )}\\right) r{\\left (t \\right )} + r{\\left (t \\right )} u{\\left (t \\right )}\\right) + m \\left(- \\left(x_{cg} r{\\left (t \\right )} + r{\\left (t \\right )} x{\\left (t \\right )} + v{\\left (t \\right )}\\right) r{\\left (t \\right )} - r{\\left (t \\right )} v{\\left (t \\right )}\\right) y{\\left (t \\right )} + \\left(\\eta - 1\\right) \\left(N_{r\\eta} r{\\left (t \\right )} + N_{v\u0007bs{v}\\eta} v{\\left (t \\right )} \\left|{v{\\left (t \\right )}}\\right| + N_{v\\eta} v{\\left (t \\right )}\\right) - \\left(X_{\\delta\\delta\\eta\\eta} \\delta_{R}^{2} \\eta^{2} + X_{\\delta\\delta} \\delta_{R}^{2} + X_{rr} r^{2}{\\left (t \\right )} + X_{vr} r{\\left (t \\right )} v{\\left (t \\right )} + X_{vv\\eta} \\left(\\eta - 1\\right) v^{2}{\\left (t \\right )} + X_{vv} v^{2}{\\left (t \\right )} + \\eta^{2} c_{1} + \\eta b_{1} + a_{1}\\right) y{\\left (t \\right )} + \\left(Y_{*\\eta} \\left(\\eta - 1\\right) + Y_{*} + Y_{\\delta\u0007bs{r}} \\delta_{R} \\left|{r{\\left (t \\right )}}\\right| + Y_{\\delta\\eta} \\delta_{R} \\left(\\eta - 1\\right) + Y_{\\delta} \\delta_{R} + Y_{r} r{\\left (t \\right )} + Y_{v\u0007bs{r}} v{\\left (t \\right )} \\left|{r{\\left (t \\right )}}\\right| + Y_{v\u0007bs{v}} v{\\left (t \\right )} \\left|{v{\\left (t \\right )}}\\right| + Y_{v} v{\\left (t \\right )} + \\left(\\eta - 1\\right) \\left(Y_{r\\eta} r{\\left (t \\right )} + Y_{v\u0007bs{v}\\eta} v{\\left (t \\right )} \\left|{v{\\left (t \\right )}}\\right| + Y_{v\\eta} v{\\left (t \\right )}\\right)\\right) x{\\left (t \\right )}\\right) y{\\left (t \\right )}}{- m^{3} \\left(x_{cg} + x{\\left (t \\right )}\\right)^{2} + m \\left(- m^{2} y^{2}{\\left (t \\right )} + m \\left(Izz + m \\left(\\left(x_{cg} + x{\\left (t \\right )}\\right)^{2} + y^{2}{\\left (t \\right )}\\right)\\right)\\right)} + \\frac{\\left(- m^{3} \\left(x_{cg} + x{\\left (t \\right )}\\right)^{2} + m^{3} y^{2}{\\left (t \\right )} + m \\left(- m^{2} y^{2}{\\left (t \\right )} + m \\left(Izz + m \\left(\\left(x_{cg} + x{\\left (t \\right )}\\right)^{2} + y^{2}{\\left (t \\right )}\\right)\\right)\\right)\\right) \\left(X_{\\delta\\delta\\eta\\eta} \\delta_{R}^{2} \\eta^{2} + X_{\\delta\\delta} \\delta_{R}^{2} + X_{rr} r^{2}{\\left (t \\right )} + X_{vr} r{\\left (t \\right )} v{\\left (t \\right )} + X_{vv\\eta} \\left(\\eta - 1\\right) v^{2}{\\left (t \\right )} + X_{vv} v^{2}{\\left (t \\right )} + \\eta^{2} c_{1} + \\eta b_{1} + a_{1} - m \\left(- \\left(x_{cg} r{\\left (t \\right )} + r{\\left (t \\right )} x{\\left (t \\right )} + v{\\left (t \\right )}\\right) r{\\left (t \\right )} - r{\\left (t \\right )} v{\\left (t \\right )}\\right)\\right)}{m \\left(- m^{3} \\left(x_{cg} + x{\\left (t \\right )}\\right)^{2} + m \\left(- m^{2} y^{2}{\\left (t \\right )} + m \\left(Izz + m \\left(\\left(x_{cg} + x{\\left (t \\right )}\\right)^{2} + y^{2}{\\left (t \\right )}\\right)\\right)\\right)\\right)}\\\\- \\frac{m^{2} \\left(x_{cg} + x{\\left (t \\right )}\\right) \\left(X_{\\delta\\delta\\eta\\eta} \\delta_{R}^{2} \\eta^{2} + X_{\\delta\\delta} \\delta_{R}^{2} + X_{rr} r^{2}{\\left (t \\right )} + X_{vr} r{\\left (t \\right )} v{\\left (t \\right )} + X_{vv\\eta} \\left(\\eta - 1\\right) v^{2}{\\left (t \\right )} + X_{vv} v^{2}{\\left (t \\right )} + \\eta^{2} c_{1} + \\eta b_{1} + a_{1} - m \\left(- \\left(x_{cg} r{\\left (t \\right )} + r{\\left (t \\right )} x{\\left (t \\right )} + v{\\left (t \\right )}\\right) r{\\left (t \\right )} - r{\\left (t \\right )} v{\\left (t \\right )}\\right)\\right) y{\\left (t \\right )}}{- m^{3} \\left(x_{cg} + x{\\left (t \\right )}\\right)^{2} + m \\left(- m^{2} y^{2}{\\left (t \\right )} + m \\left(Izz + m \\left(\\left(x_{cg} + x{\\left (t \\right )}\\right)^{2} + y^{2}{\\left (t \\right )}\\right)\\right)\\right)} - \\frac{m^{2} \\left(x_{cg} + x{\\left (t \\right )}\\right) \\left(N_{*\\eta} \\left(\\eta - 1\\right) + N_{*} + N_{\\delta\u0007bs{r}} \\delta_{R} \\left|{r{\\left (t \\right )}}\\right| + N_{\\delta\\eta} \\left(\\eta - 1\\right) + N_{\\delta} \\delta_{R} + N_{r\u0007bs{r}} r{\\left (t \\right )} \\left|{r{\\left (t \\right )}}\\right| + N_{r} r{\\left (t \\right )} + N_{v\u0007bs{r}} v{\\left (t \\right )} \\left|{r{\\left (t \\right )}}\\right| + N_{v\u0007bs{v}} v{\\left (t \\right )} \\left|{v{\\left (t \\right )}}\\right| + N_{v} v{\\left (t \\right )} - m \\left(x_{cg} + x{\\left (t \\right )}\\right) \\left(\\left(- r{\\left (t \\right )} y{\\left (t \\right )} + u{\\left (t \\right )}\\right) r{\\left (t \\right )} + r{\\left (t \\right )} u{\\left (t \\right )}\\right) + m \\left(- \\left(x_{cg} r{\\left (t \\right )} + r{\\left (t \\right )} x{\\left (t \\right )} + v{\\left (t \\right )}\\right) r{\\left (t \\right )} - r{\\left (t \\right )} v{\\left (t \\right )}\\right) y{\\left (t \\right )} + \\left(\\eta - 1\\right) \\left(N_{r\\eta} r{\\left (t \\right )} + N_{v\u0007bs{v}\\eta} v{\\left (t \\right )} \\left|{v{\\left (t \\right )}}\\right| + N_{v\\eta} v{\\left (t \\right )}\\right) - \\left(X_{\\delta\\delta\\eta\\eta} \\delta_{R}^{2} \\eta^{2} + X_{\\delta\\delta} \\delta_{R}^{2} + X_{rr} r^{2}{\\left (t \\right )} + X_{vr} r{\\left (t \\right )} v{\\left (t \\right )} + X_{vv\\eta} \\left(\\eta - 1\\right) v^{2}{\\left (t \\right )} + X_{vv} v^{2}{\\left (t \\right )} + \\eta^{2} c_{1} + \\eta b_{1} + a_{1}\\right) y{\\left (t \\right )} + \\left(Y_{*\\eta} \\left(\\eta - 1\\right) + Y_{*} + Y_{\\delta\u0007bs{r}} \\delta_{R} \\left|{r{\\left (t \\right )}}\\right| + Y_{\\delta\\eta} \\delta_{R} \\left(\\eta - 1\\right) + Y_{\\delta} \\delta_{R} + Y_{r} r{\\left (t \\right )} + Y_{v\u0007bs{r}} v{\\left (t \\right )} \\left|{r{\\left (t \\right )}}\\right| + Y_{v\u0007bs{v}} v{\\left (t \\right )} \\left|{v{\\left (t \\right )}}\\right| + Y_{v} v{\\left (t \\right )} + \\left(\\eta - 1\\right) \\left(Y_{r\\eta} r{\\left (t \\right )} + Y_{v\u0007bs{v}\\eta} v{\\left (t \\right )} \\left|{v{\\left (t \\right )}}\\right| + Y_{v\\eta} v{\\left (t \\right )}\\right)\\right) x{\\left (t \\right )}\\right)}{- m^{3} \\left(x_{cg} + x{\\left (t \\right )}\\right)^{2} + m \\left(- m^{2} y^{2}{\\left (t \\right )} + m \\left(Izz + m \\left(\\left(x_{cg} + x{\\left (t \\right )}\\right)^{2} + y^{2}{\\left (t \\right )}\\right)\\right)\\right)} + \\frac{\\left(- m^{2} y^{2}{\\left (t \\right )} + m \\left(Izz + m \\left(\\left(x_{cg} + x{\\left (t \\right )}\\right)^{2} + y^{2}{\\left (t \\right )}\\right)\\right)\\right) \\left(Y_{*\\eta} \\left(\\eta - 1\\right) + Y_{*} + Y_{\\delta\u0007bs{r}} \\delta_{R} \\left|{r{\\left (t \\right )}}\\right| + Y_{\\delta\\eta} \\delta_{R} \\left(\\eta - 1\\right) + Y_{\\delta} \\delta_{R} + Y_{r} r{\\left (t \\right )} + Y_{v\u0007bs{r}} v{\\left (t \\right )} \\left|{r{\\left (t \\right )}}\\right| + Y_{v\u0007bs{v}} v{\\left (t \\right )} \\left|{v{\\left (t \\right )}}\\right| + Y_{v} v{\\left (t \\right )} - m \\left(\\left(- r{\\left (t \\right )} y{\\left (t \\right )} + u{\\left (t \\right )}\\right) r{\\left (t \\right )} + r{\\left (t \\right )} u{\\left (t \\right )}\\right) + \\left(\\eta - 1\\right) \\left(Y_{r\\eta} r{\\left (t \\right )} + Y_{v\u0007bs{v}\\eta} v{\\left (t \\right )} \\left|{v{\\left (t \\right )}}\\right| + Y_{v\\eta} v{\\left (t \\right )}\\right)\\right)}{- m^{3} \\left(x_{cg} + x{\\left (t \\right )}\\right)^{2} + m \\left(- m^{2} y^{2}{\\left (t \\right )} + m \\left(Izz + m \\left(\\left(x_{cg} + x{\\left (t \\right )}\\right)^{2} + y^{2}{\\left (t \\right )}\\right)\\right)\\right)}\\\\- \\frac{m^{2} \\left(x_{cg} + x{\\left (t \\right )}\\right) \\left(Y_{*\\eta} \\left(\\eta - 1\\right) + Y_{*} + Y_{\\delta\u0007bs{r}} \\delta_{R} \\left|{r{\\left (t \\right )}}\\right| + Y_{\\delta\\eta} \\delta_{R} \\left(\\eta - 1\\right) + Y_{\\delta} \\delta_{R} + Y_{r} r{\\left (t \\right )} + Y_{v\u0007bs{r}} v{\\left (t \\right )} \\left|{r{\\left (t \\right )}}\\right| + Y_{v\u0007bs{v}} v{\\left (t \\right )} \\left|{v{\\left (t \\right )}}\\right| + Y_{v} v{\\left (t \\right )} - m \\left(\\left(- r{\\left (t \\right )} y{\\left (t \\right )} + u{\\left (t \\right )}\\right) r{\\left (t \\right )} + r{\\left (t \\right )} u{\\left (t \\right )}\\right) + \\left(\\eta - 1\\right) \\left(Y_{r\\eta} r{\\left (t \\right )} + Y_{v\u0007bs{v}\\eta} v{\\left (t \\right )} \\left|{v{\\left (t \\right )}}\\right| + Y_{v\\eta} v{\\left (t \\right )}\\right)\\right)}{- m^{3} \\left(x_{cg} + x{\\left (t \\right )}\\right)^{2} + m \\left(- m^{2} y^{2}{\\left (t \\right )} + m \\left(Izz + m \\left(\\left(x_{cg} + x{\\left (t \\right )}\\right)^{2} + y^{2}{\\left (t \\right )}\\right)\\right)\\right)} + \\frac{m^{2} \\left(X_{\\delta\\delta\\eta\\eta} \\delta_{R}^{2} \\eta^{2} + X_{\\delta\\delta} \\delta_{R}^{2} + X_{rr} r^{2}{\\left (t \\right )} + X_{vr} r{\\left (t \\right )} v{\\left (t \\right )} + X_{vv\\eta} \\left(\\eta - 1\\right) v^{2}{\\left (t \\right )} + X_{vv} v^{2}{\\left (t \\right )} + \\eta^{2} c_{1} + \\eta b_{1} + a_{1} - m \\left(- \\left(x_{cg} r{\\left (t \\right )} + r{\\left (t \\right )} x{\\left (t \\right )} + v{\\left (t \\right )}\\right) r{\\left (t \\right )} - r{\\left (t \\right )} v{\\left (t \\right )}\\right)\\right) y{\\left (t \\right )}}{- m^{3} \\left(x_{cg} + x{\\left (t \\right )}\\right)^{2} + m \\left(- m^{2} y^{2}{\\left (t \\right )} + m \\left(Izz + m \\left(\\left(x_{cg} + x{\\left (t \\right )}\\right)^{2} + y^{2}{\\left (t \\right )}\\right)\\right)\\right)} + \\frac{m^{2} \\left(N_{*\\eta} \\left(\\eta - 1\\right) + N_{*} + N_{\\delta\u0007bs{r}} \\delta_{R} \\left|{r{\\left (t \\right )}}\\right| + N_{\\delta\\eta} \\left(\\eta - 1\\right) + N_{\\delta} \\delta_{R} + N_{r\u0007bs{r}} r{\\left (t \\right )} \\left|{r{\\left (t \\right )}}\\right| + N_{r} r{\\left (t \\right )} + N_{v\u0007bs{r}} v{\\left (t \\right )} \\left|{r{\\left (t \\right )}}\\right| + N_{v\u0007bs{v}} v{\\left (t \\right )} \\left|{v{\\left (t \\right )}}\\right| + N_{v} v{\\left (t \\right )} - m \\left(x_{cg} + x{\\left (t \\right )}\\right) \\left(\\left(- r{\\left (t \\right )} y{\\left (t \\right )} + u{\\left (t \\right )}\\right) r{\\left (t \\right )} + r{\\left (t \\right )} u{\\left (t \\right )}\\right) + m \\left(- \\left(x_{cg} r{\\left (t \\right )} + r{\\left (t \\right )} x{\\left (t \\right )} + v{\\left (t \\right )}\\right) r{\\left (t \\right )} - r{\\left (t \\right )} v{\\left (t \\right )}\\right) y{\\left (t \\right )} + \\left(\\eta - 1\\right) \\left(N_{r\\eta} r{\\left (t \\right )} + N_{v\u0007bs{v}\\eta} v{\\left (t \\right )} \\left|{v{\\left (t \\right )}}\\right| + N_{v\\eta} v{\\left (t \\right )}\\right) - \\left(X_{\\delta\\delta\\eta\\eta} \\delta_{R}^{2} \\eta^{2} + X_{\\delta\\delta} \\delta_{R}^{2} + X_{rr} r^{2}{\\left (t \\right )} + X_{vr} r{\\left (t \\right )} v{\\left (t \\right )} + X_{vv\\eta} \\left(\\eta - 1\\right) v^{2}{\\left (t \\right )} + X_{vv} v^{2}{\\left (t \\right )} + \\eta^{2} c_{1} + \\eta b_{1} + a_{1}\\right) y{\\left (t \\right )} + \\left(Y_{*\\eta} \\left(\\eta - 1\\right) + Y_{*} + Y_{\\delta\u0007bs{r}} \\delta_{R} \\left|{r{\\left (t \\right )}}\\right| + Y_{\\delta\\eta} \\delta_{R} \\left(\\eta - 1\\right) + Y_{\\delta} \\delta_{R} + Y_{r} r{\\left (t \\right )} + Y_{v\u0007bs{r}} v{\\left (t \\right )} \\left|{r{\\left (t \\right )}}\\right| + Y_{v\u0007bs{v}} v{\\left (t \\right )} \\left|{v{\\left (t \\right )}}\\right| + Y_{v} v{\\left (t \\right )} + \\left(\\eta - 1\\right) \\left(Y_{r\\eta} r{\\left (t \\right )} + Y_{v\u0007bs{v}\\eta} v{\\left (t \\right )} \\left|{v{\\left (t \\right )}}\\right| + Y_{v\\eta} v{\\left (t \\right )}\\right)\\right) x{\\left (t \\right )}\\right)}{- m^{3} \\left(x_{cg} + x{\\left (t \\right )}\\right)^{2} + m \\left(- m^{2} y^{2}{\\left (t \\right )} + m \\left(Izz + m \\left(\\left(x_{cg} + x{\\left (t \\right )}\\right)^{2} + y^{2}{\\left (t \\right )}\\right)\\right)\\right)}\\end{matrix}\\right]$$"
      ],
      "text/plain": [
       "⎡                                                                             \n",
       "⎢                                                                             \n",
       "⎢                                                                             \n",
       "⎢                                                                             \n",
       "⎢                                                                             \n",
       "⎢                                                                             \n",
       "⎢   2                                                                         \n",
       "⎢  m ⋅(x_{cg} + x(t))⋅(Y_{*\\eta}⋅(\\eta - 1) + Y_{*} + Y_{\\delta\u0007bs{r}}⋅\\delta_\n",
       "⎢- ───────────────────────────────────────────────────────────────────────────\n",
       "⎢                                                                             \n",
       "⎢                                                                             \n",
       "⎢                                                                             \n",
       "⎢                 2                 ⎛                                   2     \n",
       "⎢                m ⋅(x_{cg} + x(t))⋅⎝X_{\\delta\\delta\\eta\\eta}⋅\\delta_{R} ⋅\\eta\n",
       "⎢              - ─────────────────────────────────────────────────────────────\n",
       "⎢                                                                             \n",
       "⎢                                                                             \n",
       "⎢                                                                             \n",
       "⎢                                                  2                          \n",
       "⎢                                                 m ⋅(x_{cg} + x(t))⋅(Y_{*\\eta\n",
       "⎢                                               - ────────────────────────────\n",
       "⎢                                                                             \n",
       "⎣                                                                             \n",
       "\n",
       "                                                                              \n",
       "                                                                              \n",
       "                                                                              \n",
       "                                                                              \n",
       "                                                                              \n",
       "                                                                              \n",
       "                                                                              \n",
       "{R}⋅│r(t)│ + Y_{\\delta\\eta}⋅\\delta_{R}⋅(\\eta - 1) + Y_{\\delta}⋅\\delta_{R} + Y_\n",
       "──────────────────────────────────────────────────────────────────────────────\n",
       "                                                                3             \n",
       "                                                             - m ⋅(x_{cg} + x(\n",
       "                                                                              \n",
       "2                              2           2                                  \n",
       "  + X_{\\delta\\delta}⋅\\delta_{R}  + X_{rr}⋅r (t) + X_{vr}⋅r(t)⋅v(t) + X_{vv\\eta\n",
       "──────────────────────────────────────────────────────────────────────────────\n",
       "                                     3                2     ⎛   2  2        ⎛ \n",
       "                                  - m ⋅(x_{cg} + x(t))  + m⋅⎝- m ⋅y (t) + m⋅⎝I\n",
       "                                                                              \n",
       "                                                                              \n",
       "}⋅(\\eta - 1) + Y_{*} + Y_{\\delta\u0007bs{r}}⋅\\delta_{R}⋅│r(t)│ + Y_{\\delta\\eta}⋅\\de\n",
       "──────────────────────────────────────────────────────────────────────────────\n",
       "                                                                              \n",
       "                                                                              \n",
       "\n",
       "                                                                              \n",
       "                                                                              \n",
       "                                                                              \n",
       "                                                                              \n",
       "                                                                              \n",
       "                                                                              \n",
       "                                                                              \n",
       "{r}⋅r(t) + Y_{v\u0007bs{r}}⋅v(t)⋅│r(t)│ + Y_{v\u0007bs{v}}⋅v(t)⋅│v(t)│ + Y_{v}⋅v(t) - m⋅\n",
       "──────────────────────────────────────────────────────────────────────────────\n",
       "   2     ⎛   2  2        ⎛        ⎛               2    2   ⎞⎞⎞                \n",
       "t))  + m⋅⎝- m ⋅y (t) + m⋅⎝Izz + m⋅⎝(x_{cg} + x(t))  + y (t)⎠⎠⎠                \n",
       "                                                                              \n",
       "              2              2          2                                     \n",
       "}⋅(\\eta - 1)⋅v (t) + X_{vv}⋅v (t) + \\eta ⋅c_{1} + \\eta⋅b_{1} + a_{1} - m⋅(-(x_\n",
       "──────────────────────────────────────────────────────────────────────────────\n",
       "       ⎛               2    2   ⎞⎞⎞                                           \n",
       "zz + m⋅⎝(x_{cg} + x(t))  + y (t)⎠⎠⎠                                           \n",
       "                                                                              \n",
       "                                                                              \n",
       "lta_{R}⋅(\\eta - 1) + Y_{\\delta}⋅\\delta_{R} + Y_{r}⋅r(t) + Y_{v\u0007bs{r}}⋅v(t)⋅│r(\n",
       "──────────────────────────────────────────────────────────────────────────────\n",
       "                               3                2     ⎛   2  2        ⎛       \n",
       "                            - m ⋅(x_{cg} + x(t))  + m⋅⎝- m ⋅y (t) + m⋅⎝Izz + m\n",
       "\n",
       "                                                                              \n",
       "                                                                              \n",
       "                                                                              \n",
       "                                                                              \n",
       "                                                                              \n",
       "                                                                              \n",
       "                                                                              \n",
       "((-r(t)⋅y(t) + u(t))⋅r(t) + r(t)⋅u(t)) + (\\eta - 1)⋅(Y_{r\\eta}⋅r(t) + Y_{v\u0007bs{\n",
       "──────────────────────────────────────────────────────────────────────────────\n",
       "                                                                              \n",
       "                                                                              \n",
       "                                                                              \n",
       "                                               ⎞         2                 ⎛  \n",
       "{cg}⋅r(t) + r(t)⋅x(t) + v(t))⋅r(t) - r(t)⋅v(t))⎠⋅y(t)   m ⋅(x_{cg} + x(t))⋅⎝N_\n",
       "───────────────────────────────────────────────────── - ──────────────────────\n",
       "                                                                              \n",
       "                                                                              \n",
       "                                                                              \n",
       "                                                                              \n",
       "t)│ + Y_{v\u0007bs{v}}⋅v(t)⋅│v(t)│ + Y_{v}⋅v(t) - m⋅((-r(t)⋅y(t) + u(t))⋅r(t) + r(t\n",
       "──────────────────────────────────────────────────────────────────────────────\n",
       " ⎛               2    2   ⎞⎞⎞                                                 \n",
       "⋅⎝(x_{cg} + x(t))  + y (t)⎠⎠⎠                                                 \n",
       "\n",
       "                                                                              \n",
       "                                                                              \n",
       "                                                                              \n",
       "                                                                              \n",
       "                                                                              \n",
       "                                                                              \n",
       "                                               2 ⎛                            \n",
       "v}\\eta}⋅v(t)⋅│v(t)│ + Y_{v\\eta}⋅v(t)))⋅y(t)   m ⋅⎝N_{*\\eta}⋅(\\eta - 1) + N_{*}\n",
       "─────────────────────────────────────────── + ────────────────────────────────\n",
       "                                                                              \n",
       "                                                                              \n",
       "                                                                              \n",
       "                                                                              \n",
       "{*\\eta}⋅(\\eta - 1) + N_{*} + N_{\\delta\u0007bs{r}}⋅\\delta_{R}⋅│r(t)│ + N_{\\delta\\et\n",
       "──────────────────────────────────────────────────────────────────────────────\n",
       "                                                                              \n",
       "                                                                              \n",
       "                                                                              \n",
       "                                                                              \n",
       ")⋅u(t)) + (\\eta - 1)⋅(Y_{r\\eta}⋅r(t) + Y_{v\u0007bs{v}\\eta}⋅v(t)⋅│v(t)│ + Y_{v\\eta}\n",
       "──────────────────────────────────────────────────────────────────────────────\n",
       "                                                                              \n",
       "                                                                              \n",
       "\n",
       "                                                                              \n",
       "                                                                              \n",
       "                                                                              \n",
       "                                                                              \n",
       "                                                                              \n",
       "                                                                              \n",
       "                                                                              \n",
       " + N_{\\delta\u0007bs{r}}⋅\\delta_{R}⋅│r(t)│ + N_{\\delta\\eta}⋅(\\eta - 1) + N_{\\delta}\n",
       "──────────────────────────────────────────────────────────────────────────────\n",
       "                                                                              \n",
       "                                                                              \n",
       "                                                                              \n",
       "                                                                              \n",
       "a}⋅(\\eta - 1) + N_{\\delta}⋅\\delta_{R} + N_{r\u0007bs{r}}⋅r(t)⋅│r(t)│ + N_{r}⋅r(t) +\n",
       "──────────────────────────────────────────────────────────────────────────────\n",
       "                                                                              \n",
       "                                                                              \n",
       "                                                                              \n",
       "           2 ⎛                                   2     2                      \n",
       "⋅v(t)))   m ⋅⎝X_{\\delta\\delta\\eta\\eta}⋅\\delta_{R} ⋅\\eta  + X_{\\delta\\delta}⋅\\d\n",
       "─────── + ────────────────────────────────────────────────────────────────────\n",
       "                                                                              \n",
       "                                                                              \n",
       "\n",
       "                                                                              \n",
       "                                                                              \n",
       "                                                                              \n",
       "                                                                              \n",
       "                                                                              \n",
       "                                                                              \n",
       "                                                                              \n",
       "⋅\\delta_{R} + N_{r\u0007bs{r}}⋅r(t)⋅│r(t)│ + N_{r}⋅r(t) + N_{v\u0007bs{r}}⋅v(t)⋅│r(t)│ +\n",
       "──────────────────────────────────────────────────────────────────────────────\n",
       "                                                                              \n",
       "                                                                              \n",
       "                                                                              \n",
       "                                                                              \n",
       " N_{v\u0007bs{r}}⋅v(t)⋅│r(t)│ + N_{v\u0007bs{v}}⋅v(t)⋅│v(t)│ + N_{v}⋅v(t) - m⋅(x_{cg} + \n",
       "──────────────────────────────────────────────────────────────────────────────\n",
       "                                                                              \n",
       "                                                                              \n",
       "                                                                              \n",
       "        2           2                                                2        \n",
       "elta_{R}  + X_{rr}⋅r (t) + X_{vr}⋅r(t)⋅v(t) + X_{vv\\eta}⋅(\\eta - 1)⋅v (t) + X_\n",
       "──────────────────────────────────────────────────────────────────────────────\n",
       "                      3                2     ⎛   2  2        ⎛        ⎛       \n",
       "                   - m ⋅(x_{cg} + x(t))  + m⋅⎝- m ⋅y (t) + m⋅⎝Izz + m⋅⎝(x_{cg}\n",
       "\n",
       "                                                                              \n",
       "                                                                              \n",
       "                                                                              \n",
       "                                                                              \n",
       "                                                                              \n",
       "                                                                              \n",
       "                                                                              \n",
       " N_{v\u0007bs{v}}⋅v(t)⋅│v(t)│ + N_{v}⋅v(t) - m⋅(x_{cg} + x(t))⋅((-r(t)⋅y(t) + u(t))\n",
       "──────────────────────────────────────────────────────────────────────────────\n",
       "                                                                              \n",
       "                                                                              \n",
       "                                                                              \n",
       "                                                                              \n",
       "x(t))⋅((-r(t)⋅y(t) + u(t))⋅r(t) + r(t)⋅u(t)) + m⋅(-(x_{cg}⋅r(t) + r(t)⋅x(t) + \n",
       "──────────────────────────────────────────────────────────────────────────────\n",
       "                                                                              \n",
       "                                                                              \n",
       "                                                                              \n",
       "      2          2                                                            \n",
       "{vv}⋅v (t) + \\eta ⋅c_{1} + \\eta⋅b_{1} + a_{1} - m⋅(-(x_{cg}⋅r(t) + r(t)⋅x(t) +\n",
       "──────────────────────────────────────────────────────────────────────────────\n",
       "        2    2   ⎞⎞⎞                                                          \n",
       " + x(t))  + y (t)⎠⎠⎠                                                          \n",
       "\n",
       "                                                                              \n",
       "                                                                              \n",
       "                                                                              \n",
       "                                                                              \n",
       "                                                                              \n",
       "                                                                              \n",
       "                                                                              \n",
       "⋅r(t) + r(t)⋅u(t)) + m⋅(-(x_{cg}⋅r(t) + r(t)⋅x(t) + v(t))⋅r(t) - r(t)⋅v(t))⋅y(\n",
       "──────────────────────────────────────────────────────────────────────────────\n",
       "                                                                              \n",
       "                                                                              \n",
       "                                                                              \n",
       "                                                                              \n",
       "v(t))⋅r(t) - r(t)⋅v(t))⋅y(t) + (\\eta - 1)⋅(N_{r\\eta}⋅r(t) + N_{v\u0007bs{v}\\eta}⋅v(\n",
       "──────────────────────────────────────────────────────────────────────────────\n",
       "                                                                              \n",
       "                                                                              \n",
       "                                                                              \n",
       "                        ⎞         2 ⎛                                         \n",
       " v(t))⋅r(t) - r(t)⋅v(t))⎠⋅y(t)   m ⋅⎝N_{*\\eta}⋅(\\eta - 1) + N_{*} + N_{\\delta\u0007\n",
       "────────────────────────────── + ─────────────────────────────────────────────\n",
       "                                                                              \n",
       "                                                                              \n",
       "\n",
       "                                                                              \n",
       "                                                                              \n",
       "                                                                              \n",
       "                                                                              \n",
       "                                                                              \n",
       "                                                                              \n",
       "                                                                              \n",
       "t) + (\\eta - 1)⋅(N_{r\\eta}⋅r(t) + N_{v\u0007bs{v}\\eta}⋅v(t)⋅│v(t)│ + N_{v\\eta}⋅v(t)\n",
       "──────────────────────────────────────────────────────────────────────────────\n",
       "                                                                              \n",
       "                                                                            - \n",
       "                                                                              \n",
       "                              ⎛                                   2     2     \n",
       "t)⋅│v(t)│ + N_{v\\eta}⋅v(t)) - ⎝X_{\\delta\\delta\\eta\\eta}⋅\\delta_{R} ⋅\\eta  + X_\n",
       "──────────────────────────────────────────────────────────────────────────────\n",
       "                3                2     ⎛   2  2        ⎛        ⎛             \n",
       "             - m ⋅(x_{cg} + x(t))  + m⋅⎝- m ⋅y (t) + m⋅⎝Izz + m⋅⎝(x_{cg} + x(t\n",
       "                                                                              \n",
       "                                                                              \n",
       "bs{r}}⋅\\delta_{R}⋅│r(t)│ + N_{\\delta\\eta}⋅(\\eta - 1) + N_{\\delta}⋅\\delta_{R} +\n",
       "──────────────────────────────────────────────────────────────────────────────\n",
       "                                                                              \n",
       "                                                                              \n",
       "\n",
       "                            u(t)                                              \n",
       "                                                                              \n",
       "                            v(t)                                              \n",
       "                                                                              \n",
       "                            r(t)                                              \n",
       "                                                                              \n",
       "    ⎛                                   2     2                              2\n",
       ") - ⎝X_{\\delta\\delta\\eta\\eta}⋅\\delta_{R} ⋅\\eta  + X_{\\delta\\delta}⋅\\delta_{R} \n",
       "──────────────────────────────────────────────────────────────────────────────\n",
       " 3                2     ⎛   2  2        ⎛        ⎛               2    2   ⎞⎞⎞ \n",
       "m ⋅(x_{cg} + x(t))  + m⋅⎝- m ⋅y (t) + m⋅⎝Izz + m⋅⎝(x_{cg} + x(t))  + y (t)⎠⎠⎠ \n",
       "                                                                              \n",
       "                         2           2                                        \n",
       "{\\delta\\delta}⋅\\delta_{R}  + X_{rr}⋅r (t) + X_{vr}⋅r(t)⋅v(t) + X_{vv\\eta}⋅(\\et\n",
       "──────────────────────────────────────────────────────────────────────────────\n",
       "  2    2   ⎞⎞⎞                                                                \n",
       "))  + y (t)⎠⎠⎠                                                                \n",
       "                                                                              \n",
       "                                                                              \n",
       " N_{r\u0007bs{r}}⋅r(t)⋅│r(t)│ + N_{r}⋅r(t) + N_{v\u0007bs{r}}⋅v(t)⋅│r(t)│ + N_{v\u0007bs{v}}⋅\n",
       "──────────────────────────────────────────────────────────────────────────────\n",
       "                                                                              \n",
       "                                                                              \n",
       "\n",
       "                                                                              \n",
       "                                                                              \n",
       "                                                                              \n",
       "                                                                              \n",
       "                                                                              \n",
       "                                                                              \n",
       "           2                                                2              2  \n",
       " + X_{rr}⋅r (t) + X_{vr}⋅r(t)⋅v(t) + X_{vv\\eta}⋅(\\eta - 1)⋅v (t) + X_{vv}⋅v (t\n",
       "──────────────────────────────────────────────────────────────────────────────\n",
       "                                                                              \n",
       "                                                                              \n",
       "                                                                              \n",
       "        2              2          2                           ⎞               \n",
       "a - 1)⋅v (t) + X_{vv}⋅v (t) + \\eta ⋅c_{1} + \\eta⋅b_{1} + a_{1}⎠⋅y(t) + (Y_{*\\e\n",
       "──────────────────────────────────────────────────────────────────────────────\n",
       "                                                                              \n",
       "                                                                              \n",
       "                                                                              \n",
       "                                                                              \n",
       "v(t)⋅│v(t)│ + N_{v}⋅v(t) - m⋅(x_{cg} + x(t))⋅((-r(t)⋅y(t) + u(t))⋅r(t) + r(t)⋅\n",
       "──────────────────────────────────────────────────────────────────────────────\n",
       "                                                                              \n",
       "                                                                              \n",
       "\n",
       "                                                                              \n",
       "                                                                              \n",
       "                                                                              \n",
       "                                                                              \n",
       "                                                                              \n",
       "                                                                              \n",
       "        2                           ⎞                                         \n",
       ") + \\eta ⋅c_{1} + \\eta⋅b_{1} + a_{1}⎠⋅y(t) + (Y_{*\\eta}⋅(\\eta - 1) + Y_{*} + Y\n",
       "──────────────────────────────────────────────────────────────────────────────\n",
       "                                                                              \n",
       "                                                                              \n",
       "                                                                              \n",
       "                                                                              \n",
       "ta}⋅(\\eta - 1) + Y_{*} + Y_{\\delta\u0007bs{r}}⋅\\delta_{R}⋅│r(t)│ + Y_{\\delta\\eta}⋅\\\n",
       "──────────────────────────────────────────────────────────────────────────────\n",
       "                                                                              \n",
       "                                                                              \n",
       "                                                                              \n",
       "                                                                              \n",
       "u(t)) + m⋅(-(x_{cg}⋅r(t) + r(t)⋅x(t) + v(t))⋅r(t) - r(t)⋅v(t))⋅y(t) + (\\eta - \n",
       "──────────────────────────────────────────────────────────────────────────────\n",
       "                                                                              \n",
       "                                                                              \n",
       "\n",
       "                                                                              \n",
       "                                                                              \n",
       "                                                                              \n",
       "                                                                              \n",
       "                                                                              \n",
       "                                                                              \n",
       "                                                                              \n",
       "_{\\delta\u0007bs{r}}⋅\\delta_{R}⋅│r(t)│ + Y_{\\delta\\eta}⋅\\delta_{R}⋅(\\eta - 1) + Y_{\n",
       "──────────────────────────────────────────────────────────────────────────────\n",
       "                                                                              \n",
       "                                                                              \n",
       "                                                                              \n",
       "                                                                              \n",
       "delta_{R}⋅(\\eta - 1) + Y_{\\delta}⋅\\delta_{R} + Y_{r}⋅r(t) + Y_{v\u0007bs{r}}⋅v(t)⋅│\n",
       "──────────────────────────────────────────────────────────────────────────────\n",
       "                                                                              \n",
       "                                                                              \n",
       "                                                                              \n",
       "                                                                     ⎛        \n",
       "1)⋅(N_{r\\eta}⋅r(t) + N_{v\u0007bs{v}\\eta}⋅v(t)⋅│v(t)│ + N_{v\\eta}⋅v(t)) - ⎝X_{\\delt\n",
       "──────────────────────────────────────────────────────────────────────────────\n",
       "                                                               3              \n",
       "                                                            - m ⋅(x_{cg} + x(t\n",
       "\n",
       "                                                                              \n",
       "                                                                              \n",
       "                                                                              \n",
       "                                                                              \n",
       "                                                                              \n",
       "                                                                              \n",
       "                                                                              \n",
       "\\delta}⋅\\delta_{R} + Y_{r}⋅r(t) + Y_{v\u0007bs{r}}⋅v(t)⋅│r(t)│ + Y_{v\u0007bs{v}}⋅v(t)⋅│\n",
       "──────────────────────────────────────────────────────────────────────────────\n",
       "                                                                              \n",
       "                                                                              \n",
       "                                                                              \n",
       "                                                                              \n",
       "r(t)│ + Y_{v\u0007bs{v}}⋅v(t)⋅│v(t)│ + Y_{v}⋅v(t) + (\\eta - 1)⋅(Y_{r\\eta}⋅r(t) + Y_\n",
       "──────────────────────────────────────────────────────────────────────────────\n",
       "                                                                              \n",
       "                                                                              \n",
       "                                                                              \n",
       "                           2     2                              2           2 \n",
       "a\\delta\\eta\\eta}⋅\\delta_{R} ⋅\\eta  + X_{\\delta\\delta}⋅\\delta_{R}  + X_{rr}⋅r (\n",
       "──────────────────────────────────────────────────────────────────────────────\n",
       "  2     ⎛   2  2        ⎛        ⎛               2    2   ⎞⎞⎞                 \n",
       "))  + m⋅⎝- m ⋅y (t) + m⋅⎝Izz + m⋅⎝(x_{cg} + x(t))  + y (t)⎠⎠⎠                 \n",
       "\n",
       "                                                                              \n",
       "                                                                              \n",
       "                                                                              \n",
       "                                                                              \n",
       "                                                                              \n",
       "                                                                              \n",
       "                                                                              \n",
       "v(t)│ + Y_{v}⋅v(t) + (\\eta - 1)⋅(Y_{r\\eta}⋅r(t) + Y_{v\u0007bs{v}\\eta}⋅v(t)⋅│v(t)│ \n",
       "──────────────────────────────────────────────────────────────────────────────\n",
       "                                                                              \n",
       "                                                                              \n",
       "                                                                              \n",
       "                                                 ⎞   ⎛   2  2        ⎛        \n",
       "{v\u0007bs{v}\\eta}⋅v(t)⋅│v(t)│ + Y_{v\\eta}⋅v(t)))⋅x(t)⎠   ⎝- m ⋅y (t) + m⋅⎝Izz + m⋅\n",
       "────────────────────────────────────────────────── + ─────────────────────────\n",
       "                                                                              \n",
       "                                                                              \n",
       "                                                                              \n",
       "                                               2              2          2    \n",
       "t) + X_{vr}⋅r(t)⋅v(t) + X_{vv\\eta}⋅(\\eta - 1)⋅v (t) + X_{vv}⋅v (t) + \\eta ⋅c_{\n",
       "──────────────────────────────────────────────────────────────────────────────\n",
       "                                                                              \n",
       "                                                                              \n",
       "\n",
       "                                                                              \n",
       "                                                                              \n",
       "                                                                              \n",
       "                                                                              \n",
       "                                                                              \n",
       "                                                                              \n",
       "                       ⎞        ⎛   3                2    3  2        ⎛   2  2\n",
       "+ Y_{v\\eta}⋅v(t)))⋅x(t)⎠⋅y(t)   ⎝- m ⋅(x_{cg} + x(t))  + m ⋅y (t) + m⋅⎝- m ⋅y \n",
       "───────────────────────────── + ──────────────────────────────────────────────\n",
       "                                                                              \n",
       "                                                                              \n",
       "                                                                              \n",
       "⎛               2    2   ⎞⎞⎞                                                  \n",
       "⎝(x_{cg} + x(t))  + y (t)⎠⎠⎠⋅(Y_{*\\eta}⋅(\\eta - 1) + Y_{*} + Y_{\\delta\u0007bs{r}}⋅\n",
       "──────────────────────────────────────────────────────────────────────────────\n",
       "                                                                              \n",
       "                                                                              \n",
       "                                                                              \n",
       "                       ⎞                                                      \n",
       "1} + \\eta⋅b_{1} + a_{1}⎠⋅y(t) + (Y_{*\\eta}⋅(\\eta - 1) + Y_{*} + Y_{\\delta\u0007bs{r\n",
       "──────────────────────────────────────────────────────────────────────────────\n",
       "                                                                              \n",
       "                                                                              \n",
       "\n",
       "                                                                              \n",
       "                                                                              \n",
       "                                                                              \n",
       "                                                                              \n",
       "                                                                              \n",
       "                                                                              \n",
       "        ⎛        ⎛               2    2   ⎞⎞⎞⎞ ⎛                              \n",
       "(t) + m⋅⎝Izz + m⋅⎝(x_{cg} + x(t))  + y (t)⎠⎠⎠⎠⋅⎝X_{\\delta\\delta\\eta\\eta}⋅\\delt\n",
       "──────────────────────────────────────────────────────────────────────────────\n",
       "                                                                              \n",
       "                                                                              \n",
       "                                                                              \n",
       "                                                                              \n",
       "\\delta_{R}⋅│r(t)│ + Y_{\\delta\\eta}⋅\\delta_{R}⋅(\\eta - 1) + Y_{\\delta}⋅\\delta_{\n",
       "──────────────────────────────────────────────────────────────────────────────\n",
       "                                                   3                2     ⎛   \n",
       "                                                - m ⋅(x_{cg} + x(t))  + m⋅⎝- m\n",
       "                                                                              \n",
       "                                                                              \n",
       "}}⋅\\delta_{R}⋅│r(t)│ + Y_{\\delta\\eta}⋅\\delta_{R}⋅(\\eta - 1) + Y_{\\delta}⋅\\delt\n",
       "──────────────────────────────────────────────────────────────────────────────\n",
       "                                                                              \n",
       "                                                                              \n",
       "\n",
       "                                                                              \n",
       "                                                                              \n",
       "                                                                              \n",
       "                                                                              \n",
       "                                                                              \n",
       "                                                                              \n",
       "     2     2                              2           2                       \n",
       "a_{R} ⋅\\eta  + X_{\\delta\\delta}⋅\\delta_{R}  + X_{rr}⋅r (t) + X_{vr}⋅r(t)⋅v(t) \n",
       "──────────────────────────────────────────────────────────────────────────────\n",
       "      ⎛   3                2     ⎛   2  2        ⎛        ⎛               2   \n",
       "    m⋅⎝- m ⋅(x_{cg} + x(t))  + m⋅⎝- m ⋅y (t) + m⋅⎝Izz + m⋅⎝(x_{cg} + x(t))  + \n",
       "                                                                              \n",
       "                                                                              \n",
       "R} + Y_{r}⋅r(t) + Y_{v\u0007bs{r}}⋅v(t)⋅│r(t)│ + Y_{v\u0007bs{v}}⋅v(t)⋅│v(t)│ + Y_{v}⋅v(\n",
       "──────────────────────────────────────────────────────────────────────────────\n",
       "2  2        ⎛        ⎛               2    2   ⎞⎞⎞                             \n",
       " ⋅y (t) + m⋅⎝Izz + m⋅⎝(x_{cg} + x(t))  + y (t)⎠⎠⎠                             \n",
       "                                                                              \n",
       "                                                                              \n",
       "a_{R} + Y_{r}⋅r(t) + Y_{v\u0007bs{r}}⋅v(t)⋅│r(t)│ + Y_{v\u0007bs{v}}⋅v(t)⋅│v(t)│ + Y_{v}\n",
       "──────────────────────────────────────────────────────────────────────────────\n",
       "                                                                              \n",
       "                                                                              \n",
       "\n",
       "                                                                              \n",
       "                                                                              \n",
       "                                                                              \n",
       "                                                                              \n",
       "                                                                              \n",
       "                                                                              \n",
       "                         2              2          2                          \n",
       "+ X_{vv\\eta}⋅(\\eta - 1)⋅v (t) + X_{vv}⋅v (t) + \\eta ⋅c_{1} + \\eta⋅b_{1} + a_{1\n",
       "──────────────────────────────────────────────────────────────────────────────\n",
       " 2   ⎞⎞⎞⎞                                                                     \n",
       "y (t)⎠⎠⎠⎠                                                                     \n",
       "                                                                              \n",
       "                                                                              \n",
       "t) - m⋅((-r(t)⋅y(t) + u(t))⋅r(t) + r(t)⋅u(t)) + (\\eta - 1)⋅(Y_{r\\eta}⋅r(t) + Y\n",
       "──────────────────────────────────────────────────────────────────────────────\n",
       "                                                                              \n",
       "                                                                              \n",
       "                                                                              \n",
       "                                                                              \n",
       "⋅v(t) + (\\eta - 1)⋅(Y_{r\\eta}⋅r(t) + Y_{v\u0007bs{v}\\eta}⋅v(t)⋅│v(t)│ + Y_{v\\eta}⋅v\n",
       "──────────────────────────────────────────────────────────────────────────────\n",
       "                                                                              \n",
       "                                                                              \n",
       "\n",
       "                                                           ⎤\n",
       "                                                           ⎥\n",
       "                                                           ⎥\n",
       "                                                           ⎥\n",
       "                                                           ⎥\n",
       "                                                           ⎥\n",
       "                                                          ⎞⎥\n",
       "} - m⋅(-(x_{cg}⋅r(t) + r(t)⋅x(t) + v(t))⋅r(t) - r(t)⋅v(t))⎠⎥\n",
       "───────────────────────────────────────────────────────────⎥\n",
       "                                                           ⎥\n",
       "                                                           ⎥\n",
       "                                                           ⎥\n",
       "                                                           ⎥\n",
       "_{v\u0007bs{v}\\eta}⋅v(t)⋅│v(t)│ + Y_{v\\eta}⋅v(t)))              ⎥\n",
       "─────────────────────────────────────────────              ⎥\n",
       "                                                           ⎥\n",
       "                                                           ⎥\n",
       "                                                           ⎥\n",
       "          ⎞                                                ⎥\n",
       "(t)))⋅x(t)⎠                                                ⎥\n",
       "───────────                                                ⎥\n",
       "                                                           ⎥\n",
       "                                                           ⎦"
      ]
     },
     "execution_count": 24,
     "metadata": {},
     "output_type": "execute_result"
    }
   ],
   "source": [
    "(M.inv() * f)"
   ]
  },
  {
   "cell_type": "markdown",
   "metadata": {},
   "source": [
    "## Create a PyDy system"
   ]
  },
  {
   "cell_type": "markdown",
   "metadata": {},
   "source": [
    "<img src=\"derivatives.png\" width=\"700\" align=\"left\">"
   ]
  },
  {
   "cell_type": "code",
   "execution_count": 25,
   "metadata": {},
   "outputs": [
    {
     "data": {
      "text/latex": [
       "$$\\left \\{ N_{*\\eta} : -3.3e-05, \\quad N_{*} : -3.3e-05, \\quad N_{\\delta\\eta} : -0.00216, \\quad N_{\\delta} : -0.00216, \\quad N_{r\u0007bs{r}} : 0.0, \\quad N_{r\\eta} : -0.00072, \\quad N_{r} : -0.00294, \\quad N_{v\u0007bs{r}} : -0.00495, \\quad N_{v\u0007bs{v}\\eta} : 0.0, \\quad N_{v\u0007bs{v}} : 0.00754, \\quad N_{v\\eta} : 0.00138, \\quad N_{v} : -0.00798, \\quad X_{\\delta\\delta\\eta\\eta} : -0.00135, \\quad X_{\\delta\\delta} : -0.001, \\quad X_{rr} : 0.0, \\quad X_{vr} : 0.01095, \\quad X_{vv\\eta} : 0.0, \\quad X_{vv} : 0.00287, \\quad Y_{*\\eta} : 6.3e-05, \\quad Y_{*} : 6.3e-05, \\quad Y_{\\delta\u0007bs{r}} : 0.0, \\quad Y_{\\delta\\eta} : 0.00416, \\quad Y_{\\delta} : 0.00416, \\quad Y_{r\\eta} : 0.00138, \\quad Y_{r} : 0.00394, \\quad Y_{v\u0007bs{r}} : -0.0152, \\quad Y_{v\u0007bs{v}\\eta} : 0.0, \\quad Y_{v\u0007bs{v}} : -0.0398, \\quad Y_{v\\eta} : -0.00266, \\quad Y_{v} : -0.011, \\quad a_{1} : -0.001331, \\quad b_{1} : -0.001011, \\quad c_{1} : 0.001827\\right \\}$$"
      ],
      "text/plain": [
       "{N_{*\\eta}: -3.3e-05, N_{*}: -3.3e-05, N_{\\delta\\eta}: -0.00216, N_{\\delta}: -\n",
       "0.00216, N_{r\u0007bs{r}}: 0.0, N_{r\\eta}: -0.00072, N_{r}: -0.00294, N_{v\u0007bs{r}}: \n",
       "-0.00495, N_{v\u0007bs{v}\\eta}: 0.0, N_{v\u0007bs{v}}: 0.00754, N_{v\\eta}: 0.00138, N_{v\n",
       "}: -0.00798, X_{\\delta\\delta\\eta\\eta}: -0.00135, X_{\\delta\\delta}: -0.001, X_{\n",
       "rr}: 0.0, X_{vr}: 0.01095, X_{vv\\eta}: 0.0, X_{vv}: 0.00287, Y_{*\\eta}: 6.3e-0\n",
       "5, Y_{*}: 6.3e-05, Y_{\\delta\u0007bs{r}}: 0.0, Y_{\\delta\\eta}: 0.00416, Y_{\\delta}:\n",
       " 0.00416, Y_{r\\eta}: 0.00138, Y_{r}: 0.00394, Y_{v\u0007bs{r}}: -0.0152, Y_{v\u0007bs{v}\n",
       "\\eta}: 0.0, Y_{v\u0007bs{v}}: -0.0398, Y_{v\\eta}: -0.00266, Y_{v}: -0.011, a_{1}: -\n",
       "0.001331, b_{1}: -0.001011, c_{1}: 0.001827}"
      ]
     },
     "execution_count": 25,
     "metadata": {},
     "output_type": "execute_result"
    }
   ],
   "source": [
    "derivatives = {\n",
    "#Xudot: -0.00086,\n",
    "Ydeltaar:0.0,\n",
    "Nvav:0.00754, \n",
    "a1: -0.001331,\n",
    "Xvr:0.01095,\n",
    "Yvar:-0.0152,\n",
    "Nr:-0.00294,\n",
    "b1: -0.001011,\n",
    "Xvv:0.00287, \n",
    "#Yrdot:-0.00025, \n",
    "Nrar:0.0, \n",
    "c1:0.001827,\n",
    "Xdeltadelta:-0.001,\n",
    "Ydelta:0.00416, \n",
    "Nreta: 0.0, \n",
    "#a2:-0.000894,\n",
    "Xrr:0.0,\n",
    "Ydeltaeta:0.00416,\n",
    "Nvar:-0.00495,\n",
    "#b2:-0.000649,\n",
    "Xvveta:0.0,\n",
    "Yreta:0.00138,\n",
    "#Nvdot:-0.00005,\n",
    "#c2:0.001543,\n",
    "Xddetaeta:-0.00135,\n",
    "Yveta:-0.00266, \n",
    "Ndelta:-0.00216, \n",
    "#a3:-0.000894,\n",
    "#Yvdot:-0.0146,\n",
    "Yvaveta:0.0,\n",
    "Ndeltaeta:-0.00216,\n",
    "#b3:0.001016,\n",
    "Ystar:0.000063,\n",
    "Ystareta:0.000063, \n",
    "Nveta:0.00138,\n",
    "#c3:0.0000004,\n",
    "Yv:-0.011, \n",
    "#Nrdot:-0.000964,\n",
    "Nvaveta:0.0,\n",
    "#a4:-0.001722,\n",
    "Yvav:-0.0398,\n",
    "Nstar:-0.000033,\n",
    "Nreta:-0.00072, \n",
    "#b4:-0.000619,\n",
    "Yr:0.00394,\n",
    "Nv:-0.00798, \n",
    "Nstareta:-0.000033, \n",
    "#c4: -0.000813,\n",
    "}\n",
    "derivatives"
   ]
  },
  {
   "cell_type": "code",
   "execution_count": 26,
   "metadata": {},
   "outputs": [],
   "source": [
    "displacement = 355600*10**3  # [kg]\n",
    "lpp = 349.8  # [m]\n",
    "k_zz = 0.3  # Guess\n",
    "r_zz = k_zz*lpp\n",
    "Izz_ = displacement*r_zz**2\n",
    "V = 7\n",
    "\n",
    "rho = 1025\n",
    "m_prime = displacement / (1/2*lpp**3)\n",
    "Izz_prime = displacement*k_zz**2 / (1/2*lpp**5)\n",
    "\n",
    "properties = {\n",
    "    m:m_prime,\n",
    "    Izz:Izz_prime,\n",
    "\n",
    "}\n",
    "\n",
    "controls = {\n",
    "delta_R:0.4,\n",
    "eta:1,\n",
    "}\n",
    "\n",
    "\n",
    "constants = {}\n",
    "constants.update(properties)\n",
    "constants.update(controls)\n",
    "constants.update(derivatives)\n",
    "\n",
    "\n",
    "initial_conditions = {\n",
    "    x:0,\n",
    "    y:0,\n",
    "    psi:0,\n",
    "    u:1,\n",
    "    v:0,\n",
    "    r:0,  \n",
    "}\n",
    "\n",
    "times = np.linspace(0,1000000,1000)\n",
    "times_prime = V*times/lpp\n",
    "\n",
    "sys = System(kane,constants=constants,initial_conditions=initial_conditions,times = times_prime)"
   ]
  },
  {
   "cell_type": "code",
   "execution_count": 27,
   "metadata": {},
   "outputs": [],
   "source": [
    "result = sys.integrate()"
   ]
  },
  {
   "cell_type": "code",
   "execution_count": 28,
   "metadata": {},
   "outputs": [
    {
     "data": {
      "text/plain": [
       "Text(0,0.5,'x [m]')"
      ]
     },
     "execution_count": 28,
     "metadata": {},
     "output_type": "execute_result"
    },
    {
     "data": {
      "image/png": "[encoded data removed]",
      "text/plain": [
       "<Figure size 432x288 with 1 Axes>"
      ]
     },
     "metadata": {},
     "output_type": "display_data"
    }
   ],
   "source": [
    "fig,ax = plt.subplots()\n",
    "ax.plot(times,result[:,0])\n",
    "ax.set_xlabel('time [s]')\n",
    "ax.set_ylabel('x [m]')"
   ]
  },
  {
   "cell_type": "code",
   "execution_count": 29,
   "metadata": {},
   "outputs": [
    {
     "data": {
      "text/latex": [
       "$$\\left(x{\\left (t \\right )} \\sin{\\left (\\psi{\\left (t \\right )} \\right )} + y{\\left (t \\right )} \\cos{\\left (\\psi{\\left (t \\right )} \\right )}\\right) \\sin{\\left (\\psi{\\left (t \\right )} \\right )} + \\left(x{\\left (t \\right )} \\cos{\\left (\\psi{\\left (t \\right )} \\right )} - y{\\left (t \\right )} \\sin{\\left (\\psi{\\left (t \\right )} \\right )}\\right) \\cos{\\left (\\psi{\\left (t \\right )} \\right )}$$"
      ],
      "text/plain": [
       "(x(t)⋅sin(\\psi(t)) + y(t)⋅cos(\\psi(t)))⋅sin(\\psi(t)) + (x(t)⋅cos(\\psi(t)) - y(\n",
       "t)⋅sin(\\psi(t)))⋅cos(\\psi(t))"
      ]
     },
     "execution_count": 29,
     "metadata": {},
     "output_type": "execute_result"
    }
   ],
   "source": [
    "p = O.pos_from(O0).express(earth_frame)\n",
    "x0_ = p.dot(ship_frame.x)\n",
    "x0_"
   ]
  },
  {
   "cell_type": "code",
   "execution_count": 30,
   "metadata": {},
   "outputs": [
    {
     "data": {
      "text/latex": [
       "$$\\left(xt \\sin{\\left (psit \\right )} + yt \\cos{\\left (psit \\right )}\\right) \\sin{\\left (psit \\right )} + \\left(xt \\cos{\\left (psit \\right )} - yt \\sin{\\left (psit \\right )}\\right) \\cos{\\left (psit \\right )}$$"
      ],
      "text/plain": [
       "(xt⋅sin(psit) + yt⋅cos(psit))⋅sin(psit) + (xt⋅cos(psit) - yt⋅sin(psit))⋅cos(ps\n",
       "it)"
      ]
     },
     "execution_count": 30,
     "metadata": {},
     "output_type": "execute_result"
    }
   ],
   "source": [
    "xt,yt,psit = sym.symbols('xt yt psit')\n",
    "x0_t = x0_.subs([(x,xt),(y,yt),(psi,psit)])\n",
    "x0_t"
   ]
  },
  {
   "cell_type": "code",
   "execution_count": 31,
   "metadata": {},
   "outputs": [
    {
     "data": {
      "text/latex": [
       "$$\\left(x{\\left (t \\right )} \\sin{\\left (\\psi{\\left (t \\right )} \\right )} + y{\\left (t \\right )} \\cos{\\left (\\psi{\\left (t \\right )} \\right )}\\right) \\cos{\\left (\\psi{\\left (t \\right )} \\right )} - \\left(x{\\left (t \\right )} \\cos{\\left (\\psi{\\left (t \\right )} \\right )} - y{\\left (t \\right )} \\sin{\\left (\\psi{\\left (t \\right )} \\right )}\\right) \\sin{\\left (\\psi{\\left (t \\right )} \\right )}$$"
      ],
      "text/plain": [
       "(x(t)⋅sin(\\psi(t)) + y(t)⋅cos(\\psi(t)))⋅cos(\\psi(t)) - (x(t)⋅cos(\\psi(t)) - y(\n",
       "t)⋅sin(\\psi(t)))⋅sin(\\psi(t))"
      ]
     },
     "execution_count": 31,
     "metadata": {},
     "output_type": "execute_result"
    }
   ],
   "source": [
    "y0_ = p.dot(ship_frame.y)\n",
    "y0_"
   ]
  },
  {
   "cell_type": "code",
   "execution_count": 32,
   "metadata": {},
   "outputs": [
    {
     "data": {
      "text/latex": [
       "$$\\left(xt \\sin{\\left (psit \\right )} + yt \\cos{\\left (psit \\right )}\\right) \\cos{\\left (psit \\right )} - \\left(xt \\cos{\\left (psit \\right )} - yt \\sin{\\left (psit \\right )}\\right) \\sin{\\left (psit \\right )}$$"
      ],
      "text/plain": [
       "(xt⋅sin(psit) + yt⋅cos(psit))⋅cos(psit) - (xt⋅cos(psit) - yt⋅sin(psit))⋅sin(ps\n",
       "it)"
      ]
     },
     "execution_count": 32,
     "metadata": {},
     "output_type": "execute_result"
    }
   ],
   "source": [
    "y0_t = y0_.subs([(x,xt),(y,yt),(psi,psit)])\n",
    "y0_t"
   ]
  },
  {
   "cell_type": "code",
   "execution_count": 33,
   "metadata": {},
   "outputs": [],
   "source": [
    "f_x0 = sym.lambdify((xt,yt,psit),x0_t,\"numpy\")\n",
    "f_y0 = sym.lambdify((xt,yt,psit),y0_t,\"numpy\")\n"
   ]
  },
  {
   "cell_type": "code",
   "execution_count": 34,
   "metadata": {},
   "outputs": [],
   "source": [
    "x0_sim = f_x0(result[:,0],result[:,1],result[:,2])"
   ]
  },
  {
   "cell_type": "code",
   "execution_count": 35,
   "metadata": {},
   "outputs": [
    {
     "data": {
      "text/plain": [
       "Text(0,0.5,'x0 [m]')"
      ]
     },
     "execution_count": 35,
     "metadata": {},
     "output_type": "execute_result"
    },
    {
     "data": {
      "image/png": "[encoded data removed]",
      "text/plain": [
       "<Figure size 432x288 with 1 Axes>"
      ]
     },
     "metadata": {},
     "output_type": "display_data"
    }
   ],
   "source": [
    "fig,ax = plt.subplots()\n",
    "ax.plot(times,x0_sim)\n",
    "ax.set_xlabel('time [s]')\n",
    "ax.set_ylabel('x0 [m]')"
   ]
  },
  {
   "cell_type": "code",
   "execution_count": 36,
   "metadata": {},
   "outputs": [],
   "source": [
    "y0_sim = f_y0(result[:,0],result[:,1],result[:,2])"
   ]
  },
  {
   "cell_type": "code",
   "execution_count": 37,
   "metadata": {},
   "outputs": [
    {
     "data": {
      "text/plain": [
       "Text(0,0.5,'y0 [m]')"
      ]
     },
     "execution_count": 37,
     "metadata": {},
     "output_type": "execute_result"
    },
    {
     "data": {
      "image/png": "[encoded data removed]",
      "text/plain": [
       "<Figure size 432x288 with 1 Axes>"
      ]
     },
     "metadata": {},
     "output_type": "display_data"
    }
   ],
   "source": [
    "fig,ax = plt.subplots()\n",
    "ax.plot(times,y0_sim)\n",
    "ax.set_xlabel('time [s]')\n",
    "ax.set_ylabel('y0 [m]')"
   ]
  },
  {
   "cell_type": "code",
   "execution_count": 38,
   "metadata": {},
   "outputs": [
    {
     "data": {
      "image/png": "[encoded data removed]",
      "text/plain": [
       "<Figure size 432x288 with 1 Axes>"
      ]
     },
     "metadata": {},
     "output_type": "display_data"
    }
   ],
   "source": [
    "fig,ax = plt.subplots()\n",
    "ax.plot(y0_sim,x0_sim)\n",
    "ax.set_xlabel('y0 [m]')\n",
    "ax.set_ylabel('x0 [m]')\n",
    "a = ax.axis('equal')"
   ]
  },
  {
   "cell_type": "code",
   "execution_count": 39,
   "metadata": {},
   "outputs": [
    {
     "data": {
      "image/png": "[encoded data removed]",
      "text/plain": [
       "<Figure size 432x288 with 1 Axes>"
      ]
     },
     "metadata": {},
     "output_type": "display_data"
    }
   ],
   "source": [
    "N = 100\n",
    "x_ = np.ones(N,)\n",
    "y_ = np.zeros(N,)\n",
    "psi_ = np.linspace(0,2*np.pi,N)\n",
    "\n",
    "x0_ = f_x0(x_,y_,psi_)\n",
    "y0_ = f_y0(x_,y_,psi_)\n",
    "\n",
    "fig,ax = plt.subplots()\n",
    "ax.plot(y0_,x0_)\n",
    "ax.set_xlabel('y0 [m]')\n",
    "ax.set_ylabel('x0 [m]')\n",
    "a = ax.axis('equal')\n"
   ]
  },
  {
   "cell_type": "code",
   "execution_count": 40,
   "metadata": {},
   "outputs": [
    {
     "data": {
      "text/latex": [
       "$$\\left[\\begin{matrix}\\cos{\\left (\\psi{\\left (t \\right )} \\right )} & \\sin{\\left (\\psi{\\left (t \\right )} \\right )} & 0\\\\- \\sin{\\left (\\psi{\\left (t \\right )} \\right )} & \\cos{\\left (\\psi{\\left (t \\right )} \\right )} & 0\\\\0 & 0 & 1\\end{matrix}\\right]$$"
      ],
      "text/plain": [
       "⎡cos(\\psi(t))   sin(\\psi(t))  0⎤\n",
       "⎢                              ⎥\n",
       "⎢-sin(\\psi(t))  cos(\\psi(t))  0⎥\n",
       "⎢                              ⎥\n",
       "⎣      0             0        1⎦"
      ]
     },
     "execution_count": 40,
     "metadata": {},
     "output_type": "execute_result"
    }
   ],
   "source": [
    "dcm = ship_frame.dcm(otherframe=earth_frame)\n",
    "dcm"
   ]
  },
  {
   "cell_type": "code",
   "execution_count": 41,
   "metadata": {},
   "outputs": [],
   "source": [
    "xs = result[:,0]\n",
    "ys = result[:,1]\n",
    "zs = np.zeros(len(xs))\n",
    "psis = result[:,2]"
   ]
  },
  {
   "cell_type": "code",
   "execution_count": 42,
   "metadata": {},
   "outputs": [],
   "source": [
    "x0s = []\n",
    "y0s = []\n",
    "\n",
    "for x,y,z,psi in zip(xs,ys,zs,psis):\n",
    "    \n",
    "    p = np.array([[x],[y]])\n",
    "    M = np.array([[np.cos(psi),np.sin(psi)],[-np.sin(psi),np.cos(psi)]])\n",
    "    p0 = M.dot(p)\n",
    "    x0 = p0[0]\n",
    "    y0 = p0[1]\n",
    "    x0s.append(x0)\n",
    "    y0s.append(y0)\n",
    "    "
   ]
  },
  {
   "cell_type": "code",
   "execution_count": 43,
   "metadata": {},
   "outputs": [
    {
     "data": {
      "image/png": "[encoded data removed]",
      "text/plain": [
       "<Figure size 432x288 with 1 Axes>"
      ]
     },
     "metadata": {},
     "output_type": "display_data"
    }
   ],
   "source": [
    "fig,ax = plt.subplots()\n",
    "ax.plot(y0s,x0s)\n",
    "ax.set_xlabel('y0 [m]')\n",
    "ax.set_ylabel('x0 [m]')\n",
    "a = ax.axis('equal')"
   ]
  },
  {
   "cell_type": "code",
   "execution_count": 44,
   "metadata": {},
   "outputs": [
    {
     "data": {
      "text/plain": [
       "[<matplotlib.lines.Line2D at 0x114ee80f0>]"
      ]
     },
     "execution_count": 44,
     "metadata": {},
     "output_type": "execute_result"
    },
    {
     "data": {
      "image/png": "[encoded data removed]",
      "text/plain": [
       "<Figure size 432x288 with 1 Axes>"
      ]
     },
     "metadata": {},
     "output_type": "display_data"
    }
   ],
   "source": [
    "fig,ax = plt.subplots()\n",
    "ax.plot(times_prime,psis)"
   ]
  },
  {
   "cell_type": "code",
   "execution_count": null,
   "metadata": {},
   "outputs": [],
   "source": []
  }
 ],
 "metadata": {
  "kernelspec": {
   "display_name": "Python 3",
   "language": "python",
   "name": "python3"
  },
  "language_info": {
   "codemirror_mode": {
    "name": "ipython",
    "version": 3
   },
   "file_extension": ".py",
   "mimetype": "text/x-python",
   "name": "python",
   "nbconvert_exporter": "python",
   "pygments_lexer": "ipython3",
   "version": "3.6.5"
  }
 },
 "nbformat": 4,
 "nbformat_minor": 2
}
