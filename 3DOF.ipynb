{
 "cells": [
  {
   "cell_type": "markdown",
   "metadata": {},
   "source": [
    "# 3 Degrees Of Freedome (DOF)"
   ]
  },
  {
   "cell_type": "code",
   "execution_count": 1,
   "metadata": {},
   "outputs": [],
   "source": [
    "%matplotlib inline\n",
    "import sympy as sym\n",
    "import sympy.physics.mechanics as me\n",
    "from sympy import init_printing\n",
    "init_printing(use_latex='mathjax')\n",
    "\n",
    "from pydy.system import System\n",
    "import numpy as np\n",
    "import matplotlib.pyplot as plt\n"
   ]
  },
  {
   "cell_type": "markdown",
   "metadata": {},
   "source": [
    "<img src=\"3dof.png\" width=\"400\" align=\"left\">"
   ]
  },
  {
   "cell_type": "code",
   "execution_count": 2,
   "metadata": {},
   "outputs": [],
   "source": [
    "x0,y0,psi,x,y,beta,x,y,u,v,r,V = me.dynamicsymbols(r'x0 y0 \\psi x y \\beta x y u v r V')\n",
    "m,Izz,t = sym.symbols(r'm Izz t')"
   ]
  },
  {
   "cell_type": "code",
   "execution_count": 3,
   "metadata": {},
   "outputs": [],
   "source": [
    "earth_frame = me.ReferenceFrame(name = 'E')\n",
    "ship_frame = me.ReferenceFrame(name = 'S')\n",
    "ship_frame.orient(parent = earth_frame,rot_type='Axis',amounts = (psi,earth_frame.z))\n",
    "#ship_frame.set_ang_vel(otherframe=earth_frame,value = r*earth_frame.z)"
   ]
  },
  {
   "cell_type": "code",
   "execution_count": 4,
   "metadata": {},
   "outputs": [
    {
     "data": {
      "text/latex": [
       "$$\\left[\\begin{matrix}\\cos{\\left (\\psi{\\left (t \\right )} \\right )} & \\sin{\\left (\\psi{\\left (t \\right )} \\right )} & 0\\\\- \\sin{\\left (\\psi{\\left (t \\right )} \\right )} & \\cos{\\left (\\psi{\\left (t \\right )} \\right )} & 0\\\\0 & 0 & 1\\end{matrix}\\right]$$"
      ],
      "text/plain": [
       "⎡cos(\\psi(t))   sin(\\psi(t))  0⎤\n",
       "⎢                              ⎥\n",
       "⎢-sin(\\psi(t))  cos(\\psi(t))  0⎥\n",
       "⎢                              ⎥\n",
       "⎣      0             0        1⎦"
      ]
     },
     "execution_count": 4,
     "metadata": {},
     "output_type": "execute_result"
    }
   ],
   "source": [
    "ship_frame.dcm(otherframe=earth_frame)"
   ]
  },
  {
   "cell_type": "code",
   "execution_count": 5,
   "metadata": {},
   "outputs": [
    {
     "data": {
      "text/latex": [
       "$$(u - y \\dot{\\psi})\\mathbf{\\hat{s}_x} + (v + x \\dot{\\psi})\\mathbf{\\hat{s}_y}$$"
      ],
      "text/plain": [
       "⎛            d          ⎞       ⎛            d          ⎞\n",
       "⎜u(t) - y(t)⋅──(\\psi(t))⎟ s_x + ⎜v(t) + x(t)⋅──(\\psi(t))⎟ s_y\n",
       "⎝            dt         ⎠       ⎝            dt         ⎠"
      ]
     },
     "execution_count": 5,
     "metadata": {},
     "output_type": "execute_result"
    }
   ],
   "source": [
    "O0 = me.Point('O0')\n",
    "O0.set_vel(frame = earth_frame,value = 0)\n",
    "\n",
    "O = me.Point('O')\n",
    "#O.set_pos(otherpoint=O0,value = x0*earth_frame.x + y0*earth_frame.y)\n",
    "O.set_pos(otherpoint=O0,value = x*ship_frame.x + y*ship_frame.y)\n",
    "\n",
    "O.set_vel(frame = ship_frame,value = u*ship_frame.x + v*ship_frame.y)\n",
    "\n",
    "O.v1pt_theory(otherpoint=O0,outframe=earth_frame,interframe=ship_frame)"
   ]
  },
  {
   "cell_type": "code",
   "execution_count": 6,
   "metadata": {},
   "outputs": [
    {
     "data": {
      "text/latex": [
       "$$x\\mathbf{\\hat{s}_x} + y\\mathbf{\\hat{s}_y}$$"
      ],
      "text/plain": [
       "x(t) s_x + y(t) s_y"
      ]
     },
     "execution_count": 6,
     "metadata": {},
     "output_type": "execute_result"
    }
   ],
   "source": [
    "O.pos_from(O0)"
   ]
  },
  {
   "cell_type": "code",
   "execution_count": 7,
   "metadata": {},
   "outputs": [
    {
     "data": {
      "text/latex": [
       "$$(\\left(u - y \\dot{\\psi}\\right) \\operatorname{cos}\\left(\\psi\\right) - \\left(v + x \\dot{\\psi}\\right) \\operatorname{sin}\\left(\\psi\\right))\\mathbf{\\hat{e}_x} + (\\left(u - y \\dot{\\psi}\\right) \\operatorname{sin}\\left(\\psi\\right) + \\left(v + x \\dot{\\psi}\\right) \\operatorname{cos}\\left(\\psi\\right))\\mathbf{\\hat{e}_y}$$"
      ],
      "text/plain": [
       "⎛⎛            d          ⎞                ⎛            d          ⎞\n",
       "⎜⎜u(t) - y(t)⋅──(\\psi(t))⎟⋅cos(\\psi(t)) - ⎜v(t) + x(t)⋅──(\\psi(t))⎟⋅sin(\\psi(t\n",
       "⎝⎝            dt         ⎠                ⎝            dt         ⎠\n",
       "\n",
       "  ⎞       ⎛⎛            d          ⎞                ⎛            d          ⎞\n",
       "))⎟ e_x + ⎜⎜u(t) - y(t)⋅──(\\psi(t))⎟⋅sin(\\psi(t)) + ⎜v(t) + x(t)⋅──(\\psi(t))⎟⋅\n",
       "  ⎠       ⎝⎝            dt         ⎠                ⎝            dt         ⎠\n",
       "\n",
       "            ⎞\n",
       "cos(\\psi(t))⎟ e_y\n",
       "            ⎠"
      ]
     },
     "execution_count": 7,
     "metadata": {},
     "output_type": "execute_result"
    }
   ],
   "source": [
    "O.vel(earth_frame).express(earth_frame)"
   ]
  },
  {
   "cell_type": "code",
   "execution_count": 8,
   "metadata": {},
   "outputs": [
    {
     "data": {
      "text/latex": [
       "$$(- \\left(\\left(u - y \\dot{\\psi}\\right) \\dot{\\psi} + x \\ddot{\\psi} + \\dot{\\psi} \\dot{x} + \\dot{v}\\right) \\operatorname{sin}\\left(\\psi\\right) + \\left(- \\left(v + x \\dot{\\psi}\\right) \\dot{\\psi} - y \\ddot{\\psi} - \\dot{\\psi} \\dot{y} + \\dot{u}\\right) \\operatorname{cos}\\left(\\psi\\right))\\mathbf{\\hat{e}_x} + (\\left(\\left(u - y \\dot{\\psi}\\right) \\dot{\\psi} + x \\ddot{\\psi} + \\dot{\\psi} \\dot{x} + \\dot{v}\\right) \\operatorname{cos}\\left(\\psi\\right) + \\left(- \\left(v + x \\dot{\\psi}\\right) \\dot{\\psi} - y \\ddot{\\psi} - \\dot{\\psi} \\dot{y} + \\dot{u}\\right) \\operatorname{sin}\\left(\\psi\\right))\\mathbf{\\hat{e}_y}$$"
      ],
      "text/plain": [
       "⎛  ⎛                                               2\n",
       "⎜  ⎜⎛            d          ⎞ d                   d             d           d\n",
       "⎜- ⎜⎜u(t) - y(t)⋅──(\\psi(t))⎟⋅──(\\psi(t)) + x(t)⋅───(\\psi(t)) + ──(\\psi(t))⋅──\n",
       "⎜  ⎜⎝            dt         ⎠ dt                   2            dt          dt\n",
       "⎝  ⎝                                             dt\n",
       "\n",
       "                 ⎞                ⎛\n",
       "         d       ⎟                ⎜  ⎛            d          ⎞ d\n",
       "(x(t)) + ──(v(t))⎟⋅sin(\\psi(t)) + ⎜- ⎜v(t) + x(t)⋅──(\\psi(t))⎟⋅──(\\psi(t)) - y\n",
       "         dt      ⎟                ⎜  ⎝            dt         ⎠ dt\n",
       "                 ⎠                ⎝\n",
       "\n",
       "      2                                           ⎞             ⎞       ⎛⎛\n",
       "     d             d           d          d       ⎟             ⎟       ⎜⎜⎛\n",
       "(t)⋅───(\\psi(t)) - ──(\\psi(t))⋅──(y(t)) + ──(u(t))⎟⋅cos(\\psi(t))⎟ e_x + ⎜⎜⎜u(t\n",
       "      2            dt          dt         dt      ⎟             ⎟       ⎜⎜⎝\n",
       "    dt                                            ⎠             ⎠       ⎝⎝\n",
       "\n",
       "                                           2\n",
       "         d          ⎞ d                   d             d           d\n",
       ") - y(t)⋅──(\\psi(t))⎟⋅──(\\psi(t)) + x(t)⋅───(\\psi(t)) + ──(\\psi(t))⋅──(x(t)) +\n",
       "         dt         ⎠ dt                   2            dt          dt\n",
       "                                         dt\n",
       "\n",
       "         ⎞                ⎛                                                 2\n",
       " d       ⎟                ⎜  ⎛            d          ⎞ d                   d\n",
       " ──(v(t))⎟⋅cos(\\psi(t)) + ⎜- ⎜v(t) + x(t)⋅──(\\psi(t))⎟⋅──(\\psi(t)) - y(t)⋅───(\n",
       " dt      ⎟                ⎜  ⎝            dt         ⎠ dt                   2\n",
       "         ⎠                ⎝                                               dt\n",
       "\n",
       "                                          ⎞             ⎞\n",
       "           d           d          d       ⎟             ⎟\n",
       "\\psi(t)) - ──(\\psi(t))⋅──(y(t)) + ──(u(t))⎟⋅sin(\\psi(t))⎟ e_y\n",
       "           dt          dt         dt      ⎟             ⎟\n",
       "                                          ⎠             ⎠"
      ]
     },
     "execution_count": 8,
     "metadata": {},
     "output_type": "execute_result"
    }
   ],
   "source": [
    "O.acc(earth_frame).express(earth_frame)"
   ]
  },
  {
   "cell_type": "code",
   "execution_count": 9,
   "metadata": {},
   "outputs": [],
   "source": [
    "kinematical_differential_equations = [u - x.diff(),\n",
    "                                      v - y.diff(),\n",
    "                                      r - psi.diff()]\n",
    "coordinates = [x,y,psi,]\n",
    "speeds = [u,v,r,]"
   ]
  },
  {
   "cell_type": "code",
   "execution_count": 10,
   "metadata": {},
   "outputs": [],
   "source": [
    "kane = me.KanesMethod(earth_frame,coordinates, speeds,kinematical_differential_equations)"
   ]
  },
  {
   "cell_type": "code",
   "execution_count": 11,
   "metadata": {},
   "outputs": [],
   "source": [
    "forces = 1*ship_frame.x\n",
    "mass = me.Particle('m', O, m)"
   ]
  },
  {
   "cell_type": "code",
   "execution_count": 12,
   "metadata": {},
   "outputs": [
    {
     "data": {
      "text/latex": [
       "$$Izz\\mathbf{\\hat{s}_z}\\otimes \\mathbf{\\hat{s}_z}$$"
      ],
      "text/plain": [
       "Izz s_z⊗s_z"
      ]
     },
     "execution_count": 12,
     "metadata": {},
     "output_type": "execute_result"
    }
   ],
   "source": [
    "inertia_dyadic = me.inertia(ship_frame, ixx = 0, iyy = 0, izz = Izz)\n",
    "inertia_dyadic"
   ]
  },
  {
   "cell_type": "code",
   "execution_count": 13,
   "metadata": {},
   "outputs": [],
   "source": [
    "inertia = (inertia_dyadic, O)"
   ]
  },
  {
   "cell_type": "code",
   "execution_count": 14,
   "metadata": {},
   "outputs": [],
   "source": [
    "ship = me.RigidBody('ship',masscenter=O,frame = ship_frame,mass = mass,inertia=inertia)"
   ]
  },
  {
   "cell_type": "code",
   "execution_count": 15,
   "metadata": {},
   "outputs": [],
   "source": [
    "fr, frstar = kane.kanes_equations(bodies = [ship],loads = [(O, forces)])"
   ]
  },
  {
   "cell_type": "code",
   "execution_count": 16,
   "metadata": {},
   "outputs": [
    {
     "data": {
      "text/latex": [
       "$$\\left[\\begin{matrix}1 & 0 & 0 & 0 & 0 & 0\\\\0 & 1 & 0 & 0 & 0 & 0\\\\0 & 0 & 1 & 0 & 0 & 0\\\\0 & 0 & 0 & m & 0 & - m y{\\left (t \\right )}\\\\0 & 0 & 0 & 0 & m & m x{\\left (t \\right )}\\\\0 & 0 & 0 & - m y{\\left (t \\right )} & m x{\\left (t \\right )} & Izz + m \\left(x^{2}{\\left (t \\right )} + y^{2}{\\left (t \\right )}\\right)\\end{matrix}\\right]$$"
      ],
      "text/plain": [
       "⎡1  0  0     0       0                0           ⎤\n",
       "⎢                                                 ⎥\n",
       "⎢0  1  0     0       0                0           ⎥\n",
       "⎢                                                 ⎥\n",
       "⎢0  0  1     0       0                0           ⎥\n",
       "⎢                                                 ⎥\n",
       "⎢0  0  0     m       0             -m⋅y(t)        ⎥\n",
       "⎢                                                 ⎥\n",
       "⎢0  0  0     0       m             m⋅x(t)         ⎥\n",
       "⎢                                                 ⎥\n",
       "⎢                                  ⎛ 2       2   ⎞⎥\n",
       "⎣0  0  0  -m⋅y(t)  m⋅x(t)  Izz + m⋅⎝x (t) + y (t)⎠⎦"
      ]
     },
     "execution_count": 16,
     "metadata": {},
     "output_type": "execute_result"
    }
   ],
   "source": [
    "M = kane.mass_matrix_full \n",
    "M"
   ]
  },
  {
   "cell_type": "code",
   "execution_count": 17,
   "metadata": {},
   "outputs": [
    {
     "data": {
      "text/latex": [
       "$$\\left[\\begin{matrix}u{\\left (t \\right )}\\\\v{\\left (t \\right )}\\\\r{\\left (t \\right )}\\\\- m \\left(- \\left(r{\\left (t \\right )} x{\\left (t \\right )} + v{\\left (t \\right )}\\right) r{\\left (t \\right )} - r{\\left (t \\right )} v{\\left (t \\right )}\\right) + 1\\\\- m \\left(\\left(- r{\\left (t \\right )} y{\\left (t \\right )} + u{\\left (t \\right )}\\right) r{\\left (t \\right )} + r{\\left (t \\right )} u{\\left (t \\right )}\\right)\\\\m \\left(- \\left(r{\\left (t \\right )} x{\\left (t \\right )} + v{\\left (t \\right )}\\right) r{\\left (t \\right )} - r{\\left (t \\right )} v{\\left (t \\right )}\\right) y{\\left (t \\right )} - m \\left(\\left(- r{\\left (t \\right )} y{\\left (t \\right )} + u{\\left (t \\right )}\\right) r{\\left (t \\right )} + r{\\left (t \\right )} u{\\left (t \\right )}\\right) x{\\left (t \\right )} - y{\\left (t \\right )}\\end{matrix}\\right]$$"
      ],
      "text/plain": [
       "⎡                                                u(t)                         \n",
       "⎢                                                                             \n",
       "⎢                                                v(t)                         \n",
       "⎢                                                                             \n",
       "⎢                                                r(t)                         \n",
       "⎢                                                                             \n",
       "⎢                           -m⋅(-(r(t)⋅x(t) + v(t))⋅r(t) - r(t)⋅v(t)) + 1     \n",
       "⎢                                                                             \n",
       "⎢                             -m⋅((-r(t)⋅y(t) + u(t))⋅r(t) + r(t)⋅u(t))       \n",
       "⎢                                                                             \n",
       "⎣m⋅(-(r(t)⋅x(t) + v(t))⋅r(t) - r(t)⋅v(t))⋅y(t) - m⋅((-r(t)⋅y(t) + u(t))⋅r(t) +\n",
       "\n",
       "                       ⎤\n",
       "                       ⎥\n",
       "                       ⎥\n",
       "                       ⎥\n",
       "                       ⎥\n",
       "                       ⎥\n",
       "                       ⎥\n",
       "                       ⎥\n",
       "                       ⎥\n",
       "                       ⎥\n",
       " r(t)⋅u(t))⋅x(t) - y(t)⎦"
      ]
     },
     "execution_count": 17,
     "metadata": {},
     "output_type": "execute_result"
    }
   ],
   "source": [
    "f = kane.forcing_full\n",
    "f"
   ]
  },
  {
   "cell_type": "code",
   "execution_count": 18,
   "metadata": {},
   "outputs": [
    {
     "data": {
      "text/latex": [
       "$$\\left[\\begin{matrix}u{\\left (t \\right )}\\\\v{\\left (t \\right )}\\\\r{\\left (t \\right )}\\\\\\frac{m^{3} \\left(\\left(- r{\\left (t \\right )} y{\\left (t \\right )} + u{\\left (t \\right )}\\right) r{\\left (t \\right )} + r{\\left (t \\right )} u{\\left (t \\right )}\\right) x{\\left (t \\right )} y{\\left (t \\right )}}{- m^{3} x^{2}{\\left (t \\right )} + m \\left(- m^{2} y^{2}{\\left (t \\right )} + m \\left(Izz + m \\left(x^{2}{\\left (t \\right )} + y^{2}{\\left (t \\right )}\\right)\\right)\\right)} + \\frac{m^{2} \\left(m \\left(- \\left(r{\\left (t \\right )} x{\\left (t \\right )} + v{\\left (t \\right )}\\right) r{\\left (t \\right )} - r{\\left (t \\right )} v{\\left (t \\right )}\\right) y{\\left (t \\right )} - m \\left(\\left(- r{\\left (t \\right )} y{\\left (t \\right )} + u{\\left (t \\right )}\\right) r{\\left (t \\right )} + r{\\left (t \\right )} u{\\left (t \\right )}\\right) x{\\left (t \\right )} - y{\\left (t \\right )}\\right) y{\\left (t \\right )}}{- m^{3} x^{2}{\\left (t \\right )} + m \\left(- m^{2} y^{2}{\\left (t \\right )} + m \\left(Izz + m \\left(x^{2}{\\left (t \\right )} + y^{2}{\\left (t \\right )}\\right)\\right)\\right)} + \\frac{\\left(- m \\left(- \\left(r{\\left (t \\right )} x{\\left (t \\right )} + v{\\left (t \\right )}\\right) r{\\left (t \\right )} - r{\\left (t \\right )} v{\\left (t \\right )}\\right) + 1\\right) \\left(- m^{3} x^{2}{\\left (t \\right )} + m^{3} y^{2}{\\left (t \\right )} + m \\left(- m^{2} y^{2}{\\left (t \\right )} + m \\left(Izz + m \\left(x^{2}{\\left (t \\right )} + y^{2}{\\left (t \\right )}\\right)\\right)\\right)\\right)}{m \\left(- m^{3} x^{2}{\\left (t \\right )} + m \\left(- m^{2} y^{2}{\\left (t \\right )} + m \\left(Izz + m \\left(x^{2}{\\left (t \\right )} + y^{2}{\\left (t \\right )}\\right)\\right)\\right)\\right)}\\\\- \\frac{m^{2} \\left(- m \\left(- \\left(r{\\left (t \\right )} x{\\left (t \\right )} + v{\\left (t \\right )}\\right) r{\\left (t \\right )} - r{\\left (t \\right )} v{\\left (t \\right )}\\right) + 1\\right) x{\\left (t \\right )} y{\\left (t \\right )}}{- m^{3} x^{2}{\\left (t \\right )} + m \\left(- m^{2} y^{2}{\\left (t \\right )} + m \\left(Izz + m \\left(x^{2}{\\left (t \\right )} + y^{2}{\\left (t \\right )}\\right)\\right)\\right)} - \\frac{m^{2} \\left(m \\left(- \\left(r{\\left (t \\right )} x{\\left (t \\right )} + v{\\left (t \\right )}\\right) r{\\left (t \\right )} - r{\\left (t \\right )} v{\\left (t \\right )}\\right) y{\\left (t \\right )} - m \\left(\\left(- r{\\left (t \\right )} y{\\left (t \\right )} + u{\\left (t \\right )}\\right) r{\\left (t \\right )} + r{\\left (t \\right )} u{\\left (t \\right )}\\right) x{\\left (t \\right )} - y{\\left (t \\right )}\\right) x{\\left (t \\right )}}{- m^{3} x^{2}{\\left (t \\right )} + m \\left(- m^{2} y^{2}{\\left (t \\right )} + m \\left(Izz + m \\left(x^{2}{\\left (t \\right )} + y^{2}{\\left (t \\right )}\\right)\\right)\\right)} - \\frac{m \\left(- m^{2} y^{2}{\\left (t \\right )} + m \\left(Izz + m \\left(x^{2}{\\left (t \\right )} + y^{2}{\\left (t \\right )}\\right)\\right)\\right) \\left(\\left(- r{\\left (t \\right )} y{\\left (t \\right )} + u{\\left (t \\right )}\\right) r{\\left (t \\right )} + r{\\left (t \\right )} u{\\left (t \\right )}\\right)}{- m^{3} x^{2}{\\left (t \\right )} + m \\left(- m^{2} y^{2}{\\left (t \\right )} + m \\left(Izz + m \\left(x^{2}{\\left (t \\right )} + y^{2}{\\left (t \\right )}\\right)\\right)\\right)}\\\\\\frac{m^{3} \\left(\\left(- r{\\left (t \\right )} y{\\left (t \\right )} + u{\\left (t \\right )}\\right) r{\\left (t \\right )} + r{\\left (t \\right )} u{\\left (t \\right )}\\right) x{\\left (t \\right )}}{- m^{3} x^{2}{\\left (t \\right )} + m \\left(- m^{2} y^{2}{\\left (t \\right )} + m \\left(Izz + m \\left(x^{2}{\\left (t \\right )} + y^{2}{\\left (t \\right )}\\right)\\right)\\right)} + \\frac{m^{2} \\left(- m \\left(- \\left(r{\\left (t \\right )} x{\\left (t \\right )} + v{\\left (t \\right )}\\right) r{\\left (t \\right )} - r{\\left (t \\right )} v{\\left (t \\right )}\\right) + 1\\right) y{\\left (t \\right )}}{- m^{3} x^{2}{\\left (t \\right )} + m \\left(- m^{2} y^{2}{\\left (t \\right )} + m \\left(Izz + m \\left(x^{2}{\\left (t \\right )} + y^{2}{\\left (t \\right )}\\right)\\right)\\right)} + \\frac{m^{2} \\left(m \\left(- \\left(r{\\left (t \\right )} x{\\left (t \\right )} + v{\\left (t \\right )}\\right) r{\\left (t \\right )} - r{\\left (t \\right )} v{\\left (t \\right )}\\right) y{\\left (t \\right )} - m \\left(\\left(- r{\\left (t \\right )} y{\\left (t \\right )} + u{\\left (t \\right )}\\right) r{\\left (t \\right )} + r{\\left (t \\right )} u{\\left (t \\right )}\\right) x{\\left (t \\right )} - y{\\left (t \\right )}\\right)}{- m^{3} x^{2}{\\left (t \\right )} + m \\left(- m^{2} y^{2}{\\left (t \\right )} + m \\left(Izz + m \\left(x^{2}{\\left (t \\right )} + y^{2}{\\left (t \\right )}\\right)\\right)\\right)}\\end{matrix}\\right]$$"
      ],
      "text/plain": [
       "⎡                                                                             \n",
       "⎢                                                                             \n",
       "⎢                                                                             \n",
       "⎢                                                                             \n",
       "⎢                                                                             \n",
       "⎢                                                                             \n",
       "⎢    3                                                        2               \n",
       "⎢   m ⋅((-r(t)⋅y(t) + u(t))⋅r(t) + r(t)⋅u(t))⋅x(t)⋅y(t)      m ⋅(m⋅(-(r(t)⋅x(t\n",
       "⎢───────────────────────────────────────────────────────── + ─────────────────\n",
       "⎢   3  2        ⎛   2  2        ⎛        ⎛ 2       2   ⎞⎞⎞                    \n",
       "⎢- m ⋅x (t) + m⋅⎝- m ⋅y (t) + m⋅⎝Izz + m⋅⎝x (t) + y (t)⎠⎠⎠                    \n",
       "⎢                                                                             \n",
       "⎢                  2                                                          \n",
       "⎢                 m ⋅(-m⋅(-(r(t)⋅x(t) + v(t))⋅r(t) - r(t)⋅v(t)) + 1)⋅x(t)⋅y(t)\n",
       "⎢               - ────────────────────────────────────────────────────────────\n",
       "⎢                     3  2        ⎛   2  2        ⎛        ⎛ 2       2   ⎞⎞⎞  \n",
       "⎢                  - m ⋅x (t) + m⋅⎝- m ⋅y (t) + m⋅⎝Izz + m⋅⎝x (t) + y (t)⎠⎠⎠  \n",
       "⎢                                                                             \n",
       "⎢                                        3                                    \n",
       "⎢                                       m ⋅((-r(t)⋅y(t) + u(t))⋅r(t) + r(t)⋅u(\n",
       "⎢                                 ────────────────────────────────────────────\n",
       "⎢                                    3  2        ⎛   2  2        ⎛        ⎛ 2 \n",
       "⎣                                 - m ⋅x (t) + m⋅⎝- m ⋅y (t) + m⋅⎝Izz + m⋅⎝x (\n",
       "\n",
       "                                                                  u(t)        \n",
       "                                                                              \n",
       "                                                                  v(t)        \n",
       "                                                                              \n",
       "                                                                  r(t)        \n",
       "                                                                              \n",
       "                                                                              \n",
       ") + v(t))⋅r(t) - r(t)⋅v(t))⋅y(t) - m⋅((-r(t)⋅y(t) + u(t))⋅r(t) + r(t)⋅u(t))⋅x(\n",
       "──────────────────────────────────────────────────────────────────────────────\n",
       "            3  2        ⎛   2  2        ⎛        ⎛ 2       2   ⎞⎞⎞            \n",
       "         - m ⋅x (t) + m⋅⎝- m ⋅y (t) + m⋅⎝Izz + m⋅⎝x (t) + y (t)⎠⎠⎠            \n",
       "                                                                              \n",
       "    2                                                                         \n",
       "   m ⋅(m⋅(-(r(t)⋅x(t) + v(t))⋅r(t) - r(t)⋅v(t))⋅y(t) - m⋅((-r(t)⋅y(t) + u(t))⋅\n",
       " - ───────────────────────────────────────────────────────────────────────────\n",
       "                                3  2        ⎛   2  2        ⎛        ⎛ 2      \n",
       "                             - m ⋅x (t) + m⋅⎝- m ⋅y (t) + m⋅⎝Izz + m⋅⎝x (t) + \n",
       "                                                                              \n",
       "                  2                                                          2\n",
       "t))⋅x(t)         m ⋅(-m⋅(-(r(t)⋅x(t) + v(t))⋅r(t) - r(t)⋅v(t)) + 1)⋅y(t)    m \n",
       "───────────── + ───────────────────────────────────────────────────────── + ──\n",
       "      2   ⎞⎞⎞      3  2        ⎛   2  2        ⎛        ⎛ 2       2   ⎞⎞⎞     \n",
       "t) + y (t)⎠⎠⎠   - m ⋅x (t) + m⋅⎝- m ⋅y (t) + m⋅⎝Izz + m⋅⎝x (t) + y (t)⎠⎠⎠     \n",
       "\n",
       "                                                                              \n",
       "                                                                              \n",
       "                                                                              \n",
       "                                                                              \n",
       "                                                                              \n",
       "                                                                              \n",
       "                                                                  ⎛   3  2    \n",
       "t) - y(t))⋅y(t)   (-m⋅(-(r(t)⋅x(t) + v(t))⋅r(t) - r(t)⋅v(t)) + 1)⋅⎝- m ⋅x (t) \n",
       "─────────────── + ────────────────────────────────────────────────────────────\n",
       "                                                ⎛   3  2        ⎛   2  2      \n",
       "                                              m⋅⎝- m ⋅x (t) + m⋅⎝- m ⋅y (t) + \n",
       "                                                                              \n",
       "                                        ⎛   2  2        ⎛        ⎛ 2       2  \n",
       "r(t) + r(t)⋅u(t))⋅x(t) - y(t))⋅x(t)   m⋅⎝- m ⋅y (t) + m⋅⎝Izz + m⋅⎝x (t) + y (t\n",
       "─────────────────────────────────── - ────────────────────────────────────────\n",
       " 2   ⎞⎞⎞                                              3  2        ⎛   2  2    \n",
       "y (t)⎠⎠⎠                                           - m ⋅x (t) + m⋅⎝- m ⋅y (t) \n",
       "                                                                              \n",
       "                                                                              \n",
       "⋅(m⋅(-(r(t)⋅x(t) + v(t))⋅r(t) - r(t)⋅v(t))⋅y(t) - m⋅((-r(t)⋅y(t) + u(t))⋅r(t) \n",
       "──────────────────────────────────────────────────────────────────────────────\n",
       "                         3  2        ⎛   2  2        ⎛        ⎛ 2       2   ⎞⎞\n",
       "                      - m ⋅x (t) + m⋅⎝- m ⋅y (t) + m⋅⎝Izz + m⋅⎝x (t) + y (t)⎠⎠\n",
       "\n",
       "                                                          ⎤\n",
       "                                                          ⎥\n",
       "                                                          ⎥\n",
       "                                                          ⎥\n",
       "                                                          ⎥\n",
       "                                                          ⎥\n",
       "   3  2        ⎛   2  2        ⎛        ⎛ 2       2   ⎞⎞⎞⎞⎥\n",
       "+ m ⋅y (t) + m⋅⎝- m ⋅y (t) + m⋅⎝Izz + m⋅⎝x (t) + y (t)⎠⎠⎠⎠⎥\n",
       "──────────────────────────────────────────────────────────⎥\n",
       "  ⎛        ⎛ 2       2   ⎞⎞⎞⎞                             ⎥\n",
       "m⋅⎝Izz + m⋅⎝x (t) + y (t)⎠⎠⎠⎠                             ⎥\n",
       "                                                          ⎥\n",
       " ⎞⎞⎞                                                      ⎥\n",
       ")⎠⎠⎠⋅((-r(t)⋅y(t) + u(t))⋅r(t) + r(t)⋅u(t))               ⎥\n",
       "───────────────────────────────────────────               ⎥\n",
       "    ⎛        ⎛ 2       2   ⎞⎞⎞                            ⎥\n",
       "+ m⋅⎝Izz + m⋅⎝x (t) + y (t)⎠⎠⎠                            ⎥\n",
       "                                                          ⎥\n",
       "                                                          ⎥\n",
       "+ r(t)⋅u(t))⋅x(t) - y(t))                                 ⎥\n",
       "─────────────────────────                                 ⎥\n",
       "⎞                                                         ⎥\n",
       "⎠                                                         ⎦"
      ]
     },
     "execution_count": 18,
     "metadata": {},
     "output_type": "execute_result"
    }
   ],
   "source": [
    "(M.inv() * f)"
   ]
  },
  {
   "cell_type": "markdown",
   "metadata": {},
   "source": [
    "## Create a PyDy system"
   ]
  },
  {
   "cell_type": "code",
   "execution_count": 19,
   "metadata": {},
   "outputs": [],
   "source": [
    "constants = {\n",
    "    m:1,\n",
    "    Izz:1,\n",
    "}\n",
    "\n",
    "initial_conditions = {\n",
    "    x:0,\n",
    "    y:0,\n",
    "    psi:0,\n",
    "    u:0,\n",
    "    v:0,\n",
    "    r:0,\n",
    "    \n",
    "}\n",
    "\n",
    "times = np.linspace(0,10,100)\n",
    "\n",
    "sys = System(kane,constants=constants,initial_conditions=initial_conditions,times = times)"
   ]
  },
  {
   "cell_type": "code",
   "execution_count": 20,
   "metadata": {},
   "outputs": [],
   "source": [
    "result = sys.integrate()"
   ]
  },
  {
   "cell_type": "code",
   "execution_count": 21,
   "metadata": {},
   "outputs": [
    {
     "data": {
      "text/plain": [
       "Text(0,0.5,'x [m]')"
      ]
     },
     "execution_count": 21,
     "metadata": {},
     "output_type": "execute_result"
    },
    {
     "data": {
      "image/png": "[encoded data removed]",
      "text/plain": [
       "<Figure size 432x288 with 1 Axes>"
      ]
     },
     "metadata": {},
     "output_type": "display_data"
    }
   ],
   "source": [
    "fig,ax = plt.subplots()\n",
    "ax.plot(times,result[:,0])\n",
    "ax.set_xlabel('time [s]')\n",
    "ax.set_ylabel('x [m]')"
   ]
  },
  {
   "cell_type": "code",
   "execution_count": 22,
   "metadata": {},
   "outputs": [
    {
     "data": {
      "text/latex": [
       "$$\\left(x{\\left (t \\right )} \\sin{\\left (\\psi{\\left (t \\right )} \\right )} + y{\\left (t \\right )} \\cos{\\left (\\psi{\\left (t \\right )} \\right )}\\right) \\sin{\\left (\\psi{\\left (t \\right )} \\right )} + \\left(x{\\left (t \\right )} \\cos{\\left (\\psi{\\left (t \\right )} \\right )} - y{\\left (t \\right )} \\sin{\\left (\\psi{\\left (t \\right )} \\right )}\\right) \\cos{\\left (\\psi{\\left (t \\right )} \\right )}$$"
      ],
      "text/plain": [
       "(x(t)⋅sin(\\psi(t)) + y(t)⋅cos(\\psi(t)))⋅sin(\\psi(t)) + (x(t)⋅cos(\\psi(t)) - y(\n",
       "t)⋅sin(\\psi(t)))⋅cos(\\psi(t))"
      ]
     },
     "execution_count": 22,
     "metadata": {},
     "output_type": "execute_result"
    }
   ],
   "source": [
    "p = O.pos_from(O0).express(earth_frame)\n",
    "x0_ = p.dot(ship_frame.x)\n",
    "x0_"
   ]
  },
  {
   "cell_type": "code",
   "execution_count": 23,
   "metadata": {},
   "outputs": [
    {
     "data": {
      "text/latex": [
       "$$\\left(x{\\left (t \\right )} \\sin{\\left (\\psi{\\left (t \\right )} \\right )} + y{\\left (t \\right )} \\cos{\\left (\\psi{\\left (t \\right )} \\right )}\\right) \\cos{\\left (\\psi{\\left (t \\right )} \\right )} - \\left(x{\\left (t \\right )} \\cos{\\left (\\psi{\\left (t \\right )} \\right )} - y{\\left (t \\right )} \\sin{\\left (\\psi{\\left (t \\right )} \\right )}\\right) \\sin{\\left (\\psi{\\left (t \\right )} \\right )}$$"
      ],
      "text/plain": [
       "(x(t)⋅sin(\\psi(t)) + y(t)⋅cos(\\psi(t)))⋅cos(\\psi(t)) - (x(t)⋅cos(\\psi(t)) - y(\n",
       "t)⋅sin(\\psi(t)))⋅sin(\\psi(t))"
      ]
     },
     "execution_count": 23,
     "metadata": {},
     "output_type": "execute_result"
    }
   ],
   "source": [
    "y0_ = p.dot(ship_frame.y)\n",
    "y0_"
   ]
  },
  {
   "cell_type": "code",
   "execution_count": 24,
   "metadata": {},
   "outputs": [],
   "source": [
    "f_x0 = sym.lambdify((x,y,psi,t),x0_,\"numpy\")\n",
    "f_y0 = sym.lambdify((x,y,psi,t),y0_,\"numpy\")\n"
   ]
  },
  {
   "cell_type": "code",
   "execution_count": 25,
   "metadata": {},
   "outputs": [],
   "source": [
    "x0_sim = f_x0(result[:,0],result[:,1],result[:,2],times)"
   ]
  },
  {
   "cell_type": "code",
   "execution_count": 26,
   "metadata": {},
   "outputs": [
    {
     "data": {
      "text/plain": [
       "Text(0,0.5,'x0 [m]')"
      ]
     },
     "execution_count": 26,
     "metadata": {},
     "output_type": "execute_result"
    },
    {
     "data": {
      "image/png": "[encoded data removed]",
      "text/plain": [
       "<Figure size 432x288 with 1 Axes>"
      ]
     },
     "metadata": {},
     "output_type": "display_data"
    }
   ],
   "source": [
    "fig,ax = plt.subplots()\n",
    "ax.plot(times,x0_sim)\n",
    "ax.set_xlabel('time [s]')\n",
    "ax.set_ylabel('x0 [m]')"
   ]
  },
  {
   "cell_type": "code",
   "execution_count": 27,
   "metadata": {},
   "outputs": [],
   "source": [
    "y0_sim = f_y0(result[:,0],result[:,1],result[:,2],times)"
   ]
  },
  {
   "cell_type": "code",
   "execution_count": 28,
   "metadata": {},
   "outputs": [
    {
     "data": {
      "text/plain": [
       "Text(0,0.5,'y0 [m]')"
      ]
     },
     "execution_count": 28,
     "metadata": {},
     "output_type": "execute_result"
    },
    {
     "data": {
      "image/png": "[encoded data removed]",
      "text/plain": [
       "<Figure size 432x288 with 1 Axes>"
      ]
     },
     "metadata": {},
     "output_type": "display_data"
    }
   ],
   "source": [
    "fig,ax = plt.subplots()\n",
    "ax.plot(times,y0_sim)\n",
    "ax.set_xlabel('time [s]')\n",
    "ax.set_ylabel('y0 [m]')"
   ]
  },
  {
   "cell_type": "code",
   "execution_count": 29,
   "metadata": {},
   "outputs": [
    {
     "data": {
      "text/plain": [
       "Text(0,0.5,'x0 [m]')"
      ]
     },
     "execution_count": 29,
     "metadata": {},
     "output_type": "execute_result"
    },
    {
     "data": {
      "image/png": "[encoded data removed]",
      "text/plain": [
       "<Figure size 432x288 with 1 Axes>"
      ]
     },
     "metadata": {},
     "output_type": "display_data"
    }
   ],
   "source": [
    "fig,ax = plt.subplots()\n",
    "ax.plot(y0_sim,x0_sim)\n",
    "ax.set_xlabel('y0 [m]')\n",
    "ax.set_ylabel('x0 [m]')\n"
   ]
  },
  {
   "cell_type": "code",
   "execution_count": null,
   "metadata": {},
   "outputs": [],
   "source": []
  }
 ],
 "metadata": {
  "kernelspec": {
   "display_name": "Python 3",
   "language": "python",
   "name": "python3"
  },
  "language_info": {
   "codemirror_mode": {
    "name": "ipython",
    "version": 3
   },
   "file_extension": ".py",
   "mimetype": "text/x-python",
   "name": "python",
   "nbconvert_exporter": "python",
   "pygments_lexer": "ipython3",
   "version": "3.6.5"
  }
 },
 "nbformat": 4,
 "nbformat_minor": 2
}
